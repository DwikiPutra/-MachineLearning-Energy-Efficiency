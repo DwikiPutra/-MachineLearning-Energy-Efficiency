{
 "cells": [
  {
   "cell_type": "code",
   "execution_count": 1,
   "id": "eleven-columbus",
   "metadata": {
    "_cell_guid": "b1076dfc-b9ad-4769-8c92-a6c4dae69d19",
    "_uuid": "8f2839f25d086af736a60e9eeb907d3b93b6e0e5",
    "execution": {
     "iopub.execute_input": "2021-06-02T14:40:33.279872Z",
     "iopub.status.busy": "2021-06-02T14:40:33.279125Z",
     "iopub.status.idle": "2021-06-02T14:40:34.918856Z",
     "shell.execute_reply": "2021-06-02T14:40:34.919431Z",
     "shell.execute_reply.started": "2021-06-02T14:39:27.561344Z"
    },
    "papermill": {
     "duration": 1.795974,
     "end_time": "2021-06-02T14:40:34.919838",
     "exception": false,
     "start_time": "2021-06-02T14:40:33.123864",
     "status": "completed"
    },
    "tags": []
   },
   "outputs": [
    {
     "name": "stdout",
     "output_type": "stream",
     "text": [
      "/kaggle/input/eergy-efficiency-dataset/ENB2012_data.csv\n"
     ]
    }
   ],
   "source": [
    "# This Python 3 environment comes with many helpful analytics libraries installed\n",
    "# It is defined by the kaggle/python Docker image: https://github.com/kaggle/docker-python\n",
    "# For example, here's several helpful packages to load\n",
    "\n",
    "import pandas as pd # data processing, CSV file I/O (e.g. pd.read_csv)\n",
    "import matplotlib.pyplot as plt\n",
    "import seaborn as sns\n",
    "\n",
    "from sklearn.model_selection import train_test_split\n",
    "from sklearn.linear_model import LinearRegression\n",
    "from sklearn.preprocessing import StandardScaler\n",
    "from sklearn.tree import DecisionTreeRegressor\n",
    "from sklearn.ensemble import RandomForestRegressor\n",
    "from sklearn.neighbors import KNeighborsRegressor\n",
    "from sklearn.metrics import r2_score\n",
    "\n",
    "\n",
    "%matplotlib inline\n",
    "\n",
    "# Input data files are available in the read-only \"../input/\" directory\n",
    "# For example, running this (by clicking run or pressing Shift+Enter) will list all files under the input directory\n",
    "\n",
    "import os\n",
    "for dirname, _, filenames in os.walk('/kaggle/input'):\n",
    "    for filename in filenames:\n",
    "        print(os.path.join(dirname, filename))\n",
    "\n",
    "# You can write up to 20GB to the current directory (/kaggle/working/) that gets preserved as output when you create a version using \"Save & Run All\" \n",
    "# You can also write temporary files to /kaggle/temp/, but they won't be saved outside of the current session"
   ]
  },
  {
   "cell_type": "markdown",
   "id": "psychological-secretary",
   "metadata": {
    "papermill": {
     "duration": 0.142051,
     "end_time": "2021-06-02T14:40:35.206963",
     "exception": false,
     "start_time": "2021-06-02T14:40:35.064912",
     "status": "completed"
    },
    "tags": []
   },
   "source": [
    "### Load the data"
   ]
  },
  {
   "cell_type": "code",
   "execution_count": 2,
   "id": "sufficient-architect",
   "metadata": {
    "execution": {
     "iopub.execute_input": "2021-06-02T14:40:35.498740Z",
     "iopub.status.busy": "2021-06-02T14:40:35.497944Z",
     "iopub.status.idle": "2021-06-02T14:40:35.524018Z",
     "shell.execute_reply": "2021-06-02T14:40:35.523408Z",
     "shell.execute_reply.started": "2021-06-02T14:39:29.087907Z"
    },
    "papermill": {
     "duration": 0.174744,
     "end_time": "2021-06-02T14:40:35.524207",
     "exception": false,
     "start_time": "2021-06-02T14:40:35.349463",
     "status": "completed"
    },
    "tags": []
   },
   "outputs": [],
   "source": [
    "data = pd.read_csv(\"../input/eergy-efficiency-dataset/ENB2012_data.csv\")"
   ]
  },
  {
   "cell_type": "code",
   "execution_count": 3,
   "id": "square-cholesterol",
   "metadata": {
    "execution": {
     "iopub.execute_input": "2021-06-02T14:40:35.806506Z",
     "iopub.status.busy": "2021-06-02T14:40:35.805664Z",
     "iopub.status.idle": "2021-06-02T14:40:35.809180Z",
     "shell.execute_reply": "2021-06-02T14:40:35.808581Z",
     "shell.execute_reply.started": "2021-06-02T14:39:29.111732Z"
    },
    "papermill": {
     "duration": 0.143391,
     "end_time": "2021-06-02T14:40:35.809364",
     "exception": false,
     "start_time": "2021-06-02T14:40:35.665973",
     "status": "completed"
    },
    "tags": []
   },
   "outputs": [],
   "source": [
    "data.columns = [\"Relative Compactness\", \"Surface Area\", \"Wall Area\", \"Roof Area\", \"Overall Height\",\n",
    "               \"Orientation\", \"Glazing Area\", \"Glazing Area Distribution\", \"Heating Load\", \n",
    "                \"Cooling Load\"]"
   ]
  },
  {
   "cell_type": "code",
   "execution_count": 4,
   "id": "early-trade",
   "metadata": {
    "execution": {
     "iopub.execute_input": "2021-06-02T14:40:36.109048Z",
     "iopub.status.busy": "2021-06-02T14:40:36.107293Z",
     "iopub.status.idle": "2021-06-02T14:40:36.145785Z",
     "shell.execute_reply": "2021-06-02T14:40:36.146532Z",
     "shell.execute_reply.started": "2021-06-02T14:39:29.119284Z"
    },
    "papermill": {
     "duration": 0.200294,
     "end_time": "2021-06-02T14:40:36.146754",
     "exception": false,
     "start_time": "2021-06-02T14:40:35.946460",
     "status": "completed"
    },
    "tags": []
   },
   "outputs": [
    {
     "data": {
      "text/html": [
       "<div>\n",
       "<style scoped>\n",
       "    .dataframe tbody tr th:only-of-type {\n",
       "        vertical-align: middle;\n",
       "    }\n",
       "\n",
       "    .dataframe tbody tr th {\n",
       "        vertical-align: top;\n",
       "    }\n",
       "\n",
       "    .dataframe thead th {\n",
       "        text-align: right;\n",
       "    }\n",
       "</style>\n",
       "<table border=\"1\" class=\"dataframe\">\n",
       "  <thead>\n",
       "    <tr style=\"text-align: right;\">\n",
       "      <th></th>\n",
       "      <th>Relative Compactness</th>\n",
       "      <th>Surface Area</th>\n",
       "      <th>Wall Area</th>\n",
       "      <th>Roof Area</th>\n",
       "      <th>Overall Height</th>\n",
       "      <th>Orientation</th>\n",
       "      <th>Glazing Area</th>\n",
       "      <th>Glazing Area Distribution</th>\n",
       "      <th>Heating Load</th>\n",
       "      <th>Cooling Load</th>\n",
       "    </tr>\n",
       "  </thead>\n",
       "  <tbody>\n",
       "    <tr>\n",
       "      <th>0</th>\n",
       "      <td>0.98</td>\n",
       "      <td>514.5</td>\n",
       "      <td>294.0</td>\n",
       "      <td>110.25</td>\n",
       "      <td>7.0</td>\n",
       "      <td>2</td>\n",
       "      <td>0.0</td>\n",
       "      <td>0</td>\n",
       "      <td>15.55</td>\n",
       "      <td>21.33</td>\n",
       "    </tr>\n",
       "    <tr>\n",
       "      <th>1</th>\n",
       "      <td>0.98</td>\n",
       "      <td>514.5</td>\n",
       "      <td>294.0</td>\n",
       "      <td>110.25</td>\n",
       "      <td>7.0</td>\n",
       "      <td>3</td>\n",
       "      <td>0.0</td>\n",
       "      <td>0</td>\n",
       "      <td>15.55</td>\n",
       "      <td>21.33</td>\n",
       "    </tr>\n",
       "    <tr>\n",
       "      <th>2</th>\n",
       "      <td>0.98</td>\n",
       "      <td>514.5</td>\n",
       "      <td>294.0</td>\n",
       "      <td>110.25</td>\n",
       "      <td>7.0</td>\n",
       "      <td>4</td>\n",
       "      <td>0.0</td>\n",
       "      <td>0</td>\n",
       "      <td>15.55</td>\n",
       "      <td>21.33</td>\n",
       "    </tr>\n",
       "    <tr>\n",
       "      <th>3</th>\n",
       "      <td>0.98</td>\n",
       "      <td>514.5</td>\n",
       "      <td>294.0</td>\n",
       "      <td>110.25</td>\n",
       "      <td>7.0</td>\n",
       "      <td>5</td>\n",
       "      <td>0.0</td>\n",
       "      <td>0</td>\n",
       "      <td>15.55</td>\n",
       "      <td>21.33</td>\n",
       "    </tr>\n",
       "    <tr>\n",
       "      <th>4</th>\n",
       "      <td>0.90</td>\n",
       "      <td>563.5</td>\n",
       "      <td>318.5</td>\n",
       "      <td>122.50</td>\n",
       "      <td>7.0</td>\n",
       "      <td>2</td>\n",
       "      <td>0.0</td>\n",
       "      <td>0</td>\n",
       "      <td>20.84</td>\n",
       "      <td>28.28</td>\n",
       "    </tr>\n",
       "    <tr>\n",
       "      <th>...</th>\n",
       "      <td>...</td>\n",
       "      <td>...</td>\n",
       "      <td>...</td>\n",
       "      <td>...</td>\n",
       "      <td>...</td>\n",
       "      <td>...</td>\n",
       "      <td>...</td>\n",
       "      <td>...</td>\n",
       "      <td>...</td>\n",
       "      <td>...</td>\n",
       "    </tr>\n",
       "    <tr>\n",
       "      <th>763</th>\n",
       "      <td>0.64</td>\n",
       "      <td>784.0</td>\n",
       "      <td>343.0</td>\n",
       "      <td>220.50</td>\n",
       "      <td>3.5</td>\n",
       "      <td>5</td>\n",
       "      <td>0.4</td>\n",
       "      <td>5</td>\n",
       "      <td>17.88</td>\n",
       "      <td>21.40</td>\n",
       "    </tr>\n",
       "    <tr>\n",
       "      <th>764</th>\n",
       "      <td>0.62</td>\n",
       "      <td>808.5</td>\n",
       "      <td>367.5</td>\n",
       "      <td>220.50</td>\n",
       "      <td>3.5</td>\n",
       "      <td>2</td>\n",
       "      <td>0.4</td>\n",
       "      <td>5</td>\n",
       "      <td>16.54</td>\n",
       "      <td>16.88</td>\n",
       "    </tr>\n",
       "    <tr>\n",
       "      <th>765</th>\n",
       "      <td>0.62</td>\n",
       "      <td>808.5</td>\n",
       "      <td>367.5</td>\n",
       "      <td>220.50</td>\n",
       "      <td>3.5</td>\n",
       "      <td>3</td>\n",
       "      <td>0.4</td>\n",
       "      <td>5</td>\n",
       "      <td>16.44</td>\n",
       "      <td>17.11</td>\n",
       "    </tr>\n",
       "    <tr>\n",
       "      <th>766</th>\n",
       "      <td>0.62</td>\n",
       "      <td>808.5</td>\n",
       "      <td>367.5</td>\n",
       "      <td>220.50</td>\n",
       "      <td>3.5</td>\n",
       "      <td>4</td>\n",
       "      <td>0.4</td>\n",
       "      <td>5</td>\n",
       "      <td>16.48</td>\n",
       "      <td>16.61</td>\n",
       "    </tr>\n",
       "    <tr>\n",
       "      <th>767</th>\n",
       "      <td>0.62</td>\n",
       "      <td>808.5</td>\n",
       "      <td>367.5</td>\n",
       "      <td>220.50</td>\n",
       "      <td>3.5</td>\n",
       "      <td>5</td>\n",
       "      <td>0.4</td>\n",
       "      <td>5</td>\n",
       "      <td>16.64</td>\n",
       "      <td>16.03</td>\n",
       "    </tr>\n",
       "  </tbody>\n",
       "</table>\n",
       "<p>768 rows × 10 columns</p>\n",
       "</div>"
      ],
      "text/plain": [
       "     Relative Compactness  Surface Area  Wall Area  Roof Area  Overall Height  \\\n",
       "0                    0.98         514.5      294.0     110.25             7.0   \n",
       "1                    0.98         514.5      294.0     110.25             7.0   \n",
       "2                    0.98         514.5      294.0     110.25             7.0   \n",
       "3                    0.98         514.5      294.0     110.25             7.0   \n",
       "4                    0.90         563.5      318.5     122.50             7.0   \n",
       "..                    ...           ...        ...        ...             ...   \n",
       "763                  0.64         784.0      343.0     220.50             3.5   \n",
       "764                  0.62         808.5      367.5     220.50             3.5   \n",
       "765                  0.62         808.5      367.5     220.50             3.5   \n",
       "766                  0.62         808.5      367.5     220.50             3.5   \n",
       "767                  0.62         808.5      367.5     220.50             3.5   \n",
       "\n",
       "     Orientation  Glazing Area  Glazing Area Distribution  Heating Load  \\\n",
       "0              2           0.0                          0         15.55   \n",
       "1              3           0.0                          0         15.55   \n",
       "2              4           0.0                          0         15.55   \n",
       "3              5           0.0                          0         15.55   \n",
       "4              2           0.0                          0         20.84   \n",
       "..           ...           ...                        ...           ...   \n",
       "763            5           0.4                          5         17.88   \n",
       "764            2           0.4                          5         16.54   \n",
       "765            3           0.4                          5         16.44   \n",
       "766            4           0.4                          5         16.48   \n",
       "767            5           0.4                          5         16.64   \n",
       "\n",
       "     Cooling Load  \n",
       "0           21.33  \n",
       "1           21.33  \n",
       "2           21.33  \n",
       "3           21.33  \n",
       "4           28.28  \n",
       "..            ...  \n",
       "763         21.40  \n",
       "764         16.88  \n",
       "765         17.11  \n",
       "766         16.61  \n",
       "767         16.03  \n",
       "\n",
       "[768 rows x 10 columns]"
      ]
     },
     "execution_count": 4,
     "metadata": {},
     "output_type": "execute_result"
    }
   ],
   "source": [
    "data"
   ]
  },
  {
   "cell_type": "markdown",
   "id": "deadly-night",
   "metadata": {
    "papermill": {
     "duration": 0.140073,
     "end_time": "2021-06-02T14:40:36.427181",
     "exception": false,
     "start_time": "2021-06-02T14:40:36.287108",
     "status": "completed"
    },
    "tags": []
   },
   "source": [
    "### Data type"
   ]
  },
  {
   "cell_type": "code",
   "execution_count": 5,
   "id": "japanese-xerox",
   "metadata": {
    "execution": {
     "iopub.execute_input": "2021-06-02T14:40:36.709168Z",
     "iopub.status.busy": "2021-06-02T14:40:36.708011Z",
     "iopub.status.idle": "2021-06-02T14:40:36.732283Z",
     "shell.execute_reply": "2021-06-02T14:40:36.732963Z",
     "shell.execute_reply.started": "2021-06-02T14:39:29.191175Z"
    },
    "papermill": {
     "duration": 0.163981,
     "end_time": "2021-06-02T14:40:36.733192",
     "exception": false,
     "start_time": "2021-06-02T14:40:36.569211",
     "status": "completed"
    },
    "tags": []
   },
   "outputs": [
    {
     "name": "stdout",
     "output_type": "stream",
     "text": [
      "<class 'pandas.core.frame.DataFrame'>\n",
      "RangeIndex: 768 entries, 0 to 767\n",
      "Data columns (total 10 columns):\n",
      " #   Column                     Non-Null Count  Dtype  \n",
      "---  ------                     --------------  -----  \n",
      " 0   Relative Compactness       768 non-null    float64\n",
      " 1   Surface Area               768 non-null    float64\n",
      " 2   Wall Area                  768 non-null    float64\n",
      " 3   Roof Area                  768 non-null    float64\n",
      " 4   Overall Height             768 non-null    float64\n",
      " 5   Orientation                768 non-null    int64  \n",
      " 6   Glazing Area               768 non-null    float64\n",
      " 7   Glazing Area Distribution  768 non-null    int64  \n",
      " 8   Heating Load               768 non-null    float64\n",
      " 9   Cooling Load               768 non-null    float64\n",
      "dtypes: float64(8), int64(2)\n",
      "memory usage: 60.1 KB\n"
     ]
    }
   ],
   "source": [
    "data.info()"
   ]
  },
  {
   "cell_type": "markdown",
   "id": "premier-encyclopedia",
   "metadata": {
    "papermill": {
     "duration": 0.136199,
     "end_time": "2021-06-02T14:40:37.005722",
     "exception": false,
     "start_time": "2021-06-02T14:40:36.869523",
     "status": "completed"
    },
    "tags": []
   },
   "source": [
    "### Data Preprocessing"
   ]
  },
  {
   "cell_type": "code",
   "execution_count": 6,
   "id": "european-jersey",
   "metadata": {
    "execution": {
     "iopub.execute_input": "2021-06-02T14:40:37.284527Z",
     "iopub.status.busy": "2021-06-02T14:40:37.283751Z",
     "iopub.status.idle": "2021-06-02T14:40:37.292385Z",
     "shell.execute_reply": "2021-06-02T14:40:37.291823Z",
     "shell.execute_reply.started": "2021-06-02T14:39:29.216119Z"
    },
    "papermill": {
     "duration": 0.149711,
     "end_time": "2021-06-02T14:40:37.292570",
     "exception": false,
     "start_time": "2021-06-02T14:40:37.142859",
     "status": "completed"
    },
    "tags": []
   },
   "outputs": [
    {
     "data": {
      "text/plain": [
       "Relative Compactness         0\n",
       "Surface Area                 0\n",
       "Wall Area                    0\n",
       "Roof Area                    0\n",
       "Overall Height               0\n",
       "Orientation                  0\n",
       "Glazing Area                 0\n",
       "Glazing Area Distribution    0\n",
       "Heating Load                 0\n",
       "Cooling Load                 0\n",
       "dtype: int64"
      ]
     },
     "execution_count": 6,
     "metadata": {},
     "output_type": "execute_result"
    }
   ],
   "source": [
    "# Check missing values\n",
    "data.isnull().sum()"
   ]
  },
  {
   "cell_type": "code",
   "execution_count": 7,
   "id": "thermal-astronomy",
   "metadata": {
    "execution": {
     "iopub.execute_input": "2021-06-02T14:40:37.577693Z",
     "iopub.status.busy": "2021-06-02T14:40:37.576637Z",
     "iopub.status.idle": "2021-06-02T14:40:37.582193Z",
     "shell.execute_reply": "2021-06-02T14:40:37.581531Z",
     "shell.execute_reply.started": "2021-06-02T14:39:29.240039Z"
    },
    "papermill": {
     "duration": 0.151564,
     "end_time": "2021-06-02T14:40:37.582394",
     "exception": false,
     "start_time": "2021-06-02T14:40:37.430830",
     "status": "completed"
    },
    "tags": []
   },
   "outputs": [
    {
     "data": {
      "text/plain": [
       "(768, 10)"
      ]
     },
     "execution_count": 7,
     "metadata": {},
     "output_type": "execute_result"
    }
   ],
   "source": [
    "data.shape"
   ]
  },
  {
   "cell_type": "code",
   "execution_count": 8,
   "id": "stone-amsterdam",
   "metadata": {
    "execution": {
     "iopub.execute_input": "2021-06-02T14:40:37.866847Z",
     "iopub.status.busy": "2021-06-02T14:40:37.866040Z",
     "iopub.status.idle": "2021-06-02T14:40:37.910045Z",
     "shell.execute_reply": "2021-06-02T14:40:37.910589Z",
     "shell.execute_reply.started": "2021-06-02T14:39:29.257063Z"
    },
    "papermill": {
     "duration": 0.190539,
     "end_time": "2021-06-02T14:40:37.910798",
     "exception": false,
     "start_time": "2021-06-02T14:40:37.720259",
     "status": "completed"
    },
    "tags": []
   },
   "outputs": [
    {
     "data": {
      "text/html": [
       "<div>\n",
       "<style scoped>\n",
       "    .dataframe tbody tr th:only-of-type {\n",
       "        vertical-align: middle;\n",
       "    }\n",
       "\n",
       "    .dataframe tbody tr th {\n",
       "        vertical-align: top;\n",
       "    }\n",
       "\n",
       "    .dataframe thead th {\n",
       "        text-align: right;\n",
       "    }\n",
       "</style>\n",
       "<table border=\"1\" class=\"dataframe\">\n",
       "  <thead>\n",
       "    <tr style=\"text-align: right;\">\n",
       "      <th></th>\n",
       "      <th>Relative Compactness</th>\n",
       "      <th>Surface Area</th>\n",
       "      <th>Wall Area</th>\n",
       "      <th>Roof Area</th>\n",
       "      <th>Overall Height</th>\n",
       "      <th>Orientation</th>\n",
       "      <th>Glazing Area</th>\n",
       "      <th>Glazing Area Distribution</th>\n",
       "      <th>Heating Load</th>\n",
       "      <th>Cooling Load</th>\n",
       "    </tr>\n",
       "  </thead>\n",
       "  <tbody>\n",
       "    <tr>\n",
       "      <th>count</th>\n",
       "      <td>768.000000</td>\n",
       "      <td>768.000000</td>\n",
       "      <td>768.000000</td>\n",
       "      <td>768.000000</td>\n",
       "      <td>768.00000</td>\n",
       "      <td>768.000000</td>\n",
       "      <td>768.000000</td>\n",
       "      <td>768.00000</td>\n",
       "      <td>768.000000</td>\n",
       "      <td>768.000000</td>\n",
       "    </tr>\n",
       "    <tr>\n",
       "      <th>mean</th>\n",
       "      <td>0.764167</td>\n",
       "      <td>671.708333</td>\n",
       "      <td>318.500000</td>\n",
       "      <td>176.604167</td>\n",
       "      <td>5.25000</td>\n",
       "      <td>3.500000</td>\n",
       "      <td>0.234375</td>\n",
       "      <td>2.81250</td>\n",
       "      <td>22.307201</td>\n",
       "      <td>24.587760</td>\n",
       "    </tr>\n",
       "    <tr>\n",
       "      <th>std</th>\n",
       "      <td>0.105777</td>\n",
       "      <td>88.086116</td>\n",
       "      <td>43.626481</td>\n",
       "      <td>45.165950</td>\n",
       "      <td>1.75114</td>\n",
       "      <td>1.118763</td>\n",
       "      <td>0.133221</td>\n",
       "      <td>1.55096</td>\n",
       "      <td>10.090196</td>\n",
       "      <td>9.513306</td>\n",
       "    </tr>\n",
       "    <tr>\n",
       "      <th>min</th>\n",
       "      <td>0.620000</td>\n",
       "      <td>514.500000</td>\n",
       "      <td>245.000000</td>\n",
       "      <td>110.250000</td>\n",
       "      <td>3.50000</td>\n",
       "      <td>2.000000</td>\n",
       "      <td>0.000000</td>\n",
       "      <td>0.00000</td>\n",
       "      <td>6.010000</td>\n",
       "      <td>10.900000</td>\n",
       "    </tr>\n",
       "    <tr>\n",
       "      <th>25%</th>\n",
       "      <td>0.682500</td>\n",
       "      <td>606.375000</td>\n",
       "      <td>294.000000</td>\n",
       "      <td>140.875000</td>\n",
       "      <td>3.50000</td>\n",
       "      <td>2.750000</td>\n",
       "      <td>0.100000</td>\n",
       "      <td>1.75000</td>\n",
       "      <td>12.992500</td>\n",
       "      <td>15.620000</td>\n",
       "    </tr>\n",
       "    <tr>\n",
       "      <th>50%</th>\n",
       "      <td>0.750000</td>\n",
       "      <td>673.750000</td>\n",
       "      <td>318.500000</td>\n",
       "      <td>183.750000</td>\n",
       "      <td>5.25000</td>\n",
       "      <td>3.500000</td>\n",
       "      <td>0.250000</td>\n",
       "      <td>3.00000</td>\n",
       "      <td>18.950000</td>\n",
       "      <td>22.080000</td>\n",
       "    </tr>\n",
       "    <tr>\n",
       "      <th>75%</th>\n",
       "      <td>0.830000</td>\n",
       "      <td>741.125000</td>\n",
       "      <td>343.000000</td>\n",
       "      <td>220.500000</td>\n",
       "      <td>7.00000</td>\n",
       "      <td>4.250000</td>\n",
       "      <td>0.400000</td>\n",
       "      <td>4.00000</td>\n",
       "      <td>31.667500</td>\n",
       "      <td>33.132500</td>\n",
       "    </tr>\n",
       "    <tr>\n",
       "      <th>max</th>\n",
       "      <td>0.980000</td>\n",
       "      <td>808.500000</td>\n",
       "      <td>416.500000</td>\n",
       "      <td>220.500000</td>\n",
       "      <td>7.00000</td>\n",
       "      <td>5.000000</td>\n",
       "      <td>0.400000</td>\n",
       "      <td>5.00000</td>\n",
       "      <td>43.100000</td>\n",
       "      <td>48.030000</td>\n",
       "    </tr>\n",
       "  </tbody>\n",
       "</table>\n",
       "</div>"
      ],
      "text/plain": [
       "       Relative Compactness  Surface Area   Wall Area   Roof Area  \\\n",
       "count            768.000000    768.000000  768.000000  768.000000   \n",
       "mean               0.764167    671.708333  318.500000  176.604167   \n",
       "std                0.105777     88.086116   43.626481   45.165950   \n",
       "min                0.620000    514.500000  245.000000  110.250000   \n",
       "25%                0.682500    606.375000  294.000000  140.875000   \n",
       "50%                0.750000    673.750000  318.500000  183.750000   \n",
       "75%                0.830000    741.125000  343.000000  220.500000   \n",
       "max                0.980000    808.500000  416.500000  220.500000   \n",
       "\n",
       "       Overall Height  Orientation  Glazing Area  Glazing Area Distribution  \\\n",
       "count       768.00000   768.000000    768.000000                  768.00000   \n",
       "mean          5.25000     3.500000      0.234375                    2.81250   \n",
       "std           1.75114     1.118763      0.133221                    1.55096   \n",
       "min           3.50000     2.000000      0.000000                    0.00000   \n",
       "25%           3.50000     2.750000      0.100000                    1.75000   \n",
       "50%           5.25000     3.500000      0.250000                    3.00000   \n",
       "75%           7.00000     4.250000      0.400000                    4.00000   \n",
       "max           7.00000     5.000000      0.400000                    5.00000   \n",
       "\n",
       "       Heating Load  Cooling Load  \n",
       "count    768.000000    768.000000  \n",
       "mean      22.307201     24.587760  \n",
       "std       10.090196      9.513306  \n",
       "min        6.010000     10.900000  \n",
       "25%       12.992500     15.620000  \n",
       "50%       18.950000     22.080000  \n",
       "75%       31.667500     33.132500  \n",
       "max       43.100000     48.030000  "
      ]
     },
     "execution_count": 8,
     "metadata": {},
     "output_type": "execute_result"
    }
   ],
   "source": [
    "# Summary statistics\n",
    "data.describe()"
   ]
  },
  {
   "cell_type": "markdown",
   "id": "compressed-morris",
   "metadata": {
    "papermill": {
     "duration": 0.13665,
     "end_time": "2021-06-02T14:40:38.184160",
     "exception": false,
     "start_time": "2021-06-02T14:40:38.047510",
     "status": "completed"
    },
    "tags": []
   },
   "source": [
    "## Data Exploration"
   ]
  },
  {
   "cell_type": "markdown",
   "id": "outdoor-satin",
   "metadata": {
    "papermill": {
     "duration": 0.136037,
     "end_time": "2021-06-02T14:40:38.453494",
     "exception": false,
     "start_time": "2021-06-02T14:40:38.317457",
     "status": "completed"
    },
    "tags": []
   },
   "source": [
    "**Relative Compactness**"
   ]
  },
  {
   "cell_type": "code",
   "execution_count": 9,
   "id": "asian-pharmaceutical",
   "metadata": {
    "execution": {
     "iopub.execute_input": "2021-06-02T14:40:38.816433Z",
     "iopub.status.busy": "2021-06-02T14:40:38.815669Z",
     "iopub.status.idle": "2021-06-02T14:40:38.819295Z",
     "shell.execute_reply": "2021-06-02T14:40:38.819876Z",
     "shell.execute_reply.started": "2021-06-02T14:39:29.318166Z"
    },
    "papermill": {
     "duration": 0.148705,
     "end_time": "2021-06-02T14:40:38.820176",
     "exception": false,
     "start_time": "2021-06-02T14:40:38.671471",
     "status": "completed"
    },
    "tags": []
   },
   "outputs": [
    {
     "data": {
      "text/plain": [
       "12"
      ]
     },
     "execution_count": 9,
     "metadata": {},
     "output_type": "execute_result"
    }
   ],
   "source": [
    "data['Relative Compactness'].unique().size"
   ]
  },
  {
   "cell_type": "code",
   "execution_count": 10,
   "id": "married-uzbekistan",
   "metadata": {
    "execution": {
     "iopub.execute_input": "2021-06-02T14:40:39.107605Z",
     "iopub.status.busy": "2021-06-02T14:40:39.106851Z",
     "iopub.status.idle": "2021-06-02T14:40:39.288591Z",
     "shell.execute_reply": "2021-06-02T14:40:39.287835Z",
     "shell.execute_reply.started": "2021-06-02T14:39:29.327012Z"
    },
    "papermill": {
     "duration": 0.328722,
     "end_time": "2021-06-02T14:40:39.288759",
     "exception": false,
     "start_time": "2021-06-02T14:40:38.960037",
     "status": "completed"
    },
    "tags": []
   },
   "outputs": [
    {
     "data": {
      "text/plain": [
       "<AxesSubplot:xlabel='Relative Compactness'>"
      ]
     },
     "execution_count": 10,
     "metadata": {},
     "output_type": "execute_result"
    },
    {
     "data": {
      "image/png": "[encoded data removed]",
      "text/plain": [
       "<Figure size 432x288 with 1 Axes>"
      ]
     },
     "metadata": {
      "needs_background": "light"
     },
     "output_type": "display_data"
    }
   ],
   "source": [
    "sns.boxplot(x = data['Relative Compactness'], color = \"slateblue\")"
   ]
  },
  {
   "cell_type": "code",
   "execution_count": 11,
   "id": "preceding-oxygen",
   "metadata": {
    "execution": {
     "iopub.execute_input": "2021-06-02T14:40:39.619720Z",
     "iopub.status.busy": "2021-06-02T14:40:39.618841Z",
     "iopub.status.idle": "2021-06-02T14:40:39.801520Z",
     "shell.execute_reply": "2021-06-02T14:40:39.800849Z",
     "shell.execute_reply.started": "2021-06-02T14:39:29.497974Z"
    },
    "papermill": {
     "duration": 0.367158,
     "end_time": "2021-06-02T14:40:39.801712",
     "exception": false,
     "start_time": "2021-06-02T14:40:39.434554",
     "status": "completed"
    },
    "tags": []
   },
   "outputs": [
    {
     "data": {
      "text/plain": [
       "<function matplotlib.pyplot.show(close=None, block=None)>"
      ]
     },
     "execution_count": 11,
     "metadata": {},
     "output_type": "execute_result"
    },
    {
     "data": {
      "image/png": "[encoded data removed]",
      "text/plain": [
       "<Figure size 432x288 with 1 Axes>"
      ]
     },
     "metadata": {
      "needs_background": "light"
     },
     "output_type": "display_data"
    }
   ],
   "source": [
    "## sebaran data berdasarkan atribut heating load pada Relative Compactness\n",
    "x = data['Relative Compactness']\n",
    "y = data['Heating Load']\n",
    "plt.scatter(x, y, color = \"crimson\")\n",
    "plt.xlabel('Relative Compactness')\n",
    "plt.ylabel('Heating Load')\n",
    "plt.show"
   ]
  },
  {
   "cell_type": "code",
   "execution_count": 12,
   "id": "bottom-syndication",
   "metadata": {
    "execution": {
     "iopub.execute_input": "2021-06-02T14:40:40.093804Z",
     "iopub.status.busy": "2021-06-02T14:40:40.093011Z",
     "iopub.status.idle": "2021-06-02T14:40:40.268246Z",
     "shell.execute_reply": "2021-06-02T14:40:40.267544Z",
     "shell.execute_reply.started": "2021-06-02T14:39:29.683779Z"
    },
    "papermill": {
     "duration": 0.31997,
     "end_time": "2021-06-02T14:40:40.268427",
     "exception": false,
     "start_time": "2021-06-02T14:40:39.948457",
     "status": "completed"
    },
    "tags": []
   },
   "outputs": [
    {
     "data": {
      "text/plain": [
       "<function matplotlib.pyplot.show(close=None, block=None)>"
      ]
     },
     "execution_count": 12,
     "metadata": {},
     "output_type": "execute_result"
    },
    {
     "data": {
      "image/png": "[encoded data removed]",
      "text/plain": [
       "<Figure size 432x288 with 1 Axes>"
      ]
     },
     "metadata": {
      "needs_background": "light"
     },
     "output_type": "display_data"
    }
   ],
   "source": [
    "## sebaran data berdasarkan atribut cooling load pada Relative Compactness\n",
    "x = data['Relative Compactness']\n",
    "y = data['Cooling Load']\n",
    "plt.scatter(x, y, color = \"deepskyblue\")\n",
    "plt.xlabel('Relative Compactness')\n",
    "plt.ylabel('Cooling Load')\n",
    "plt.show"
   ]
  },
  {
   "cell_type": "markdown",
   "id": "amber-atlas",
   "metadata": {
    "papermill": {
     "duration": 0.139028,
     "end_time": "2021-06-02T14:40:40.545111",
     "exception": false,
     "start_time": "2021-06-02T14:40:40.406083",
     "status": "completed"
    },
    "tags": []
   },
   "source": [
    "**Surface Area**"
   ]
  },
  {
   "cell_type": "code",
   "execution_count": 13,
   "id": "religious-burst",
   "metadata": {
    "execution": {
     "iopub.execute_input": "2021-06-02T14:40:40.826443Z",
     "iopub.status.busy": "2021-06-02T14:40:40.825501Z",
     "iopub.status.idle": "2021-06-02T14:40:40.829193Z",
     "shell.execute_reply": "2021-06-02T14:40:40.829861Z",
     "shell.execute_reply.started": "2021-06-02T14:39:29.873711Z"
    },
    "papermill": {
     "duration": 0.147802,
     "end_time": "2021-06-02T14:40:40.830098",
     "exception": false,
     "start_time": "2021-06-02T14:40:40.682296",
     "status": "completed"
    },
    "tags": []
   },
   "outputs": [
    {
     "data": {
      "text/plain": [
       "12"
      ]
     },
     "execution_count": 13,
     "metadata": {},
     "output_type": "execute_result"
    }
   ],
   "source": [
    "data['Surface Area'].unique().size"
   ]
  },
  {
   "cell_type": "code",
   "execution_count": 14,
   "id": "formal-consumer",
   "metadata": {
    "execution": {
     "iopub.execute_input": "2021-06-02T14:40:41.302386Z",
     "iopub.status.busy": "2021-06-02T14:40:41.296003Z",
     "iopub.status.idle": "2021-06-02T14:40:41.413459Z",
     "shell.execute_reply": "2021-06-02T14:40:41.412167Z",
     "shell.execute_reply.started": "2021-06-02T14:39:29.882808Z"
    },
    "papermill": {
     "duration": 0.445705,
     "end_time": "2021-06-02T14:40:41.413670",
     "exception": false,
     "start_time": "2021-06-02T14:40:40.967965",
     "status": "completed"
    },
    "tags": []
   },
   "outputs": [
    {
     "data": {
      "text/plain": [
       "<AxesSubplot:xlabel='Surface Area'>"
      ]
     },
     "execution_count": 14,
     "metadata": {},
     "output_type": "execute_result"
    },
    {
     "data": {
      "image/png": "[encoded data removed]",
      "text/plain": [
       "<Figure size 432x288 with 1 Axes>"
      ]
     },
     "metadata": {
      "needs_background": "light"
     },
     "output_type": "display_data"
    }
   ],
   "source": [
    "sns.boxplot(x = data['Surface Area'], color = \"gold\")"
   ]
  },
  {
   "cell_type": "code",
   "execution_count": 15,
   "id": "foster-sunday",
   "metadata": {
    "execution": {
     "iopub.execute_input": "2021-06-02T14:40:41.728994Z",
     "iopub.status.busy": "2021-06-02T14:40:41.725151Z",
     "iopub.status.idle": "2021-06-02T14:40:41.883024Z",
     "shell.execute_reply": "2021-06-02T14:40:41.882264Z",
     "shell.execute_reply.started": "2021-06-02T14:39:30.124572Z"
    },
    "papermill": {
     "duration": 0.326453,
     "end_time": "2021-06-02T14:40:41.883196",
     "exception": false,
     "start_time": "2021-06-02T14:40:41.556743",
     "status": "completed"
    },
    "tags": []
   },
   "outputs": [
    {
     "data": {
      "text/plain": [
       "<function matplotlib.pyplot.show(close=None, block=None)>"
      ]
     },
     "execution_count": 15,
     "metadata": {},
     "output_type": "execute_result"
    },
    {
     "data": {
      "image/png": "[encoded data removed]",
      "text/plain": [
       "<Figure size 432x288 with 1 Axes>"
      ]
     },
     "metadata": {
      "needs_background": "light"
     },
     "output_type": "display_data"
    }
   ],
   "source": [
    "## sebaran data berdasarkan atribut heating load pada Surface Area\n",
    "x = data['Surface Area']\n",
    "y = data['Heating Load']\n",
    "plt.scatter(x, y, color =\"crimson\")\n",
    "plt.xlabel('Surface Area')\n",
    "plt.ylabel('Heating Load')\n",
    "plt.show"
   ]
  },
  {
   "cell_type": "code",
   "execution_count": 16,
   "id": "reliable-universal",
   "metadata": {
    "execution": {
     "iopub.execute_input": "2021-06-02T14:40:42.200638Z",
     "iopub.status.busy": "2021-06-02T14:40:42.197636Z",
     "iopub.status.idle": "2021-06-02T14:40:42.353726Z",
     "shell.execute_reply": "2021-06-02T14:40:42.353096Z",
     "shell.execute_reply.started": "2021-06-02T14:39:30.294148Z"
    },
    "papermill": {
     "duration": 0.329606,
     "end_time": "2021-06-02T14:40:42.353889",
     "exception": false,
     "start_time": "2021-06-02T14:40:42.024283",
     "status": "completed"
    },
    "tags": []
   },
   "outputs": [
    {
     "data": {
      "text/plain": [
       "<function matplotlib.pyplot.show(close=None, block=None)>"
      ]
     },
     "execution_count": 16,
     "metadata": {},
     "output_type": "execute_result"
    },
    {
     "data": {
      "image/png": "[encoded data removed]",
      "text/plain": [
       "<Figure size 432x288 with 1 Axes>"
      ]
     },
     "metadata": {
      "needs_background": "light"
     },
     "output_type": "display_data"
    }
   ],
   "source": [
    "## sebaran data berdasarkan atribut cooling load pada Surface Area\n",
    "x = data['Surface Area']\n",
    "y = data['Cooling Load']\n",
    "plt.scatter(x, y, color =\"deepskyblue\")\n",
    "plt.xlabel('Surface Area')\n",
    "plt.ylabel('Cooling Load')\n",
    "plt.show"
   ]
  },
  {
   "cell_type": "markdown",
   "id": "familiar-warehouse",
   "metadata": {
    "papermill": {
     "duration": 0.153642,
     "end_time": "2021-06-02T14:40:42.648724",
     "exception": false,
     "start_time": "2021-06-02T14:40:42.495082",
     "status": "completed"
    },
    "tags": []
   },
   "source": [
    "**Wall Area**"
   ]
  },
  {
   "cell_type": "code",
   "execution_count": 17,
   "id": "digital-store",
   "metadata": {
    "execution": {
     "iopub.execute_input": "2021-06-02T14:40:42.951950Z",
     "iopub.status.busy": "2021-06-02T14:40:42.951210Z",
     "iopub.status.idle": "2021-06-02T14:40:42.956304Z",
     "shell.execute_reply": "2021-06-02T14:40:42.955622Z",
     "shell.execute_reply.started": "2021-06-02T14:39:30.471611Z"
    },
    "papermill": {
     "duration": 0.15246,
     "end_time": "2021-06-02T14:40:42.956490",
     "exception": false,
     "start_time": "2021-06-02T14:40:42.804030",
     "status": "completed"
    },
    "tags": []
   },
   "outputs": [
    {
     "data": {
      "text/plain": [
       "7"
      ]
     },
     "execution_count": 17,
     "metadata": {},
     "output_type": "execute_result"
    }
   ],
   "source": [
    "data['Wall Area'].unique().size"
   ]
  },
  {
   "cell_type": "code",
   "execution_count": 18,
   "id": "difficult-genre",
   "metadata": {
    "execution": {
     "iopub.execute_input": "2021-06-02T14:40:43.247029Z",
     "iopub.status.busy": "2021-06-02T14:40:43.246265Z",
     "iopub.status.idle": "2021-06-02T14:40:43.371748Z",
     "shell.execute_reply": "2021-06-02T14:40:43.372257Z",
     "shell.execute_reply.started": "2021-06-02T14:39:30.478944Z"
    },
    "papermill": {
     "duration": 0.273771,
     "end_time": "2021-06-02T14:40:43.372498",
     "exception": false,
     "start_time": "2021-06-02T14:40:43.098727",
     "status": "completed"
    },
    "tags": []
   },
   "outputs": [
    {
     "data": {
      "text/plain": [
       "<AxesSubplot:xlabel='Surface Area'>"
      ]
     },
     "execution_count": 18,
     "metadata": {},
     "output_type": "execute_result"
    },
    {
     "data": {
      "image/png": "[encoded data removed]",
      "text/plain": [
       "<Figure size 432x288 with 1 Axes>"
      ]
     },
     "metadata": {
      "needs_background": "light"
     },
     "output_type": "display_data"
    }
   ],
   "source": [
    "sns.boxplot(x = data['Surface Area'], color = \"coral\")"
   ]
  },
  {
   "cell_type": "code",
   "execution_count": 19,
   "id": "nasty-peace",
   "metadata": {
    "execution": {
     "iopub.execute_input": "2021-06-02T14:40:43.686888Z",
     "iopub.status.busy": "2021-06-02T14:40:43.683796Z",
     "iopub.status.idle": "2021-06-02T14:40:43.850274Z",
     "shell.execute_reply": "2021-06-02T14:40:43.850816Z",
     "shell.execute_reply.started": "2021-06-02T14:39:30.614043Z"
    },
    "papermill": {
     "duration": 0.333956,
     "end_time": "2021-06-02T14:40:43.851033",
     "exception": false,
     "start_time": "2021-06-02T14:40:43.517077",
     "status": "completed"
    },
    "tags": []
   },
   "outputs": [
    {
     "data": {
      "text/plain": [
       "<function matplotlib.pyplot.show(close=None, block=None)>"
      ]
     },
     "execution_count": 19,
     "metadata": {},
     "output_type": "execute_result"
    },
    {
     "data": {
      "image/png": "[encoded data removed]",
      "text/plain": [
       "<Figure size 432x288 with 1 Axes>"
      ]
     },
     "metadata": {
      "needs_background": "light"
     },
     "output_type": "display_data"
    }
   ],
   "source": [
    "## sebaran data berdasarkan atribut heating load pada Wall Area\n",
    "x = data['Wall Area']\n",
    "y = data['Heating Load']\n",
    "plt.scatter(x, y, color =\"crimson\")\n",
    "plt.xlabel('Wall Area')\n",
    "plt.ylabel('Heating Load')\n",
    "plt.show"
   ]
  },
  {
   "cell_type": "code",
   "execution_count": 20,
   "id": "sporting-display",
   "metadata": {
    "execution": {
     "iopub.execute_input": "2021-06-02T14:40:44.180055Z",
     "iopub.status.busy": "2021-06-02T14:40:44.179370Z",
     "iopub.status.idle": "2021-06-02T14:40:44.335832Z",
     "shell.execute_reply": "2021-06-02T14:40:44.335197Z",
     "shell.execute_reply.started": "2021-06-02T14:39:30.817259Z"
    },
    "papermill": {
     "duration": 0.338581,
     "end_time": "2021-06-02T14:40:44.336010",
     "exception": false,
     "start_time": "2021-06-02T14:40:43.997429",
     "status": "completed"
    },
    "tags": []
   },
   "outputs": [
    {
     "data": {
      "text/plain": [
       "<function matplotlib.pyplot.show(close=None, block=None)>"
      ]
     },
     "execution_count": 20,
     "metadata": {},
     "output_type": "execute_result"
    },
    {
     "data": {
      "image/png": "[encoded data removed]",
      "text/plain": [
       "<Figure size 432x288 with 1 Axes>"
      ]
     },
     "metadata": {
      "needs_background": "light"
     },
     "output_type": "display_data"
    }
   ],
   "source": [
    "## sebaran data berdasarkan atribut cooling load pada Wall Area\n",
    "x = data['Wall Area']\n",
    "y = data['Cooling Load']\n",
    "plt.scatter(x, y, color =\"deepskyblue\")\n",
    "plt.xlabel('Wall Area')\n",
    "plt.ylabel('Cooling Load')\n",
    "plt.show"
   ]
  },
  {
   "cell_type": "markdown",
   "id": "anonymous-desire",
   "metadata": {
    "papermill": {
     "duration": 0.145628,
     "end_time": "2021-06-02T14:40:44.629808",
     "exception": false,
     "start_time": "2021-06-02T14:40:44.484180",
     "status": "completed"
    },
    "tags": []
   },
   "source": [
    "**Roof Area**"
   ]
  },
  {
   "cell_type": "code",
   "execution_count": 21,
   "id": "educational-completion",
   "metadata": {
    "execution": {
     "iopub.execute_input": "2021-06-02T14:40:44.927520Z",
     "iopub.status.busy": "2021-06-02T14:40:44.926271Z",
     "iopub.status.idle": "2021-06-02T14:40:44.932009Z",
     "shell.execute_reply": "2021-06-02T14:40:44.931435Z",
     "shell.execute_reply.started": "2021-06-02T14:39:30.995883Z"
    },
    "papermill": {
     "duration": 0.156048,
     "end_time": "2021-06-02T14:40:44.932191",
     "exception": false,
     "start_time": "2021-06-02T14:40:44.776143",
     "status": "completed"
    },
    "tags": []
   },
   "outputs": [
    {
     "data": {
      "text/plain": [
       "4"
      ]
     },
     "execution_count": 21,
     "metadata": {},
     "output_type": "execute_result"
    }
   ],
   "source": [
    "data['Roof Area'].unique().size"
   ]
  },
  {
   "cell_type": "code",
   "execution_count": 22,
   "id": "immune-parker",
   "metadata": {
    "execution": {
     "iopub.execute_input": "2021-06-02T14:40:45.254102Z",
     "iopub.status.busy": "2021-06-02T14:40:45.250605Z",
     "iopub.status.idle": "2021-06-02T14:40:45.356373Z",
     "shell.execute_reply": "2021-06-02T14:40:45.355770Z",
     "shell.execute_reply.started": "2021-06-02T14:39:31.005882Z"
    },
    "papermill": {
     "duration": 0.276382,
     "end_time": "2021-06-02T14:40:45.356566",
     "exception": false,
     "start_time": "2021-06-02T14:40:45.080184",
     "status": "completed"
    },
    "tags": []
   },
   "outputs": [
    {
     "data": {
      "text/plain": [
       "<AxesSubplot:xlabel='Roof Area'>"
      ]
     },
     "execution_count": 22,
     "metadata": {},
     "output_type": "execute_result"
    },
    {
     "data": {
      "image/png": "[encoded data removed]",
      "text/plain": [
       "<Figure size 432x288 with 1 Axes>"
      ]
     },
     "metadata": {
      "needs_background": "light"
     },
     "output_type": "display_data"
    }
   ],
   "source": [
    "sns.boxplot(x = data['Roof Area'], color = \"lawngreen\")"
   ]
  },
  {
   "cell_type": "code",
   "execution_count": 23,
   "id": "laden-biotechnology",
   "metadata": {
    "execution": {
     "iopub.execute_input": "2021-06-02T14:40:45.690566Z",
     "iopub.status.busy": "2021-06-02T14:40:45.688000Z",
     "iopub.status.idle": "2021-06-02T14:40:45.839407Z",
     "shell.execute_reply": "2021-06-02T14:40:45.838799Z",
     "shell.execute_reply.started": "2021-06-02T14:39:31.152225Z"
    },
    "papermill": {
     "duration": 0.331383,
     "end_time": "2021-06-02T14:40:45.839587",
     "exception": false,
     "start_time": "2021-06-02T14:40:45.508204",
     "status": "completed"
    },
    "tags": []
   },
   "outputs": [
    {
     "data": {
      "text/plain": [
       "<function matplotlib.pyplot.show(close=None, block=None)>"
      ]
     },
     "execution_count": 23,
     "metadata": {},
     "output_type": "execute_result"
    },
    {
     "data": {
      "image/png": "[encoded data removed]",
      "text/plain": [
       "<Figure size 432x288 with 1 Axes>"
      ]
     },
     "metadata": {
      "needs_background": "light"
     },
     "output_type": "display_data"
    }
   ],
   "source": [
    "## sebaran data berdasarkan atribut heating load pada Roof Area\n",
    "x = data['Roof Area']\n",
    "y = data['Heating Load']\n",
    "plt.scatter(x, y, color = \"crimson\")\n",
    "plt.xlabel('Roof Area')\n",
    "plt.ylabel('Heating Load')\n",
    "plt.show"
   ]
  },
  {
   "cell_type": "code",
   "execution_count": 24,
   "id": "sharing-dragon",
   "metadata": {
    "execution": {
     "iopub.execute_input": "2021-06-02T14:40:46.215138Z",
     "iopub.status.busy": "2021-06-02T14:40:46.199219Z",
     "iopub.status.idle": "2021-06-02T14:40:46.367371Z",
     "shell.execute_reply": "2021-06-02T14:40:46.367932Z",
     "shell.execute_reply.started": "2021-06-02T14:39:31.323556Z"
    },
    "papermill": {
     "duration": 0.361689,
     "end_time": "2021-06-02T14:40:46.368137",
     "exception": false,
     "start_time": "2021-06-02T14:40:46.006448",
     "status": "completed"
    },
    "tags": []
   },
   "outputs": [
    {
     "data": {
      "text/plain": [
       "<function matplotlib.pyplot.show(close=None, block=None)>"
      ]
     },
     "execution_count": 24,
     "metadata": {},
     "output_type": "execute_result"
    },
    {
     "data": {
      "image/png": "[encoded data removed]",
      "text/plain": [
       "<Figure size 432x288 with 1 Axes>"
      ]
     },
     "metadata": {
      "needs_background": "light"
     },
     "output_type": "display_data"
    }
   ],
   "source": [
    "## sebaran data berdasarkan atribut cooling load pada Roof Area\n",
    "x = data['Roof Area']\n",
    "y = data['Cooling Load']\n",
    "plt.scatter(x, y, color = \"deepskyblue\")\n",
    "plt.xlabel('Roof Area')\n",
    "plt.ylabel('Cooling Load')\n",
    "plt.show"
   ]
  },
  {
   "cell_type": "markdown",
   "id": "configured-spine",
   "metadata": {
    "papermill": {
     "duration": 0.149376,
     "end_time": "2021-06-02T14:40:46.666741",
     "exception": false,
     "start_time": "2021-06-02T14:40:46.517365",
     "status": "completed"
    },
    "tags": []
   },
   "source": [
    "**Overall Height**"
   ]
  },
  {
   "cell_type": "code",
   "execution_count": 25,
   "id": "prime-british",
   "metadata": {
    "execution": {
     "iopub.execute_input": "2021-06-02T14:40:46.971803Z",
     "iopub.status.busy": "2021-06-02T14:40:46.970769Z",
     "iopub.status.idle": "2021-06-02T14:40:46.974527Z",
     "shell.execute_reply": "2021-06-02T14:40:46.975032Z",
     "shell.execute_reply.started": "2021-06-02T14:39:31.488825Z"
    },
    "papermill": {
     "duration": 0.16084,
     "end_time": "2021-06-02T14:40:46.975231",
     "exception": false,
     "start_time": "2021-06-02T14:40:46.814391",
     "status": "completed"
    },
    "tags": []
   },
   "outputs": [
    {
     "data": {
      "text/plain": [
       "2"
      ]
     },
     "execution_count": 25,
     "metadata": {},
     "output_type": "execute_result"
    }
   ],
   "source": [
    "data['Overall Height'].unique().size"
   ]
  },
  {
   "cell_type": "code",
   "execution_count": 26,
   "id": "indirect-finance",
   "metadata": {
    "execution": {
     "iopub.execute_input": "2021-06-02T14:40:47.283001Z",
     "iopub.status.busy": "2021-06-02T14:40:47.281864Z",
     "iopub.status.idle": "2021-06-02T14:40:47.410370Z",
     "shell.execute_reply": "2021-06-02T14:40:47.410875Z",
     "shell.execute_reply.started": "2021-06-02T14:39:31.497531Z"
    },
    "papermill": {
     "duration": 0.2845,
     "end_time": "2021-06-02T14:40:47.411105",
     "exception": false,
     "start_time": "2021-06-02T14:40:47.126605",
     "status": "completed"
    },
    "tags": []
   },
   "outputs": [
    {
     "data": {
      "text/plain": [
       "<AxesSubplot:xlabel='Overall Height'>"
      ]
     },
     "execution_count": 26,
     "metadata": {},
     "output_type": "execute_result"
    },
    {
     "data": {
      "image/png": "[encoded data removed]",
      "text/plain": [
       "<Figure size 432x288 with 1 Axes>"
      ]
     },
     "metadata": {
      "needs_background": "light"
     },
     "output_type": "display_data"
    }
   ],
   "source": [
    "sns.boxplot(x = data['Overall Height'], color = \"darksalmon\")"
   ]
  },
  {
   "cell_type": "code",
   "execution_count": 27,
   "id": "polyphonic-better",
   "metadata": {
    "execution": {
     "iopub.execute_input": "2021-06-02T14:40:47.717060Z",
     "iopub.status.busy": "2021-06-02T14:40:47.715940Z",
     "iopub.status.idle": "2021-06-02T14:40:47.903372Z",
     "shell.execute_reply": "2021-06-02T14:40:47.903995Z",
     "shell.execute_reply.started": "2021-06-02T14:39:31.635349Z"
    },
    "papermill": {
     "duration": 0.344262,
     "end_time": "2021-06-02T14:40:47.904204",
     "exception": false,
     "start_time": "2021-06-02T14:40:47.559942",
     "status": "completed"
    },
    "tags": []
   },
   "outputs": [
    {
     "data": {
      "text/plain": [
       "<function matplotlib.pyplot.show(close=None, block=None)>"
      ]
     },
     "execution_count": 27,
     "metadata": {},
     "output_type": "execute_result"
    },
    {
     "data": {
      "image/png": "[encoded data removed]",
      "text/plain": [
       "<Figure size 432x288 with 1 Axes>"
      ]
     },
     "metadata": {
      "needs_background": "light"
     },
     "output_type": "display_data"
    }
   ],
   "source": [
    "## sebaran data berdasarkan atribut heating load pada Overall Height\n",
    "x = data['Overall Height']\n",
    "y = data['Heating Load']\n",
    "plt.scatter(x, y, color = \"crimson\")\n",
    "plt.xlabel('Overall Height')\n",
    "plt.ylabel('Heating Load')\n",
    "plt.show"
   ]
  },
  {
   "cell_type": "code",
   "execution_count": 28,
   "id": "suited-arbor",
   "metadata": {
    "execution": {
     "iopub.execute_input": "2021-06-02T14:40:48.242343Z",
     "iopub.status.busy": "2021-06-02T14:40:48.240991Z",
     "iopub.status.idle": "2021-06-02T14:40:48.402456Z",
     "shell.execute_reply": "2021-06-02T14:40:48.403007Z",
     "shell.execute_reply.started": "2021-06-02T14:39:31.810620Z"
    },
    "papermill": {
     "duration": 0.347036,
     "end_time": "2021-06-02T14:40:48.403250",
     "exception": false,
     "start_time": "2021-06-02T14:40:48.056214",
     "status": "completed"
    },
    "tags": []
   },
   "outputs": [
    {
     "data": {
      "text/plain": [
       "<function matplotlib.pyplot.show(close=None, block=None)>"
      ]
     },
     "execution_count": 28,
     "metadata": {},
     "output_type": "execute_result"
    },
    {
     "data": {
      "image/png": "[encoded data removed]",
      "text/plain": [
       "<Figure size 432x288 with 1 Axes>"
      ]
     },
     "metadata": {
      "needs_background": "light"
     },
     "output_type": "display_data"
    }
   ],
   "source": [
    "## sebaran data berdasarkan atribut cooling load pada Overall Height\n",
    "x = data['Overall Height']\n",
    "y = data['Cooling Load']\n",
    "plt.scatter(x, y, color = \"deepskyblue\")\n",
    "plt.xlabel('Overall Height')\n",
    "plt.ylabel('Cooling Load')\n",
    "plt.show"
   ]
  },
  {
   "cell_type": "markdown",
   "id": "atmospheric-serve",
   "metadata": {
    "papermill": {
     "duration": 0.151815,
     "end_time": "2021-06-02T14:40:48.707668",
     "exception": false,
     "start_time": "2021-06-02T14:40:48.555853",
     "status": "completed"
    },
    "tags": []
   },
   "source": [
    "**Orientation**"
   ]
  },
  {
   "cell_type": "code",
   "execution_count": 29,
   "id": "based-institute",
   "metadata": {
    "execution": {
     "iopub.execute_input": "2021-06-02T14:40:49.018584Z",
     "iopub.status.busy": "2021-06-02T14:40:49.017792Z",
     "iopub.status.idle": "2021-06-02T14:40:49.025682Z",
     "shell.execute_reply": "2021-06-02T14:40:49.026152Z",
     "shell.execute_reply.started": "2021-06-02T14:39:31.983886Z"
    },
    "papermill": {
     "duration": 0.164384,
     "end_time": "2021-06-02T14:40:49.026392",
     "exception": false,
     "start_time": "2021-06-02T14:40:48.862008",
     "status": "completed"
    },
    "tags": []
   },
   "outputs": [
    {
     "data": {
      "text/plain": [
       "4"
      ]
     },
     "execution_count": 29,
     "metadata": {},
     "output_type": "execute_result"
    }
   ],
   "source": [
    "data['Orientation'].unique().size"
   ]
  },
  {
   "cell_type": "code",
   "execution_count": 30,
   "id": "comfortable-revelation",
   "metadata": {
    "execution": {
     "iopub.execute_input": "2021-06-02T14:40:49.337350Z",
     "iopub.status.busy": "2021-06-02T14:40:49.336636Z",
     "iopub.status.idle": "2021-06-02T14:40:49.460765Z",
     "shell.execute_reply": "2021-06-02T14:40:49.461263Z",
     "shell.execute_reply.started": "2021-06-02T14:39:31.992300Z"
    },
    "papermill": {
     "duration": 0.281493,
     "end_time": "2021-06-02T14:40:49.461503",
     "exception": false,
     "start_time": "2021-06-02T14:40:49.180010",
     "status": "completed"
    },
    "tags": []
   },
   "outputs": [
    {
     "data": {
      "text/plain": [
       "<AxesSubplot:xlabel='Orientation'>"
      ]
     },
     "execution_count": 30,
     "metadata": {},
     "output_type": "execute_result"
    },
    {
     "data": {
      "image/png": "[encoded data removed]",
      "text/plain": [
       "<Figure size 432x288 with 1 Axes>"
      ]
     },
     "metadata": {
      "needs_background": "light"
     },
     "output_type": "display_data"
    }
   ],
   "source": [
    "sns.boxplot(x = data['Orientation'], color = \"lightseagreen\")"
   ]
  },
  {
   "cell_type": "code",
   "execution_count": 31,
   "id": "external-marathon",
   "metadata": {
    "execution": {
     "iopub.execute_input": "2021-06-02T14:40:49.774144Z",
     "iopub.status.busy": "2021-06-02T14:40:49.773466Z",
     "iopub.status.idle": "2021-06-02T14:40:49.942713Z",
     "shell.execute_reply": "2021-06-02T14:40:49.943202Z",
     "shell.execute_reply.started": "2021-06-02T14:39:32.129671Z"
    },
    "papermill": {
     "duration": 0.324011,
     "end_time": "2021-06-02T14:40:49.943432",
     "exception": false,
     "start_time": "2021-06-02T14:40:49.619421",
     "status": "completed"
    },
    "tags": []
   },
   "outputs": [
    {
     "data": {
      "text/plain": [
       "<function matplotlib.pyplot.show(close=None, block=None)>"
      ]
     },
     "execution_count": 31,
     "metadata": {},
     "output_type": "execute_result"
    },
    {
     "data": {
      "image/png": "[encoded data removed]",
      "text/plain": [
       "<Figure size 432x288 with 1 Axes>"
      ]
     },
     "metadata": {
      "needs_background": "light"
     },
     "output_type": "display_data"
    }
   ],
   "source": [
    "## sebaran data berdasarkan atribut heating load pada Orientation\n",
    "x = data['Orientation']\n",
    "y = data['Heating Load']\n",
    "plt.scatter(x, y, color = \"crimson\")\n",
    "plt.xlabel('Orientation')\n",
    "plt.ylabel('Heating Load')\n",
    "plt.show"
   ]
  },
  {
   "cell_type": "code",
   "execution_count": 32,
   "id": "insured-geology",
   "metadata": {
    "execution": {
     "iopub.execute_input": "2021-06-02T14:40:50.257360Z",
     "iopub.status.busy": "2021-06-02T14:40:50.256649Z",
     "iopub.status.idle": "2021-06-02T14:40:50.426813Z",
     "shell.execute_reply": "2021-06-02T14:40:50.427341Z",
     "shell.execute_reply.started": "2021-06-02T14:39:32.300343Z"
    },
    "papermill": {
     "duration": 0.329716,
     "end_time": "2021-06-02T14:40:50.427560",
     "exception": false,
     "start_time": "2021-06-02T14:40:50.097844",
     "status": "completed"
    },
    "tags": []
   },
   "outputs": [
    {
     "data": {
      "text/plain": [
       "<function matplotlib.pyplot.show(close=None, block=None)>"
      ]
     },
     "execution_count": 32,
     "metadata": {},
     "output_type": "execute_result"
    },
    {
     "data": {
      "image/png": "[encoded data removed]",
      "text/plain": [
       "<Figure size 432x288 with 1 Axes>"
      ]
     },
     "metadata": {
      "needs_background": "light"
     },
     "output_type": "display_data"
    }
   ],
   "source": [
    "## sebaran data berdasarkan atribut cooling load pada Orientation\n",
    "x = data['Orientation']\n",
    "y = data['Cooling Load']\n",
    "plt.scatter(x, y, color = \"deepskyblue\")\n",
    "plt.xlabel('Orientation')\n",
    "plt.ylabel('Cooling Load')\n",
    "plt.show"
   ]
  },
  {
   "cell_type": "markdown",
   "id": "boring-attitude",
   "metadata": {
    "papermill": {
     "duration": 0.157003,
     "end_time": "2021-06-02T14:40:50.739917",
     "exception": false,
     "start_time": "2021-06-02T14:40:50.582914",
     "status": "completed"
    },
    "tags": []
   },
   "source": [
    "**Glazing Area**"
   ]
  },
  {
   "cell_type": "code",
   "execution_count": 33,
   "id": "automated-student",
   "metadata": {
    "execution": {
     "iopub.execute_input": "2021-06-02T14:40:51.055996Z",
     "iopub.status.busy": "2021-06-02T14:40:51.055201Z",
     "iopub.status.idle": "2021-06-02T14:40:51.063633Z",
     "shell.execute_reply": "2021-06-02T14:40:51.062893Z",
     "shell.execute_reply.started": "2021-06-02T14:39:32.472460Z"
    },
    "papermill": {
     "duration": 0.168808,
     "end_time": "2021-06-02T14:40:51.063798",
     "exception": false,
     "start_time": "2021-06-02T14:40:50.894990",
     "status": "completed"
    },
    "tags": []
   },
   "outputs": [
    {
     "data": {
      "text/plain": [
       "4"
      ]
     },
     "execution_count": 33,
     "metadata": {},
     "output_type": "execute_result"
    }
   ],
   "source": [
    "data['Glazing Area'].unique().size"
   ]
  },
  {
   "cell_type": "code",
   "execution_count": 34,
   "id": "ordinary-nebraska",
   "metadata": {
    "execution": {
     "iopub.execute_input": "2021-06-02T14:40:51.422804Z",
     "iopub.status.busy": "2021-06-02T14:40:51.421627Z",
     "iopub.status.idle": "2021-06-02T14:40:51.542344Z",
     "shell.execute_reply": "2021-06-02T14:40:51.541689Z",
     "shell.execute_reply.started": "2021-06-02T14:39:32.482338Z"
    },
    "papermill": {
     "duration": 0.321637,
     "end_time": "2021-06-02T14:40:51.542513",
     "exception": false,
     "start_time": "2021-06-02T14:40:51.220876",
     "status": "completed"
    },
    "tags": []
   },
   "outputs": [
    {
     "data": {
      "text/plain": [
       "<AxesSubplot:xlabel='Glazing Area'>"
      ]
     },
     "execution_count": 34,
     "metadata": {},
     "output_type": "execute_result"
    },
    {
     "data": {
      "image/png": "[encoded data removed]",
      "text/plain": [
       "<Figure size 432x288 with 1 Axes>"
      ]
     },
     "metadata": {
      "needs_background": "light"
     },
     "output_type": "display_data"
    }
   ],
   "source": [
    "sns.boxplot(x = data['Glazing Area'], color = \"darkorchid\")"
   ]
  },
  {
   "cell_type": "code",
   "execution_count": 35,
   "id": "palestinian-masters",
   "metadata": {
    "execution": {
     "iopub.execute_input": "2021-06-02T14:40:51.888519Z",
     "iopub.status.busy": "2021-06-02T14:40:51.887761Z",
     "iopub.status.idle": "2021-06-02T14:40:52.063927Z",
     "shell.execute_reply": "2021-06-02T14:40:52.063212Z",
     "shell.execute_reply.started": "2021-06-02T14:39:32.625495Z"
    },
    "papermill": {
     "duration": 0.363272,
     "end_time": "2021-06-02T14:40:52.064126",
     "exception": false,
     "start_time": "2021-06-02T14:40:51.700854",
     "status": "completed"
    },
    "tags": []
   },
   "outputs": [
    {
     "data": {
      "text/plain": [
       "<function matplotlib.pyplot.show(close=None, block=None)>"
      ]
     },
     "execution_count": 35,
     "metadata": {},
     "output_type": "execute_result"
    },
    {
     "data": {
      "image/png": "[encoded data removed]",
      "text/plain": [
       "<Figure size 432x288 with 1 Axes>"
      ]
     },
     "metadata": {
      "needs_background": "light"
     },
     "output_type": "display_data"
    }
   ],
   "source": [
    "## sebaran data berdasarkan atribut heating load pada Glazing Area\n",
    "x = data['Glazing Area']\n",
    "y = data['Heating Load']\n",
    "plt.scatter(x, y, color = \"crimson\")\n",
    "plt.xlabel('Glazing Area')\n",
    "plt.ylabel('Heating Load')\n",
    "plt.show"
   ]
  },
  {
   "cell_type": "code",
   "execution_count": 36,
   "id": "failing-location",
   "metadata": {
    "execution": {
     "iopub.execute_input": "2021-06-02T14:40:52.419913Z",
     "iopub.status.busy": "2021-06-02T14:40:52.417066Z",
     "iopub.status.idle": "2021-06-02T14:40:52.591927Z",
     "shell.execute_reply": "2021-06-02T14:40:52.591193Z",
     "shell.execute_reply.started": "2021-06-02T14:39:32.809963Z"
    },
    "papermill": {
     "duration": 0.366839,
     "end_time": "2021-06-02T14:40:52.592102",
     "exception": false,
     "start_time": "2021-06-02T14:40:52.225263",
     "status": "completed"
    },
    "tags": []
   },
   "outputs": [
    {
     "data": {
      "text/plain": [
       "<function matplotlib.pyplot.show(close=None, block=None)>"
      ]
     },
     "execution_count": 36,
     "metadata": {},
     "output_type": "execute_result"
    },
    {
     "data": {
      "image/png": "[encoded data removed]",
      "text/plain": [
       "<Figure size 432x288 with 1 Axes>"
      ]
     },
     "metadata": {
      "needs_background": "light"
     },
     "output_type": "display_data"
    }
   ],
   "source": [
    "## sebaran data berdasarkan atribut cooling load pada Glazing Area\n",
    "x = data['Glazing Area']\n",
    "y = data['Cooling Load']\n",
    "plt.scatter(x, y, color = \"deepskyblue\")\n",
    "plt.xlabel('Glazing Area')\n",
    "plt.ylabel('Cooling Load')\n",
    "plt.show"
   ]
  },
  {
   "cell_type": "markdown",
   "id": "overall-correspondence",
   "metadata": {
    "papermill": {
     "duration": 0.165153,
     "end_time": "2021-06-02T14:40:52.920335",
     "exception": false,
     "start_time": "2021-06-02T14:40:52.755182",
     "status": "completed"
    },
    "tags": []
   },
   "source": [
    "**Glazing Area Distribution**"
   ]
  },
  {
   "cell_type": "code",
   "execution_count": 37,
   "id": "angry-forestry",
   "metadata": {
    "execution": {
     "iopub.execute_input": "2021-06-02T14:40:53.244679Z",
     "iopub.status.busy": "2021-06-02T14:40:53.243883Z",
     "iopub.status.idle": "2021-06-02T14:40:53.248659Z",
     "shell.execute_reply": "2021-06-02T14:40:53.248052Z",
     "shell.execute_reply.started": "2021-06-02T14:39:33.017870Z"
    },
    "papermill": {
     "duration": 0.168713,
     "end_time": "2021-06-02T14:40:53.248819",
     "exception": false,
     "start_time": "2021-06-02T14:40:53.080106",
     "status": "completed"
    },
    "tags": []
   },
   "outputs": [
    {
     "data": {
      "text/plain": [
       "6"
      ]
     },
     "execution_count": 37,
     "metadata": {},
     "output_type": "execute_result"
    }
   ],
   "source": [
    "data['Glazing Area Distribution'].unique().size"
   ]
  },
  {
   "cell_type": "code",
   "execution_count": 38,
   "id": "broad-philippines",
   "metadata": {
    "execution": {
     "iopub.execute_input": "2021-06-02T14:40:53.622899Z",
     "iopub.status.busy": "2021-06-02T14:40:53.618750Z",
     "iopub.status.idle": "2021-06-02T14:40:53.747973Z",
     "shell.execute_reply": "2021-06-02T14:40:53.747331Z",
     "shell.execute_reply.started": "2021-06-02T14:39:33.027268Z"
    },
    "papermill": {
     "duration": 0.338387,
     "end_time": "2021-06-02T14:40:53.748155",
     "exception": false,
     "start_time": "2021-06-02T14:40:53.409768",
     "status": "completed"
    },
    "tags": []
   },
   "outputs": [
    {
     "data": {
      "text/plain": [
       "<AxesSubplot:xlabel='Glazing Area Distribution'>"
      ]
     },
     "execution_count": 38,
     "metadata": {},
     "output_type": "execute_result"
    },
    {
     "data": {
      "image/png": "[encoded data removed]",
      "text/plain": [
       "<Figure size 432x288 with 1 Axes>"
      ]
     },
     "metadata": {
      "needs_background": "light"
     },
     "output_type": "display_data"
    }
   ],
   "source": [
    "sns.boxplot(x = data['Glazing Area Distribution'], color = \"skyblue\")"
   ]
  },
  {
   "cell_type": "code",
   "execution_count": 39,
   "id": "necessary-cathedral",
   "metadata": {
    "execution": {
     "iopub.execute_input": "2021-06-02T14:40:54.343478Z",
     "iopub.status.busy": "2021-06-02T14:40:54.342765Z",
     "iopub.status.idle": "2021-06-02T14:40:54.486377Z",
     "shell.execute_reply": "2021-06-02T14:40:54.486918Z",
     "shell.execute_reply.started": "2021-06-02T14:39:33.301363Z"
    },
    "papermill": {
     "duration": 0.574543,
     "end_time": "2021-06-02T14:40:54.487122",
     "exception": false,
     "start_time": "2021-06-02T14:40:53.912579",
     "status": "completed"
    },
    "tags": []
   },
   "outputs": [
    {
     "data": {
      "text/plain": [
       "<function matplotlib.pyplot.show(close=None, block=None)>"
      ]
     },
     "execution_count": 39,
     "metadata": {},
     "output_type": "execute_result"
    },
    {
     "data": {
      "image/png": "[encoded data removed]",
      "text/plain": [
       "<Figure size 432x288 with 1 Axes>"
      ]
     },
     "metadata": {
      "needs_background": "light"
     },
     "output_type": "display_data"
    }
   ],
   "source": [
    "## sebaran data berdasarkan atribut heating load pada Glazing Area Distribution\n",
    "x = data['Glazing Area Distribution']\n",
    "y = data['Heating Load']\n",
    "plt.scatter(x, y, color = \"crimson\")\n",
    "plt.xlabel('Glazing Area Distribution')\n",
    "plt.ylabel('Heating Load')\n",
    "plt.show"
   ]
  },
  {
   "cell_type": "code",
   "execution_count": 40,
   "id": "stylish-assault",
   "metadata": {
    "execution": {
     "iopub.execute_input": "2021-06-02T14:40:54.838695Z",
     "iopub.status.busy": "2021-06-02T14:40:54.837794Z",
     "iopub.status.idle": "2021-06-02T14:40:54.984882Z",
     "shell.execute_reply": "2021-06-02T14:40:54.984197Z",
     "shell.execute_reply.started": "2021-06-02T14:39:33.470374Z"
    },
    "papermill": {
     "duration": 0.337405,
     "end_time": "2021-06-02T14:40:54.985067",
     "exception": false,
     "start_time": "2021-06-02T14:40:54.647662",
     "status": "completed"
    },
    "tags": []
   },
   "outputs": [
    {
     "data": {
      "text/plain": [
       "<function matplotlib.pyplot.show(close=None, block=None)>"
      ]
     },
     "execution_count": 40,
     "metadata": {},
     "output_type": "execute_result"
    },
    {
     "data": {
      "image/png": "[encoded data removed]",
      "text/plain": [
       "<Figure size 432x288 with 1 Axes>"
      ]
     },
     "metadata": {
      "needs_background": "light"
     },
     "output_type": "display_data"
    }
   ],
   "source": [
    "## sebaran data berdasarkan atribut cooling load pada Glazing Area Distribution\n",
    "x = data['Glazing Area Distribution']\n",
    "y = data['Cooling Load']\n",
    "plt.scatter(x, y, color = \"deepskyblue\")\n",
    "plt.xlabel('Glazing Area Distribution')\n",
    "plt.ylabel('Cooling Load')\n",
    "plt.show"
   ]
  },
  {
   "cell_type": "markdown",
   "id": "engaged-bread",
   "metadata": {
    "papermill": {
     "duration": 0.167626,
     "end_time": "2021-06-02T14:40:55.314916",
     "exception": false,
     "start_time": "2021-06-02T14:40:55.147290",
     "status": "completed"
    },
    "tags": []
   },
   "source": [
    "**Heating Load**"
   ]
  },
  {
   "cell_type": "code",
   "execution_count": 41,
   "id": "meaningful-dressing",
   "metadata": {
    "execution": {
     "iopub.execute_input": "2021-06-02T14:40:55.658254Z",
     "iopub.status.busy": "2021-06-02T14:40:55.657302Z",
     "iopub.status.idle": "2021-06-02T14:40:55.663431Z",
     "shell.execute_reply": "2021-06-02T14:40:55.664140Z",
     "shell.execute_reply.started": "2021-06-02T14:39:33.637103Z"
    },
    "papermill": {
     "duration": 0.18282,
     "end_time": "2021-06-02T14:40:55.664383",
     "exception": false,
     "start_time": "2021-06-02T14:40:55.481563",
     "status": "completed"
    },
    "tags": []
   },
   "outputs": [
    {
     "data": {
      "text/plain": [
       "586"
      ]
     },
     "execution_count": 41,
     "metadata": {},
     "output_type": "execute_result"
    }
   ],
   "source": [
    "data['Heating Load'].unique().size"
   ]
  },
  {
   "cell_type": "code",
   "execution_count": 42,
   "id": "hourly-velvet",
   "metadata": {
    "execution": {
     "iopub.execute_input": "2021-06-02T14:40:56.039812Z",
     "iopub.status.busy": "2021-06-02T14:40:56.036273Z",
     "iopub.status.idle": "2021-06-02T14:40:56.168385Z",
     "shell.execute_reply": "2021-06-02T14:40:56.167727Z",
     "shell.execute_reply.started": "2021-06-02T14:39:33.647269Z"
    },
    "papermill": {
     "duration": 0.330498,
     "end_time": "2021-06-02T14:40:56.168573",
     "exception": false,
     "start_time": "2021-06-02T14:40:55.838075",
     "status": "completed"
    },
    "tags": []
   },
   "outputs": [
    {
     "data": {
      "text/plain": [
       "<AxesSubplot:xlabel='Heating Load'>"
      ]
     },
     "execution_count": 42,
     "metadata": {},
     "output_type": "execute_result"
    },
    {
     "data": {
      "image/png": "[encoded data removed]",
      "text/plain": [
       "<Figure size 432x288 with 1 Axes>"
      ]
     },
     "metadata": {
      "needs_background": "light"
     },
     "output_type": "display_data"
    }
   ],
   "source": [
    "sns.boxplot(x = data['Heating Load'], color = \"r\")"
   ]
  },
  {
   "cell_type": "code",
   "execution_count": 43,
   "id": "fresh-privilege",
   "metadata": {
    "execution": {
     "iopub.execute_input": "2021-06-02T14:40:56.548839Z",
     "iopub.status.busy": "2021-06-02T14:40:56.524307Z",
     "iopub.status.idle": "2021-06-02T14:40:56.706340Z",
     "shell.execute_reply": "2021-06-02T14:40:56.705302Z",
     "shell.execute_reply.started": "2021-06-02T14:39:33.780599Z"
    },
    "papermill": {
     "duration": 0.364107,
     "end_time": "2021-06-02T14:40:56.706546",
     "exception": false,
     "start_time": "2021-06-02T14:40:56.342439",
     "status": "completed"
    },
    "tags": []
   },
   "outputs": [
    {
     "data": {
      "image/png": "[encoded data removed]",
      "text/plain": [
       "<Figure size 432x288 with 1 Axes>"
      ]
     },
     "metadata": {
      "needs_background": "light"
     },
     "output_type": "display_data"
    }
   ],
   "source": [
    "plt.hist(data['Heating Load'], bins = 10, edgecolor = 'black', color = \"lightsalmon\")\n",
    "plt.show()"
   ]
  },
  {
   "cell_type": "markdown",
   "id": "digital-easter",
   "metadata": {
    "papermill": {
     "duration": 0.179359,
     "end_time": "2021-06-02T14:40:57.057812",
     "exception": false,
     "start_time": "2021-06-02T14:40:56.878453",
     "status": "completed"
    },
    "tags": []
   },
   "source": [
    "**Cooling Load**"
   ]
  },
  {
   "cell_type": "code",
   "execution_count": 44,
   "id": "italic-bridges",
   "metadata": {
    "execution": {
     "iopub.execute_input": "2021-06-02T14:40:57.406417Z",
     "iopub.status.busy": "2021-06-02T14:40:57.405409Z",
     "iopub.status.idle": "2021-06-02T14:40:57.410974Z",
     "shell.execute_reply": "2021-06-02T14:40:57.410214Z",
     "shell.execute_reply.started": "2021-06-02T14:39:33.950545Z"
    },
    "papermill": {
     "duration": 0.182685,
     "end_time": "2021-06-02T14:40:57.411147",
     "exception": false,
     "start_time": "2021-06-02T14:40:57.228462",
     "status": "completed"
    },
    "tags": []
   },
   "outputs": [
    {
     "data": {
      "text/plain": [
       "636"
      ]
     },
     "execution_count": 44,
     "metadata": {},
     "output_type": "execute_result"
    }
   ],
   "source": [
    "data['Cooling Load'].unique().size"
   ]
  },
  {
   "cell_type": "code",
   "execution_count": 45,
   "id": "round-master",
   "metadata": {
    "execution": {
     "iopub.execute_input": "2021-06-02T14:40:57.750944Z",
     "iopub.status.busy": "2021-06-02T14:40:57.750223Z",
     "iopub.status.idle": "2021-06-02T14:40:57.887454Z",
     "shell.execute_reply": "2021-06-02T14:40:57.886806Z",
     "shell.execute_reply.started": "2021-06-02T14:39:33.957679Z"
    },
    "papermill": {
     "duration": 0.309301,
     "end_time": "2021-06-02T14:40:57.887634",
     "exception": false,
     "start_time": "2021-06-02T14:40:57.578333",
     "status": "completed"
    },
    "tags": []
   },
   "outputs": [
    {
     "data": {
      "text/plain": [
       "<AxesSubplot:xlabel='Cooling Load'>"
      ]
     },
     "execution_count": 45,
     "metadata": {},
     "output_type": "execute_result"
    },
    {
     "data": {
      "image/png": "[encoded data removed]",
      "text/plain": [
       "<Figure size 432x288 with 1 Axes>"
      ]
     },
     "metadata": {
      "needs_background": "light"
     },
     "output_type": "display_data"
    }
   ],
   "source": [
    "sns.boxplot(x = data['Cooling Load'], color = \"dodgerblue\")"
   ]
  },
  {
   "cell_type": "code",
   "execution_count": 46,
   "id": "marked-authorization",
   "metadata": {
    "execution": {
     "iopub.execute_input": "2021-06-02T14:40:58.259863Z",
     "iopub.status.busy": "2021-06-02T14:40:58.258788Z",
     "iopub.status.idle": "2021-06-02T14:40:58.416235Z",
     "shell.execute_reply": "2021-06-02T14:40:58.415601Z",
     "shell.execute_reply.started": "2021-06-02T14:39:34.097590Z"
    },
    "papermill": {
     "duration": 0.357891,
     "end_time": "2021-06-02T14:40:58.416422",
     "exception": false,
     "start_time": "2021-06-02T14:40:58.058531",
     "status": "completed"
    },
    "tags": []
   },
   "outputs": [
    {
     "data": {
      "image/png": "[encoded data removed]",
      "text/plain": [
       "<Figure size 432x288 with 1 Axes>"
      ]
     },
     "metadata": {
      "needs_background": "light"
     },
     "output_type": "display_data"
    }
   ],
   "source": [
    "plt.hist(data['Cooling Load'], bins = 10, edgecolor = 'black', color = \"royalblue\")\n",
    "plt.show()"
   ]
  },
  {
   "cell_type": "markdown",
   "id": "posted-distributor",
   "metadata": {
    "papermill": {
     "duration": 0.176149,
     "end_time": "2021-06-02T14:40:58.763454",
     "exception": false,
     "start_time": "2021-06-02T14:40:58.587305",
     "status": "completed"
    },
    "tags": []
   },
   "source": [
    "## Visualisasi heating dan cooling load"
   ]
  },
  {
   "cell_type": "code",
   "execution_count": 47,
   "id": "republican-bones",
   "metadata": {
    "execution": {
     "iopub.execute_input": "2021-06-02T14:40:59.146607Z",
     "iopub.status.busy": "2021-06-02T14:40:59.145237Z",
     "iopub.status.idle": "2021-06-02T14:40:59.319562Z",
     "shell.execute_reply": "2021-06-02T14:40:59.320099Z",
     "shell.execute_reply.started": "2021-06-02T14:39:34.270102Z"
    },
    "papermill": {
     "duration": 0.382804,
     "end_time": "2021-06-02T14:40:59.320358",
     "exception": false,
     "start_time": "2021-06-02T14:40:58.937554",
     "status": "completed"
    },
    "tags": []
   },
   "outputs": [
    {
     "data": {
      "image/png": "[encoded data removed]",
      "text/plain": [
       "<Figure size 432x288 with 1 Axes>"
      ]
     },
     "metadata": {
      "needs_background": "light"
     },
     "output_type": "display_data"
    }
   ],
   "source": [
    "plt.hist(data['Heating Load'], bins = 10, edgecolor = 'black')\n",
    "plt.hist(data['Cooling Load'], bins = 10, edgecolor = 'black', alpha = 0.5)\n",
    "plt.show()"
   ]
  },
  {
   "cell_type": "markdown",
   "id": "funded-cleaner",
   "metadata": {
    "papermill": {
     "duration": 0.182756,
     "end_time": "2021-06-02T14:40:59.678084",
     "exception": false,
     "start_time": "2021-06-02T14:40:59.495328",
     "status": "completed"
    },
    "tags": []
   },
   "source": [
    "## Correlations"
   ]
  },
  {
   "cell_type": "code",
   "execution_count": 48,
   "id": "complicated-sellers",
   "metadata": {
    "execution": {
     "iopub.execute_input": "2021-06-02T14:41:00.056160Z",
     "iopub.status.busy": "2021-06-02T14:41:00.054981Z",
     "iopub.status.idle": "2021-06-02T14:41:00.887137Z",
     "shell.execute_reply": "2021-06-02T14:41:00.887806Z",
     "shell.execute_reply.started": "2021-06-02T14:39:34.481530Z"
    },
    "papermill": {
     "duration": 1.036607,
     "end_time": "2021-06-02T14:41:00.888025",
     "exception": false,
     "start_time": "2021-06-02T14:40:59.851418",
     "status": "completed"
    },
    "tags": []
   },
   "outputs": [
    {
     "data": {
      "text/plain": [
       "<AxesSubplot:>"
      ]
     },
     "execution_count": 48,
     "metadata": {},
     "output_type": "execute_result"
    },
    {
     "data": {
      "image/png": "[encoded data removed]",
      "text/plain": [
       "<Figure size 1080x720 with 2 Axes>"
      ]
     },
     "metadata": {
      "needs_background": "light"
     },
     "output_type": "display_data"
    }
   ],
   "source": [
    "plt.figure(figsize = (15, 10))\n",
    "sns.heatmap(data.corr(), annot = True)"
   ]
  },
  {
   "cell_type": "markdown",
   "id": "latter-sunset",
   "metadata": {
    "papermill": {
     "duration": 0.174582,
     "end_time": "2021-06-02T14:41:01.243838",
     "exception": false,
     "start_time": "2021-06-02T14:41:01.069256",
     "status": "completed"
    },
    "tags": []
   },
   "source": [
    "Kesimpulan sementara :\n",
    "* Tidak terdapat missing value\n",
    "* Tidak terdapat outliers\n",
    "\n",
    "* X1 berbanding terbalik dgn X2. Nilai korelasi -0.99 (korelasi negatif)\n",
    "* X2 berbanding lurus dgn X3. Nilai korelasi 0.2 (korelasi rendah, positif\n",
    "* X2 berbanding lurus dgn X4. Nilai korelas 0.88 (korelasi positif)\n",
    "* X3 berbanding terbalik dgn X4. Nilai korelasi -0.29 (korelasi rendah, negatif)\n",
    "* X4 berbanding terbalik dgn X5. Nilai korelasi -0.97 (korelasi negatif)\n",
    "* X7 berbanding lurus dgn X8. Nilai korelasi 0.21 (korelasi rendah, positif)\n",
    "* Y1 berbanding terbalik dgn X4. Nilai korelasi -0.86 (korelasi negatif)\n",
    "* Y1 berbanding lurus dgn X5. Nilai korelasi 0.89 (korelasi positif)\n",
    "* Y2 berbanding terbalik dgn X4. Nilai korelasi -0.86 (korelasi negatif)\n",
    "* Y2 berbanding terbalik dgn X5. Nilai korelasi 0.9 (korelasi positif)"
   ]
  },
  {
   "cell_type": "markdown",
   "id": "polished-gateway",
   "metadata": {
    "papermill": {
     "duration": 0.173084,
     "end_time": "2021-06-02T14:41:01.592770",
     "exception": false,
     "start_time": "2021-06-02T14:41:01.419686",
     "status": "completed"
    },
    "tags": []
   },
   "source": [
    "## Visualisasi atribut yang berkaitan"
   ]
  },
  {
   "cell_type": "markdown",
   "id": "absent-particle",
   "metadata": {
    "papermill": {
     "duration": 0.173589,
     "end_time": "2021-06-02T14:41:01.940632",
     "exception": false,
     "start_time": "2021-06-02T14:41:01.767043",
     "status": "completed"
    },
    "tags": []
   },
   "source": [
    "**Relative Compactness vs Surface Area**"
   ]
  },
  {
   "cell_type": "code",
   "execution_count": 49,
   "id": "provincial-front",
   "metadata": {
    "execution": {
     "iopub.execute_input": "2021-06-02T14:41:02.288563Z",
     "iopub.status.busy": "2021-06-02T14:41:02.287380Z",
     "iopub.status.idle": "2021-06-02T14:41:02.452470Z",
     "shell.execute_reply": "2021-06-02T14:41:02.452983Z",
     "shell.execute_reply.started": "2021-06-02T14:39:35.360075Z"
    },
    "papermill": {
     "duration": 0.341236,
     "end_time": "2021-06-02T14:41:02.453206",
     "exception": false,
     "start_time": "2021-06-02T14:41:02.111970",
     "status": "completed"
    },
    "tags": []
   },
   "outputs": [
    {
     "data": {
      "text/plain": [
       "<function matplotlib.pyplot.show(close=None, block=None)>"
      ]
     },
     "execution_count": 49,
     "metadata": {},
     "output_type": "execute_result"
    },
    {
     "data": {
      "image/png": "[encoded data removed]",
      "text/plain": [
       "<Figure size 432x288 with 1 Axes>"
      ]
     },
     "metadata": {
      "needs_background": "light"
     },
     "output_type": "display_data"
    }
   ],
   "source": [
    "x = data['Relative Compactness']\n",
    "y = data['Surface Area']\n",
    "plt.scatter(x,y)\n",
    "plt.show"
   ]
  },
  {
   "cell_type": "code",
   "execution_count": 50,
   "id": "hindu-sunset",
   "metadata": {
    "execution": {
     "iopub.execute_input": "2021-06-02T14:41:02.815260Z",
     "iopub.status.busy": "2021-06-02T14:41:02.814177Z",
     "iopub.status.idle": "2021-06-02T14:41:02.828378Z",
     "shell.execute_reply": "2021-06-02T14:41:02.828985Z",
     "shell.execute_reply.started": "2021-06-02T14:39:35.520519Z"
    },
    "papermill": {
     "duration": 0.200056,
     "end_time": "2021-06-02T14:41:02.829203",
     "exception": false,
     "start_time": "2021-06-02T14:41:02.629147",
     "status": "completed"
    },
    "tags": []
   },
   "outputs": [],
   "source": [
    "x = data['Relative Compactness'].values.reshape(-1,1)\n",
    "y = data['Surface Area'].values.reshape(-1,1)\n",
    "\n",
    "x_train, x_test, y_train, y_test = train_test_split(x, y, test_size=0.2)"
   ]
  },
  {
   "cell_type": "code",
   "execution_count": 51,
   "id": "sensitive-universe",
   "metadata": {
    "execution": {
     "iopub.execute_input": "2021-06-02T14:41:03.205083Z",
     "iopub.status.busy": "2021-06-02T14:41:03.183589Z",
     "iopub.status.idle": "2021-06-02T14:41:03.211829Z",
     "shell.execute_reply": "2021-06-02T14:41:03.211113Z",
     "shell.execute_reply.started": "2021-06-02T14:39:35.528470Z"
    },
    "papermill": {
     "duration": 0.204729,
     "end_time": "2021-06-02T14:41:03.212002",
     "exception": false,
     "start_time": "2021-06-02T14:41:03.007273",
     "status": "completed"
    },
    "tags": []
   },
   "outputs": [
    {
     "name": "stdout",
     "output_type": "stream",
     "text": [
      "[[-821.03290536]]\n",
      "[1299.05718485]\n"
     ]
    }
   ],
   "source": [
    "# Visualisasi pakai linier regression\n",
    "\n",
    "lin_reg = LinearRegression()\n",
    "lin_reg.fit(x_train, y_train)\n",
    "\n",
    "# nilai slope/koefisien dan intercept\n",
    "\n",
    "print(lin_reg.coef_)\n",
    "print(lin_reg.intercept_)"
   ]
  },
  {
   "cell_type": "code",
   "execution_count": 52,
   "id": "olympic-contrast",
   "metadata": {
    "execution": {
     "iopub.execute_input": "2021-06-02T14:41:03.568914Z",
     "iopub.status.busy": "2021-06-02T14:41:03.568082Z",
     "iopub.status.idle": "2021-06-02T14:41:03.571053Z",
     "shell.execute_reply": "2021-06-02T14:41:03.571580Z",
     "shell.execute_reply.started": "2021-06-02T14:39:35.560299Z"
    },
    "papermill": {
     "duration": 0.186324,
     "end_time": "2021-06-02T14:41:03.571815",
     "exception": false,
     "start_time": "2021-06-02T14:41:03.385491",
     "status": "completed"
    },
    "tags": []
   },
   "outputs": [
    {
     "data": {
      "text/plain": [
       "0.9839038348855009"
      ]
     },
     "execution_count": 52,
     "metadata": {},
     "output_type": "execute_result"
    }
   ],
   "source": [
    "# accuracy score\n",
    "\n",
    "lin_reg.score(x_test, y_test)"
   ]
  },
  {
   "cell_type": "code",
   "execution_count": 53,
   "id": "eleven-title",
   "metadata": {
    "execution": {
     "iopub.execute_input": "2021-06-02T14:41:03.935977Z",
     "iopub.status.busy": "2021-06-02T14:41:03.935240Z",
     "iopub.status.idle": "2021-06-02T14:41:04.139051Z",
     "shell.execute_reply": "2021-06-02T14:41:04.138393Z",
     "shell.execute_reply.started": "2021-06-02T14:39:35.576314Z"
    },
    "papermill": {
     "duration": 0.38724,
     "end_time": "2021-06-02T14:41:04.139241",
     "exception": false,
     "start_time": "2021-06-02T14:41:03.752001",
     "status": "completed"
    },
    "tags": []
   },
   "outputs": [
    {
     "data": {
      "text/plain": [
       "Text(0.5, 1.0, 'Relative Compactness vs Surface Area')"
      ]
     },
     "execution_count": 53,
     "metadata": {},
     "output_type": "execute_result"
    },
    {
     "data": {
      "image/png": "[encoded data removed]",
      "text/plain": [
       "<Figure size 432x288 with 1 Axes>"
      ]
     },
     "metadata": {
      "needs_background": "light"
     },
     "output_type": "display_data"
    }
   ],
   "source": [
    "y_prediksi = lin_reg.predict(x_test)\n",
    "plt.scatter(x_test, y_test)\n",
    "plt.plot(x_test, y_prediksi, c = 'r')\n",
    "plt.xlabel('Relative Compactness')\n",
    "plt.ylabel('Surface Area')\n",
    "plt.title('Relative Compactness vs Surface Area')"
   ]
  },
  {
   "cell_type": "markdown",
   "id": "furnished-protest",
   "metadata": {
    "papermill": {
     "duration": 0.176124,
     "end_time": "2021-06-02T14:41:04.491766",
     "exception": false,
     "start_time": "2021-06-02T14:41:04.315642",
     "status": "completed"
    },
    "tags": []
   },
   "source": [
    "**Relative Compactness vs Roof Area**"
   ]
  },
  {
   "cell_type": "code",
   "execution_count": 54,
   "id": "antique-russia",
   "metadata": {
    "execution": {
     "iopub.execute_input": "2021-06-02T14:41:04.891748Z",
     "iopub.status.busy": "2021-06-02T14:41:04.875619Z",
     "iopub.status.idle": "2021-06-02T14:41:05.038006Z",
     "shell.execute_reply": "2021-06-02T14:41:05.037164Z",
     "shell.execute_reply.started": "2021-06-02T14:39:35.759860Z"
    },
    "papermill": {
     "duration": 0.345992,
     "end_time": "2021-06-02T14:41:05.038189",
     "exception": false,
     "start_time": "2021-06-02T14:41:04.692197",
     "status": "completed"
    },
    "tags": []
   },
   "outputs": [
    {
     "data": {
      "text/plain": [
       "<function matplotlib.pyplot.show(close=None, block=None)>"
      ]
     },
     "execution_count": 54,
     "metadata": {},
     "output_type": "execute_result"
    },
    {
     "data": {
      "image/png": "[encoded data removed]",
      "text/plain": [
       "<Figure size 432x288 with 1 Axes>"
      ]
     },
     "metadata": {
      "needs_background": "light"
     },
     "output_type": "display_data"
    }
   ],
   "source": [
    "x = data['Relative Compactness']\n",
    "y = data['Roof Area']\n",
    "plt.scatter(x,y)\n",
    "plt.show"
   ]
  },
  {
   "cell_type": "code",
   "execution_count": 55,
   "id": "worse-stephen",
   "metadata": {
    "execution": {
     "iopub.execute_input": "2021-06-02T14:41:05.393782Z",
     "iopub.status.busy": "2021-06-02T14:41:05.392896Z",
     "iopub.status.idle": "2021-06-02T14:41:05.396158Z",
     "shell.execute_reply": "2021-06-02T14:41:05.396810Z",
     "shell.execute_reply.started": "2021-06-02T14:39:35.914557Z"
    },
    "papermill": {
     "duration": 0.184292,
     "end_time": "2021-06-02T14:41:05.397010",
     "exception": false,
     "start_time": "2021-06-02T14:41:05.212718",
     "status": "completed"
    },
    "tags": []
   },
   "outputs": [],
   "source": [
    "x = data['Relative Compactness'].values.reshape(-1,1)\n",
    "y = data['Roof Area'].values.reshape(-1,1)\n",
    "\n",
    "x_train, x_test, y_train, y_test = train_test_split(x, y, test_size=0.2)"
   ]
  },
  {
   "cell_type": "code",
   "execution_count": 56,
   "id": "representative-hampshire",
   "metadata": {
    "execution": {
     "iopub.execute_input": "2021-06-02T14:41:05.749413Z",
     "iopub.status.busy": "2021-06-02T14:41:05.748402Z",
     "iopub.status.idle": "2021-06-02T14:41:05.757854Z",
     "shell.execute_reply": "2021-06-02T14:41:05.757081Z",
     "shell.execute_reply.started": "2021-06-02T14:39:35.922486Z"
    },
    "papermill": {
     "duration": 0.188667,
     "end_time": "2021-06-02T14:41:05.758070",
     "exception": false,
     "start_time": "2021-06-02T14:41:05.569403",
     "status": "completed"
    },
    "tags": []
   },
   "outputs": [
    {
     "name": "stdout",
     "output_type": "stream",
     "text": [
      "[[-370.98376157]]\n",
      "[460.42876309]\n"
     ]
    }
   ],
   "source": [
    "# Visualisasi pakai linier regression\n",
    "\n",
    "lin_reg = LinearRegression()\n",
    "lin_reg.fit(x_train, y_train)\n",
    "\n",
    "# nilai slope/koefisien dan intercept\n",
    "\n",
    "print(lin_reg.coef_)\n",
    "print(lin_reg.intercept_)"
   ]
  },
  {
   "cell_type": "code",
   "execution_count": 57,
   "id": "transparent-interface",
   "metadata": {
    "execution": {
     "iopub.execute_input": "2021-06-02T14:41:06.113369Z",
     "iopub.status.busy": "2021-06-02T14:41:06.112414Z",
     "iopub.status.idle": "2021-06-02T14:41:06.116728Z",
     "shell.execute_reply": "2021-06-02T14:41:06.115946Z",
     "shell.execute_reply.started": "2021-06-02T14:39:35.945459Z"
    },
    "papermill": {
     "duration": 0.186152,
     "end_time": "2021-06-02T14:41:06.116926",
     "exception": false,
     "start_time": "2021-06-02T14:41:05.930774",
     "status": "completed"
    },
    "tags": []
   },
   "outputs": [
    {
     "data": {
      "text/plain": [
       "0.7905010582551406"
      ]
     },
     "execution_count": 57,
     "metadata": {},
     "output_type": "execute_result"
    }
   ],
   "source": [
    "# accuracy score\n",
    "\n",
    "lin_reg.score(x_test, y_test)"
   ]
  },
  {
   "cell_type": "code",
   "execution_count": 58,
   "id": "falling-universe",
   "metadata": {
    "execution": {
     "iopub.execute_input": "2021-06-02T14:41:06.504269Z",
     "iopub.status.busy": "2021-06-02T14:41:06.503584Z",
     "iopub.status.idle": "2021-06-02T14:41:06.659451Z",
     "shell.execute_reply": "2021-06-02T14:41:06.658682Z",
     "shell.execute_reply.started": "2021-06-02T14:39:35.961558Z"
    },
    "papermill": {
     "duration": 0.369725,
     "end_time": "2021-06-02T14:41:06.659638",
     "exception": false,
     "start_time": "2021-06-02T14:41:06.289913",
     "status": "completed"
    },
    "tags": []
   },
   "outputs": [
    {
     "data": {
      "text/plain": [
       "Text(0.5, 1.0, 'Relative Compactness vs Roof Area')"
      ]
     },
     "execution_count": 58,
     "metadata": {},
     "output_type": "execute_result"
    },
    {
     "data": {
      "image/png": "[encoded data removed]",
      "text/plain": [
       "<Figure size 432x288 with 1 Axes>"
      ]
     },
     "metadata": {
      "needs_background": "light"
     },
     "output_type": "display_data"
    }
   ],
   "source": [
    "y_prediksi = lin_reg.predict(x_test)\n",
    "plt.scatter(x_test, y_test)\n",
    "plt.plot(x_test, y_prediksi, c = 'r')\n",
    "plt.xlabel('Relative Compactness')\n",
    "plt.ylabel('Roof Area')\n",
    "plt.title('Relative Compactness vs Roof Area')"
   ]
  },
  {
   "cell_type": "markdown",
   "id": "mechanical-consolidation",
   "metadata": {
    "papermill": {
     "duration": 0.177281,
     "end_time": "2021-06-02T14:41:07.011962",
     "exception": false,
     "start_time": "2021-06-02T14:41:06.834681",
     "status": "completed"
    },
    "tags": []
   },
   "source": [
    "**Relative Compactness vs Wall Area**"
   ]
  },
  {
   "cell_type": "code",
   "execution_count": 59,
   "id": "ancient-anime",
   "metadata": {
    "execution": {
     "iopub.execute_input": "2021-06-02T14:41:07.404884Z",
     "iopub.status.busy": "2021-06-02T14:41:07.403057Z",
     "iopub.status.idle": "2021-06-02T14:41:07.558424Z",
     "shell.execute_reply": "2021-06-02T14:41:07.557081Z",
     "shell.execute_reply.started": "2021-06-02T14:39:36.139222Z"
    },
    "papermill": {
     "duration": 0.36687,
     "end_time": "2021-06-02T14:41:07.558629",
     "exception": false,
     "start_time": "2021-06-02T14:41:07.191759",
     "status": "completed"
    },
    "tags": []
   },
   "outputs": [
    {
     "data": {
      "text/plain": [
       "<function matplotlib.pyplot.show(close=None, block=None)>"
      ]
     },
     "execution_count": 59,
     "metadata": {},
     "output_type": "execute_result"
    },
    {
     "data": {
      "image/png": "[encoded data removed]",
      "text/plain": [
       "<Figure size 432x288 with 1 Axes>"
      ]
     },
     "metadata": {
      "needs_background": "light"
     },
     "output_type": "display_data"
    }
   ],
   "source": [
    "x = data['Relative Compactness']\n",
    "y = data['Wall Area']\n",
    "plt.scatter(x,y)\n",
    "plt.show"
   ]
  },
  {
   "cell_type": "code",
   "execution_count": 60,
   "id": "serious-cleaner",
   "metadata": {
    "execution": {
     "iopub.execute_input": "2021-06-02T14:41:07.925470Z",
     "iopub.status.busy": "2021-06-02T14:41:07.924644Z",
     "iopub.status.idle": "2021-06-02T14:41:07.928751Z",
     "shell.execute_reply": "2021-06-02T14:41:07.928032Z",
     "shell.execute_reply.started": "2021-06-02T14:39:36.302939Z"
    },
    "papermill": {
     "duration": 0.189176,
     "end_time": "2021-06-02T14:41:07.928925",
     "exception": false,
     "start_time": "2021-06-02T14:41:07.739749",
     "status": "completed"
    },
    "tags": []
   },
   "outputs": [],
   "source": [
    "x = data['Relative Compactness'].values.reshape(-1,1)\n",
    "y = data['Wall Area'].values.reshape(-1,1)\n",
    "\n",
    "x_train, x_test, y_train, y_test = train_test_split(x, y, test_size=0.2)"
   ]
  },
  {
   "cell_type": "code",
   "execution_count": 61,
   "id": "norwegian-desire",
   "metadata": {
    "execution": {
     "iopub.execute_input": "2021-06-02T14:41:08.309020Z",
     "iopub.status.busy": "2021-06-02T14:41:08.307937Z",
     "iopub.status.idle": "2021-06-02T14:41:08.312236Z",
     "shell.execute_reply": "2021-06-02T14:41:08.311572Z",
     "shell.execute_reply.started": "2021-06-02T14:39:36.312114Z"
    },
    "papermill": {
     "duration": 0.201447,
     "end_time": "2021-06-02T14:41:08.312416",
     "exception": false,
     "start_time": "2021-06-02T14:41:08.110969",
     "status": "completed"
    },
    "tags": []
   },
   "outputs": [
    {
     "name": "stdout",
     "output_type": "stream",
     "text": [
      "[[-85.45106433]]\n",
      "[385.19149162]\n"
     ]
    }
   ],
   "source": [
    "# Visualisasi pakai linier regression\n",
    "\n",
    "lin_reg = LinearRegression()\n",
    "lin_reg.fit(x_train, y_train)\n",
    "\n",
    "# nilai slope/koefisien dan intercept\n",
    "\n",
    "print(lin_reg.coef_)\n",
    "print(lin_reg.intercept_)"
   ]
  },
  {
   "cell_type": "code",
   "execution_count": 62,
   "id": "strange-archives",
   "metadata": {
    "execution": {
     "iopub.execute_input": "2021-06-02T14:41:08.691260Z",
     "iopub.status.busy": "2021-06-02T14:41:08.690422Z",
     "iopub.status.idle": "2021-06-02T14:41:08.693410Z",
     "shell.execute_reply": "2021-06-02T14:41:08.693920Z",
     "shell.execute_reply.started": "2021-06-02T14:39:36.327721Z"
    },
    "papermill": {
     "duration": 0.196544,
     "end_time": "2021-06-02T14:41:08.694115",
     "exception": false,
     "start_time": "2021-06-02T14:41:08.497571",
     "status": "completed"
    },
    "tags": []
   },
   "outputs": [
    {
     "data": {
      "text/plain": [
       "0.012317181800426735"
      ]
     },
     "execution_count": 62,
     "metadata": {},
     "output_type": "execute_result"
    }
   ],
   "source": [
    "# accuracy score\n",
    "\n",
    "lin_reg.score(x_test, y_test)"
   ]
  },
  {
   "cell_type": "code",
   "execution_count": 63,
   "id": "adopted-nicholas",
   "metadata": {
    "execution": {
     "iopub.execute_input": "2021-06-02T14:41:09.164411Z",
     "iopub.status.busy": "2021-06-02T14:41:09.163646Z",
     "iopub.status.idle": "2021-06-02T14:41:09.351283Z",
     "shell.execute_reply": "2021-06-02T14:41:09.350650Z",
     "shell.execute_reply.started": "2021-06-02T14:39:36.339894Z"
    },
    "papermill": {
     "duration": 0.384454,
     "end_time": "2021-06-02T14:41:09.351476",
     "exception": false,
     "start_time": "2021-06-02T14:41:08.967022",
     "status": "completed"
    },
    "tags": []
   },
   "outputs": [
    {
     "data": {
      "text/plain": [
       "Text(0.5, 1.0, 'Relative Compactness vs Wall Area')"
      ]
     },
     "execution_count": 63,
     "metadata": {},
     "output_type": "execute_result"
    },
    {
     "data": {
      "image/png": "[encoded data removed]",
      "text/plain": [
       "<Figure size 432x288 with 1 Axes>"
      ]
     },
     "metadata": {
      "needs_background": "light"
     },
     "output_type": "display_data"
    }
   ],
   "source": [
    "y_prediksi = lin_reg.predict(x_test)\n",
    "plt.scatter(x_test, y_test)\n",
    "plt.plot(x_test, y_prediksi, c = 'r')\n",
    "plt.xlabel('Relative Compactness')\n",
    "plt.ylabel('Wall Area')\n",
    "plt.title('Relative Compactness vs Wall Area')"
   ]
  },
  {
   "cell_type": "markdown",
   "id": "southwest-plasma",
   "metadata": {
    "papermill": {
     "duration": 0.188822,
     "end_time": "2021-06-02T14:41:09.725847",
     "exception": false,
     "start_time": "2021-06-02T14:41:09.537025",
     "status": "completed"
    },
    "tags": []
   },
   "source": [
    "**Relative Compactness vs Overall Height**"
   ]
  },
  {
   "cell_type": "code",
   "execution_count": 64,
   "id": "nutritional-amber",
   "metadata": {
    "execution": {
     "iopub.execute_input": "2021-06-02T14:41:10.111218Z",
     "iopub.status.busy": "2021-06-02T14:41:10.108516Z",
     "iopub.status.idle": "2021-06-02T14:41:10.263584Z",
     "shell.execute_reply": "2021-06-02T14:41:10.262963Z",
     "shell.execute_reply.started": "2021-06-02T14:39:36.518518Z"
    },
    "papermill": {
     "duration": 0.356051,
     "end_time": "2021-06-02T14:41:10.263750",
     "exception": false,
     "start_time": "2021-06-02T14:41:09.907699",
     "status": "completed"
    },
    "tags": []
   },
   "outputs": [
    {
     "data": {
      "text/plain": [
       "<function matplotlib.pyplot.show(close=None, block=None)>"
      ]
     },
     "execution_count": 64,
     "metadata": {},
     "output_type": "execute_result"
    },
    {
     "data": {
      "image/png": "[encoded data removed]",
      "text/plain": [
       "<Figure size 432x288 with 1 Axes>"
      ]
     },
     "metadata": {
      "needs_background": "light"
     },
     "output_type": "display_data"
    }
   ],
   "source": [
    "x = data['Relative Compactness']\n",
    "y = data['Overall Height']\n",
    "plt.scatter(x,y)\n",
    "plt.show"
   ]
  },
  {
   "cell_type": "code",
   "execution_count": 65,
   "id": "stainless-pantyhose",
   "metadata": {
    "execution": {
     "iopub.execute_input": "2021-06-02T14:41:10.627425Z",
     "iopub.status.busy": "2021-06-02T14:41:10.626645Z",
     "iopub.status.idle": "2021-06-02T14:41:10.630027Z",
     "shell.execute_reply": "2021-06-02T14:41:10.629356Z",
     "shell.execute_reply.started": "2021-06-02T14:39:36.682495Z"
    },
    "papermill": {
     "duration": 0.188502,
     "end_time": "2021-06-02T14:41:10.630212",
     "exception": false,
     "start_time": "2021-06-02T14:41:10.441710",
     "status": "completed"
    },
    "tags": []
   },
   "outputs": [],
   "source": [
    "x = data['Relative Compactness'].values.reshape(-1,1)\n",
    "y = data['Overall Height'].values.reshape(-1,1)\n",
    "\n",
    "x_train, x_test, y_train, y_test = train_test_split(x, y, test_size=0.2)"
   ]
  },
  {
   "cell_type": "code",
   "execution_count": 66,
   "id": "assumed-realtor",
   "metadata": {
    "execution": {
     "iopub.execute_input": "2021-06-02T14:41:11.000161Z",
     "iopub.status.busy": "2021-06-02T14:41:10.999129Z",
     "iopub.status.idle": "2021-06-02T14:41:11.004843Z",
     "shell.execute_reply": "2021-06-02T14:41:11.003968Z",
     "shell.execute_reply.started": "2021-06-02T14:39:36.688660Z"
    },
    "papermill": {
     "duration": 0.193948,
     "end_time": "2021-06-02T14:41:11.005075",
     "exception": false,
     "start_time": "2021-06-02T14:41:10.811127",
     "status": "completed"
    },
    "tags": []
   },
   "outputs": [
    {
     "name": "stdout",
     "output_type": "stream",
     "text": [
      "[[13.80850172]]\n",
      "[-5.31593576]\n"
     ]
    }
   ],
   "source": [
    "# Visualisasi pakai linier regression\n",
    "\n",
    "lin_reg = LinearRegression()\n",
    "lin_reg.fit(x_train, y_train)\n",
    "\n",
    "# nilai slope/koefisien dan intercept\n",
    "\n",
    "print(lin_reg.coef_)\n",
    "print(lin_reg.intercept_)"
   ]
  },
  {
   "cell_type": "code",
   "execution_count": 67,
   "id": "legislative-manufacturer",
   "metadata": {
    "execution": {
     "iopub.execute_input": "2021-06-02T14:41:11.370760Z",
     "iopub.status.busy": "2021-06-02T14:41:11.369743Z",
     "iopub.status.idle": "2021-06-02T14:41:11.374168Z",
     "shell.execute_reply": "2021-06-02T14:41:11.373561Z",
     "shell.execute_reply.started": "2021-06-02T14:39:36.706690Z"
    },
    "papermill": {
     "duration": 0.191101,
     "end_time": "2021-06-02T14:41:11.374339",
     "exception": false,
     "start_time": "2021-06-02T14:41:11.183238",
     "status": "completed"
    },
    "tags": []
   },
   "outputs": [
    {
     "data": {
      "text/plain": [
       "0.6326702221552941"
      ]
     },
     "execution_count": 67,
     "metadata": {},
     "output_type": "execute_result"
    }
   ],
   "source": [
    "# accuracy score\n",
    "\n",
    "lin_reg.score(x_test, y_test)"
   ]
  },
  {
   "cell_type": "code",
   "execution_count": 68,
   "id": "vanilla-canon",
   "metadata": {
    "execution": {
     "iopub.execute_input": "2021-06-02T14:41:11.767645Z",
     "iopub.status.busy": "2021-06-02T14:41:11.756376Z",
     "iopub.status.idle": "2021-06-02T14:41:11.922638Z",
     "shell.execute_reply": "2021-06-02T14:41:11.921772Z",
     "shell.execute_reply.started": "2021-06-02T14:39:36.728134Z"
    },
    "papermill": {
     "duration": 0.367161,
     "end_time": "2021-06-02T14:41:11.922830",
     "exception": false,
     "start_time": "2021-06-02T14:41:11.555669",
     "status": "completed"
    },
    "tags": []
   },
   "outputs": [
    {
     "data": {
      "text/plain": [
       "Text(0.5, 1.0, 'Relative Compactness vs Overall Height')"
      ]
     },
     "execution_count": 68,
     "metadata": {},
     "output_type": "execute_result"
    },
    {
     "data": {
      "image/png": "[encoded data removed]",
      "text/plain": [
       "<Figure size 432x288 with 1 Axes>"
      ]
     },
     "metadata": {
      "needs_background": "light"
     },
     "output_type": "display_data"
    }
   ],
   "source": [
    "y_prediksi = lin_reg.predict(x_test)\n",
    "plt.scatter(x_test, y_test)\n",
    "plt.plot(x_test, y_prediksi, c = 'r')\n",
    "plt.xlabel('Relative Compactness')\n",
    "plt.ylabel('Overall Height')\n",
    "plt.title('Relative Compactness vs Overall Height')"
   ]
  },
  {
   "cell_type": "markdown",
   "id": "technological-black",
   "metadata": {
    "papermill": {
     "duration": 0.181016,
     "end_time": "2021-06-02T14:41:12.288526",
     "exception": false,
     "start_time": "2021-06-02T14:41:12.107510",
     "status": "completed"
    },
    "tags": []
   },
   "source": [
    "**Surface Area vs Wall Area**"
   ]
  },
  {
   "cell_type": "code",
   "execution_count": 69,
   "id": "physical-madness",
   "metadata": {
    "execution": {
     "iopub.execute_input": "2021-06-02T14:41:12.693237Z",
     "iopub.status.busy": "2021-06-02T14:41:12.688514Z",
     "iopub.status.idle": "2021-06-02T14:41:12.854762Z",
     "shell.execute_reply": "2021-06-02T14:41:12.855292Z",
     "shell.execute_reply.started": "2021-06-02T14:39:36.895167Z"
    },
    "papermill": {
     "duration": 0.381706,
     "end_time": "2021-06-02T14:41:12.855525",
     "exception": false,
     "start_time": "2021-06-02T14:41:12.473819",
     "status": "completed"
    },
    "tags": []
   },
   "outputs": [
    {
     "data": {
      "text/plain": [
       "<function matplotlib.pyplot.show(close=None, block=None)>"
      ]
     },
     "execution_count": 69,
     "metadata": {},
     "output_type": "execute_result"
    },
    {
     "data": {
      "image/png": "[encoded data removed]",
      "text/plain": [
       "<Figure size 432x288 with 1 Axes>"
      ]
     },
     "metadata": {
      "needs_background": "light"
     },
     "output_type": "display_data"
    }
   ],
   "source": [
    "x = data['Surface Area']\n",
    "y = data['Wall Area']\n",
    "plt.scatter(x,y)\n",
    "plt.show"
   ]
  },
  {
   "cell_type": "code",
   "execution_count": 70,
   "id": "familiar-texture",
   "metadata": {
    "execution": {
     "iopub.execute_input": "2021-06-02T14:41:13.236628Z",
     "iopub.status.busy": "2021-06-02T14:41:13.235845Z",
     "iopub.status.idle": "2021-06-02T14:41:13.239462Z",
     "shell.execute_reply": "2021-06-02T14:41:13.238844Z",
     "shell.execute_reply.started": "2021-06-02T14:39:37.212507Z"
    },
    "papermill": {
     "duration": 0.195712,
     "end_time": "2021-06-02T14:41:13.239633",
     "exception": false,
     "start_time": "2021-06-02T14:41:13.043921",
     "status": "completed"
    },
    "tags": []
   },
   "outputs": [],
   "source": [
    "x = data['Surface Area'].values.reshape(-1,1)\n",
    "y = data['Wall Area'].values.reshape(-1,1)\n",
    "\n",
    "x_train, x_test, y_train, y_test = train_test_split(x, y, test_size=0.2)"
   ]
  },
  {
   "cell_type": "code",
   "execution_count": 71,
   "id": "mechanical-facility",
   "metadata": {
    "execution": {
     "iopub.execute_input": "2021-06-02T14:41:13.619933Z",
     "iopub.status.busy": "2021-06-02T14:41:13.619156Z",
     "iopub.status.idle": "2021-06-02T14:41:13.622335Z",
     "shell.execute_reply": "2021-06-02T14:41:13.623109Z",
     "shell.execute_reply.started": "2021-06-02T14:39:37.219270Z"
    },
    "papermill": {
     "duration": 0.200296,
     "end_time": "2021-06-02T14:41:13.623415",
     "exception": false,
     "start_time": "2021-06-02T14:41:13.423119",
     "status": "completed"
    },
    "tags": []
   },
   "outputs": [
    {
     "name": "stdout",
     "output_type": "stream",
     "text": [
      "[[0.09386367]]\n",
      "[255.6200631]\n"
     ]
    }
   ],
   "source": [
    "# Visualisasi pakai linier regression\n",
    "\n",
    "lin_reg = LinearRegression()\n",
    "lin_reg.fit(x_train, y_train)\n",
    "\n",
    "# nilai slope/koefisien dan intercept\n",
    "\n",
    "print(lin_reg.coef_)\n",
    "print(lin_reg.intercept_)"
   ]
  },
  {
   "cell_type": "code",
   "execution_count": 72,
   "id": "traditional-genealogy",
   "metadata": {
    "execution": {
     "iopub.execute_input": "2021-06-02T14:41:14.002817Z",
     "iopub.status.busy": "2021-06-02T14:41:14.001509Z",
     "iopub.status.idle": "2021-06-02T14:41:14.005336Z",
     "shell.execute_reply": "2021-06-02T14:41:14.005910Z",
     "shell.execute_reply.started": "2021-06-02T14:39:37.245130Z"
    },
    "papermill": {
     "duration": 0.195908,
     "end_time": "2021-06-02T14:41:14.006153",
     "exception": false,
     "start_time": "2021-06-02T14:41:13.810245",
     "status": "completed"
    },
    "tags": []
   },
   "outputs": [
    {
     "data": {
      "text/plain": [
       "0.04606936272590256"
      ]
     },
     "execution_count": 72,
     "metadata": {},
     "output_type": "execute_result"
    }
   ],
   "source": [
    "# accuracy score\n",
    "\n",
    "lin_reg.score(x_test, y_test)"
   ]
  },
  {
   "cell_type": "code",
   "execution_count": 73,
   "id": "improved-hours",
   "metadata": {
    "execution": {
     "iopub.execute_input": "2021-06-02T14:41:14.746336Z",
     "iopub.status.busy": "2021-06-02T14:41:14.745626Z",
     "iopub.status.idle": "2021-06-02T14:41:14.899076Z",
     "shell.execute_reply": "2021-06-02T14:41:14.899596Z",
     "shell.execute_reply.started": "2021-06-02T14:39:37.264097Z"
    },
    "papermill": {
     "duration": 0.696409,
     "end_time": "2021-06-02T14:41:14.899857",
     "exception": false,
     "start_time": "2021-06-02T14:41:14.203448",
     "status": "completed"
    },
    "tags": []
   },
   "outputs": [
    {
     "data": {
      "text/plain": [
       "Text(0.5, 1.0, 'Surface Area vs Wall Area')"
      ]
     },
     "execution_count": 73,
     "metadata": {},
     "output_type": "execute_result"
    },
    {
     "data": {
      "image/png": "[encoded data removed]",
      "text/plain": [
       "<Figure size 432x288 with 1 Axes>"
      ]
     },
     "metadata": {
      "needs_background": "light"
     },
     "output_type": "display_data"
    }
   ],
   "source": [
    "y_prediksi = lin_reg.predict(x_test)\n",
    "plt.scatter(x_test, y_test)\n",
    "plt.plot(x_test, y_prediksi, c = 'r')\n",
    "plt.xlabel('Surface Area')\n",
    "plt.ylabel('Wall Area')\n",
    "plt.title('Surface Area vs Wall Area')"
   ]
  },
  {
   "cell_type": "markdown",
   "id": "focal-thread",
   "metadata": {
    "papermill": {
     "duration": 0.192486,
     "end_time": "2021-06-02T14:41:15.288901",
     "exception": false,
     "start_time": "2021-06-02T14:41:15.096415",
     "status": "completed"
    },
    "tags": []
   },
   "source": [
    "**Surface Area vs Roof Area**"
   ]
  },
  {
   "cell_type": "code",
   "execution_count": 74,
   "id": "imposed-convergence",
   "metadata": {
    "execution": {
     "iopub.execute_input": "2021-06-02T14:41:15.706291Z",
     "iopub.status.busy": "2021-06-02T14:41:15.698978Z",
     "iopub.status.idle": "2021-06-02T14:41:15.867957Z",
     "shell.execute_reply": "2021-06-02T14:41:15.867240Z",
     "shell.execute_reply.started": "2021-06-02T14:39:37.445925Z"
    },
    "papermill": {
     "duration": 0.390507,
     "end_time": "2021-06-02T14:41:15.868122",
     "exception": false,
     "start_time": "2021-06-02T14:41:15.477615",
     "status": "completed"
    },
    "tags": []
   },
   "outputs": [
    {
     "data": {
      "text/plain": [
       "<function matplotlib.pyplot.show(close=None, block=None)>"
      ]
     },
     "execution_count": 74,
     "metadata": {},
     "output_type": "execute_result"
    },
    {
     "data": {
      "image/png": "[encoded data removed]",
      "text/plain": [
       "<Figure size 432x288 with 1 Axes>"
      ]
     },
     "metadata": {
      "needs_background": "light"
     },
     "output_type": "display_data"
    }
   ],
   "source": [
    "x = data['Surface Area']\n",
    "y = data['Roof Area']\n",
    "plt.scatter(x,y)\n",
    "plt.show"
   ]
  },
  {
   "cell_type": "code",
   "execution_count": 75,
   "id": "sexual-degree",
   "metadata": {
    "execution": {
     "iopub.execute_input": "2021-06-02T14:41:16.251003Z",
     "iopub.status.busy": "2021-06-02T14:41:16.250277Z",
     "iopub.status.idle": "2021-06-02T14:41:16.253066Z",
     "shell.execute_reply": "2021-06-02T14:41:16.252393Z",
     "shell.execute_reply.started": "2021-06-02T14:39:37.601099Z"
    },
    "papermill": {
     "duration": 0.199111,
     "end_time": "2021-06-02T14:41:16.253223",
     "exception": false,
     "start_time": "2021-06-02T14:41:16.054112",
     "status": "completed"
    },
    "tags": []
   },
   "outputs": [],
   "source": [
    "x = data['Surface Area'].values.reshape(-1,1)\n",
    "y = data['Roof Area'].values.reshape(-1,1)\n",
    "\n",
    "x_train, x_test, y_train, y_test = train_test_split(x, y, test_size=0.2)"
   ]
  },
  {
   "cell_type": "code",
   "execution_count": 76,
   "id": "looking-graph",
   "metadata": {
    "execution": {
     "iopub.execute_input": "2021-06-02T14:41:16.626778Z",
     "iopub.status.busy": "2021-06-02T14:41:16.626013Z",
     "iopub.status.idle": "2021-06-02T14:41:16.633880Z",
     "shell.execute_reply": "2021-06-02T14:41:16.634457Z",
     "shell.execute_reply.started": "2021-06-02T14:39:37.608955Z"
    },
    "papermill": {
     "duration": 0.19717,
     "end_time": "2021-06-02T14:41:16.634676",
     "exception": false,
     "start_time": "2021-06-02T14:41:16.437506",
     "status": "completed"
    },
    "tags": []
   },
   "outputs": [
    {
     "name": "stdout",
     "output_type": "stream",
     "text": [
      "[[0.4505452]]\n",
      "[-126.06861685]\n"
     ]
    }
   ],
   "source": [
    "# Visualisasi pakai linier regression\n",
    "\n",
    "lin_reg = LinearRegression()\n",
    "lin_reg.fit(x_train, y_train)\n",
    "\n",
    "# nilai slope/koefisien dan intercept\n",
    "\n",
    "print(lin_reg.coef_)\n",
    "print(lin_reg.intercept_)"
   ]
  },
  {
   "cell_type": "code",
   "execution_count": 77,
   "id": "agreed-hybrid",
   "metadata": {
    "execution": {
     "iopub.execute_input": "2021-06-02T14:41:17.011580Z",
     "iopub.status.busy": "2021-06-02T14:41:17.010828Z",
     "iopub.status.idle": "2021-06-02T14:41:17.015437Z",
     "shell.execute_reply": "2021-06-02T14:41:17.014846Z",
     "shell.execute_reply.started": "2021-06-02T14:39:37.630555Z"
    },
    "papermill": {
     "duration": 0.194811,
     "end_time": "2021-06-02T14:41:17.015603",
     "exception": false,
     "start_time": "2021-06-02T14:41:16.820792",
     "status": "completed"
    },
    "tags": []
   },
   "outputs": [
    {
     "data": {
      "text/plain": [
       "0.7717680347364178"
      ]
     },
     "execution_count": 77,
     "metadata": {},
     "output_type": "execute_result"
    }
   ],
   "source": [
    "# accuracy score\n",
    "\n",
    "lin_reg.score(x_test, y_test)"
   ]
  },
  {
   "cell_type": "code",
   "execution_count": 78,
   "id": "accurate-perry",
   "metadata": {
    "execution": {
     "iopub.execute_input": "2021-06-02T14:41:17.386648Z",
     "iopub.status.busy": "2021-06-02T14:41:17.385918Z",
     "iopub.status.idle": "2021-06-02T14:41:17.560097Z",
     "shell.execute_reply": "2021-06-02T14:41:17.560716Z",
     "shell.execute_reply.started": "2021-06-02T14:39:37.646839Z"
    },
    "papermill": {
     "duration": 0.361847,
     "end_time": "2021-06-02T14:41:17.560930",
     "exception": false,
     "start_time": "2021-06-02T14:41:17.199083",
     "status": "completed"
    },
    "tags": []
   },
   "outputs": [
    {
     "data": {
      "text/plain": [
       "Text(0.5, 1.0, 'Surface Area vs Roof Area')"
      ]
     },
     "execution_count": 78,
     "metadata": {},
     "output_type": "execute_result"
    },
    {
     "data": {
      "image/png": "[encoded data removed]",
      "text/plain": [
       "<Figure size 432x288 with 1 Axes>"
      ]
     },
     "metadata": {
      "needs_background": "light"
     },
     "output_type": "display_data"
    }
   ],
   "source": [
    "y_prediksi = lin_reg.predict(x_test)\n",
    "plt.scatter(x_test, y_test)\n",
    "plt.plot(x_test, y_prediksi, c = 'r')\n",
    "plt.xlabel('Surface Area')\n",
    "plt.ylabel('Roof Area')\n",
    "plt.title('Surface Area vs Roof Area')"
   ]
  },
  {
   "cell_type": "markdown",
   "id": "phantom-simple",
   "metadata": {
    "papermill": {
     "duration": 0.1896,
     "end_time": "2021-06-02T14:41:17.939139",
     "exception": false,
     "start_time": "2021-06-02T14:41:17.749539",
     "status": "completed"
    },
    "tags": []
   },
   "source": [
    "**Surface Area vs Overall Height**"
   ]
  },
  {
   "cell_type": "code",
   "execution_count": 79,
   "id": "assigned-possibility",
   "metadata": {
    "execution": {
     "iopub.execute_input": "2021-06-02T14:41:18.320651Z",
     "iopub.status.busy": "2021-06-02T14:41:18.319911Z",
     "iopub.status.idle": "2021-06-02T14:41:18.499005Z",
     "shell.execute_reply": "2021-06-02T14:41:18.498192Z",
     "shell.execute_reply.started": "2021-06-02T14:39:37.828237Z"
    },
    "papermill": {
     "duration": 0.370966,
     "end_time": "2021-06-02T14:41:18.499215",
     "exception": false,
     "start_time": "2021-06-02T14:41:18.128249",
     "status": "completed"
    },
    "tags": []
   },
   "outputs": [
    {
     "data": {
      "text/plain": [
       "<function matplotlib.pyplot.show(close=None, block=None)>"
      ]
     },
     "execution_count": 79,
     "metadata": {},
     "output_type": "execute_result"
    },
    {
     "data": {
      "image/png": "[encoded data removed]",
      "text/plain": [
       "<Figure size 432x288 with 1 Axes>"
      ]
     },
     "metadata": {
      "needs_background": "light"
     },
     "output_type": "display_data"
    }
   ],
   "source": [
    "x = data['Surface Area']\n",
    "y = data['Overall Height']\n",
    "plt.scatter(x,y)\n",
    "plt.show"
   ]
  },
  {
   "cell_type": "code",
   "execution_count": 80,
   "id": "divine-graduate",
   "metadata": {
    "execution": {
     "iopub.execute_input": "2021-06-02T14:41:18.938850Z",
     "iopub.status.busy": "2021-06-02T14:41:18.938049Z",
     "iopub.status.idle": "2021-06-02T14:41:18.945709Z",
     "shell.execute_reply": "2021-06-02T14:41:18.946352Z",
     "shell.execute_reply.started": "2021-06-02T14:39:37.984596Z"
    },
    "papermill": {
     "duration": 0.229506,
     "end_time": "2021-06-02T14:41:18.946599",
     "exception": false,
     "start_time": "2021-06-02T14:41:18.717093",
     "status": "completed"
    },
    "tags": []
   },
   "outputs": [],
   "source": [
    "x = data['Surface Area'].values.reshape(-1,1)\n",
    "y = data['Overall Height'].values.reshape(-1,1)\n",
    "\n",
    "x_train, x_test, y_train, y_test = train_test_split(x, y, test_size=0.2)"
   ]
  },
  {
   "cell_type": "code",
   "execution_count": 81,
   "id": "upper-float",
   "metadata": {
    "execution": {
     "iopub.execute_input": "2021-06-02T14:41:19.330759Z",
     "iopub.status.busy": "2021-06-02T14:41:19.330098Z",
     "iopub.status.idle": "2021-06-02T14:41:19.337539Z",
     "shell.execute_reply": "2021-06-02T14:41:19.338034Z",
     "shell.execute_reply.started": "2021-06-02T14:39:37.996421Z"
    },
    "papermill": {
     "duration": 0.200557,
     "end_time": "2021-06-02T14:41:19.338227",
     "exception": false,
     "start_time": "2021-06-02T14:41:19.137670",
     "status": "completed"
    },
    "tags": []
   },
   "outputs": [
    {
     "name": "stdout",
     "output_type": "stream",
     "text": [
      "[[-0.01713675]]\n",
      "[16.76444337]\n"
     ]
    }
   ],
   "source": [
    "# Visualisasi pakai linier regression\n",
    "\n",
    "lin_reg = LinearRegression()\n",
    "lin_reg.fit(x_train, y_train)\n",
    "\n",
    "# nilai slope/koefisien dan intercept\n",
    "\n",
    "print(lin_reg.coef_)\n",
    "print(lin_reg.intercept_)"
   ]
  },
  {
   "cell_type": "code",
   "execution_count": 82,
   "id": "alpine-shark",
   "metadata": {
    "execution": {
     "iopub.execute_input": "2021-06-02T14:41:19.719858Z",
     "iopub.status.busy": "2021-06-02T14:41:19.719138Z",
     "iopub.status.idle": "2021-06-02T14:41:19.724845Z",
     "shell.execute_reply": "2021-06-02T14:41:19.725390Z",
     "shell.execute_reply.started": "2021-06-02T14:39:38.011922Z"
    },
    "papermill": {
     "duration": 0.200911,
     "end_time": "2021-06-02T14:41:19.725602",
     "exception": false,
     "start_time": "2021-06-02T14:41:19.524691",
     "status": "completed"
    },
    "tags": []
   },
   "outputs": [
    {
     "data": {
      "text/plain": [
       "0.7230677534401755"
      ]
     },
     "execution_count": 82,
     "metadata": {},
     "output_type": "execute_result"
    }
   ],
   "source": [
    "# accuracy score\n",
    "\n",
    "lin_reg.score(x_test, y_test)"
   ]
  },
  {
   "cell_type": "code",
   "execution_count": 83,
   "id": "balanced-broadcast",
   "metadata": {
    "execution": {
     "iopub.execute_input": "2021-06-02T14:41:20.107380Z",
     "iopub.status.busy": "2021-06-02T14:41:20.106694Z",
     "iopub.status.idle": "2021-06-02T14:41:20.273344Z",
     "shell.execute_reply": "2021-06-02T14:41:20.273873Z",
     "shell.execute_reply.started": "2021-06-02T14:39:38.032255Z"
    },
    "papermill": {
     "duration": 0.359598,
     "end_time": "2021-06-02T14:41:20.274087",
     "exception": false,
     "start_time": "2021-06-02T14:41:19.914489",
     "status": "completed"
    },
    "tags": []
   },
   "outputs": [
    {
     "data": {
      "text/plain": [
       "Text(0.5, 1.0, 'Surface Area vs Overall Height')"
      ]
     },
     "execution_count": 83,
     "metadata": {},
     "output_type": "execute_result"
    },
    {
     "data": {
      "image/png": "[encoded data removed]",
      "text/plain": [
       "<Figure size 432x288 with 1 Axes>"
      ]
     },
     "metadata": {
      "needs_background": "light"
     },
     "output_type": "display_data"
    }
   ],
   "source": [
    "y_prediksi = lin_reg.predict(x_test)\n",
    "plt.scatter(x_test, y_test)\n",
    "plt.plot(x_test, y_prediksi, c = 'r')\n",
    "plt.xlabel('Surface Area')\n",
    "plt.ylabel('Overall Height')\n",
    "plt.title('Surface Area vs Overall Height')"
   ]
  },
  {
   "cell_type": "markdown",
   "id": "average-softball",
   "metadata": {
    "papermill": {
     "duration": 0.186919,
     "end_time": "2021-06-02T14:41:20.648587",
     "exception": false,
     "start_time": "2021-06-02T14:41:20.461668",
     "status": "completed"
    },
    "tags": []
   },
   "source": [
    "**Wall Area vs Roof Area**"
   ]
  },
  {
   "cell_type": "code",
   "execution_count": 84,
   "id": "welsh-fellowship",
   "metadata": {
    "execution": {
     "iopub.execute_input": "2021-06-02T14:41:21.029277Z",
     "iopub.status.busy": "2021-06-02T14:41:21.028638Z",
     "iopub.status.idle": "2021-06-02T14:41:21.182388Z",
     "shell.execute_reply": "2021-06-02T14:41:21.182858Z",
     "shell.execute_reply.started": "2021-06-02T14:39:38.205565Z"
    },
    "papermill": {
     "duration": 0.345722,
     "end_time": "2021-06-02T14:41:21.183080",
     "exception": false,
     "start_time": "2021-06-02T14:41:20.837358",
     "status": "completed"
    },
    "tags": []
   },
   "outputs": [
    {
     "data": {
      "text/plain": [
       "<function matplotlib.pyplot.show(close=None, block=None)>"
      ]
     },
     "execution_count": 84,
     "metadata": {},
     "output_type": "execute_result"
    },
    {
     "data": {
      "image/png": "[encoded data removed]",
      "text/plain": [
       "<Figure size 432x288 with 1 Axes>"
      ]
     },
     "metadata": {
      "needs_background": "light"
     },
     "output_type": "display_data"
    }
   ],
   "source": [
    "x = data['Wall Area']\n",
    "y = data['Roof Area']\n",
    "plt.scatter(x,y)\n",
    "plt.show"
   ]
  },
  {
   "cell_type": "code",
   "execution_count": 85,
   "id": "killing-times",
   "metadata": {
    "execution": {
     "iopub.execute_input": "2021-06-02T14:41:21.566928Z",
     "iopub.status.busy": "2021-06-02T14:41:21.566227Z",
     "iopub.status.idle": "2021-06-02T14:41:21.569254Z",
     "shell.execute_reply": "2021-06-02T14:41:21.568763Z",
     "shell.execute_reply.started": "2021-06-02T14:39:38.365581Z"
    },
    "papermill": {
     "duration": 0.197827,
     "end_time": "2021-06-02T14:41:21.569429",
     "exception": false,
     "start_time": "2021-06-02T14:41:21.371602",
     "status": "completed"
    },
    "tags": []
   },
   "outputs": [],
   "source": [
    "x = data['Wall Area'].values.reshape(-1,1)\n",
    "y = data['Roof Area'].values.reshape(-1,1)\n",
    "\n",
    "x_train, x_test, y_train, y_test = train_test_split(x, y, test_size=0.2)"
   ]
  },
  {
   "cell_type": "code",
   "execution_count": 86,
   "id": "charitable-cornwall",
   "metadata": {
    "execution": {
     "iopub.execute_input": "2021-06-02T14:41:21.955918Z",
     "iopub.status.busy": "2021-06-02T14:41:21.954267Z",
     "iopub.status.idle": "2021-06-02T14:41:21.959256Z",
     "shell.execute_reply": "2021-06-02T14:41:21.959786Z",
     "shell.execute_reply.started": "2021-06-02T14:39:38.374354Z"
    },
    "papermill": {
     "duration": 0.202271,
     "end_time": "2021-06-02T14:41:21.960002",
     "exception": false,
     "start_time": "2021-06-02T14:41:21.757731",
     "status": "completed"
    },
    "tags": []
   },
   "outputs": [
    {
     "name": "stdout",
     "output_type": "stream",
     "text": [
      "[[-0.29012618]]\n",
      "[269.4523435]\n"
     ]
    }
   ],
   "source": [
    "# Visualisasi pakai linier regression\n",
    "\n",
    "lin_reg = LinearRegression()\n",
    "lin_reg.fit(x_train, y_train)\n",
    "\n",
    "# nilai slope/koefisien dan intercept\n",
    "\n",
    "print(lin_reg.coef_)\n",
    "print(lin_reg.intercept_)"
   ]
  },
  {
   "cell_type": "code",
   "execution_count": 87,
   "id": "formed-acquisition",
   "metadata": {
    "execution": {
     "iopub.execute_input": "2021-06-02T14:41:22.346847Z",
     "iopub.status.busy": "2021-06-02T14:41:22.345938Z",
     "iopub.status.idle": "2021-06-02T14:41:22.350019Z",
     "shell.execute_reply": "2021-06-02T14:41:22.349515Z",
     "shell.execute_reply.started": "2021-06-02T14:39:38.389745Z"
    },
    "papermill": {
     "duration": 0.200567,
     "end_time": "2021-06-02T14:41:22.350177",
     "exception": false,
     "start_time": "2021-06-02T14:41:22.149610",
     "status": "completed"
    },
    "tags": []
   },
   "outputs": [
    {
     "data": {
      "text/plain": [
       "0.1139930009040242"
      ]
     },
     "execution_count": 87,
     "metadata": {},
     "output_type": "execute_result"
    }
   ],
   "source": [
    "# accuracy score\n",
    "\n",
    "lin_reg.score(x_test, y_test)"
   ]
  },
  {
   "cell_type": "code",
   "execution_count": 88,
   "id": "separate-reservation",
   "metadata": {
    "execution": {
     "iopub.execute_input": "2021-06-02T14:41:22.761532Z",
     "iopub.status.busy": "2021-06-02T14:41:22.760701Z",
     "iopub.status.idle": "2021-06-02T14:41:22.909286Z",
     "shell.execute_reply": "2021-06-02T14:41:22.908733Z",
     "shell.execute_reply.started": "2021-06-02T14:39:38.402331Z"
    },
    "papermill": {
     "duration": 0.370305,
     "end_time": "2021-06-02T14:41:22.909473",
     "exception": false,
     "start_time": "2021-06-02T14:41:22.539168",
     "status": "completed"
    },
    "tags": []
   },
   "outputs": [
    {
     "data": {
      "text/plain": [
       "Text(0.5, 1.0, 'Wall Area vs Roof Area')"
      ]
     },
     "execution_count": 88,
     "metadata": {},
     "output_type": "execute_result"
    },
    {
     "data": {
      "image/png": "[encoded data removed]",
      "text/plain": [
       "<Figure size 432x288 with 1 Axes>"
      ]
     },
     "metadata": {
      "needs_background": "light"
     },
     "output_type": "display_data"
    }
   ],
   "source": [
    "y_prediksi = lin_reg.predict(x_test)\n",
    "plt.scatter(x_test, y_test)\n",
    "plt.plot(x_test, y_prediksi, c = 'r')\n",
    "plt.xlabel('Wall Area')\n",
    "plt.ylabel('Roof Area')\n",
    "plt.title('Wall Area vs Roof Area')"
   ]
  },
  {
   "cell_type": "markdown",
   "id": "white-falls",
   "metadata": {
    "papermill": {
     "duration": 0.190381,
     "end_time": "2021-06-02T14:41:23.291001",
     "exception": false,
     "start_time": "2021-06-02T14:41:23.100620",
     "status": "completed"
    },
    "tags": []
   },
   "source": [
    "**Wall Area vs Overall Height**"
   ]
  },
  {
   "cell_type": "code",
   "execution_count": 89,
   "id": "opposed-symphony",
   "metadata": {
    "execution": {
     "iopub.execute_input": "2021-06-02T14:41:23.696890Z",
     "iopub.status.busy": "2021-06-02T14:41:23.696142Z",
     "iopub.status.idle": "2021-06-02T14:41:23.852541Z",
     "shell.execute_reply": "2021-06-02T14:41:23.851790Z",
     "shell.execute_reply.started": "2021-06-02T14:39:38.582997Z"
    },
    "papermill": {
     "duration": 0.369185,
     "end_time": "2021-06-02T14:41:23.852707",
     "exception": false,
     "start_time": "2021-06-02T14:41:23.483522",
     "status": "completed"
    },
    "tags": []
   },
   "outputs": [
    {
     "data": {
      "text/plain": [
       "<function matplotlib.pyplot.show(close=None, block=None)>"
      ]
     },
     "execution_count": 89,
     "metadata": {},
     "output_type": "execute_result"
    },
    {
     "data": {
      "image/png": "[encoded data removed]",
      "text/plain": [
       "<Figure size 432x288 with 1 Axes>"
      ]
     },
     "metadata": {
      "needs_background": "light"
     },
     "output_type": "display_data"
    }
   ],
   "source": [
    "x = data['Wall Area']\n",
    "y = data['Overall Height']\n",
    "plt.scatter(x,y)\n",
    "plt.show"
   ]
  },
  {
   "cell_type": "code",
   "execution_count": 90,
   "id": "tender-welcome",
   "metadata": {
    "execution": {
     "iopub.execute_input": "2021-06-02T14:41:24.246073Z",
     "iopub.status.busy": "2021-06-02T14:41:24.245382Z",
     "iopub.status.idle": "2021-06-02T14:41:24.250804Z",
     "shell.execute_reply": "2021-06-02T14:41:24.250244Z",
     "shell.execute_reply.started": "2021-06-02T14:39:38.757959Z"
    },
    "papermill": {
     "duration": 0.205981,
     "end_time": "2021-06-02T14:41:24.250981",
     "exception": false,
     "start_time": "2021-06-02T14:41:24.045000",
     "status": "completed"
    },
    "tags": []
   },
   "outputs": [],
   "source": [
    "x = data['Wall Area'].values.reshape(-1,1)\n",
    "y = data['Overall Height'].values.reshape(-1,1)\n",
    "\n",
    "x_train, x_test, y_train, y_test = train_test_split(x, y, test_size=0.2)"
   ]
  },
  {
   "cell_type": "code",
   "execution_count": 91,
   "id": "colonial-object",
   "metadata": {
    "execution": {
     "iopub.execute_input": "2021-06-02T14:41:24.640431Z",
     "iopub.status.busy": "2021-06-02T14:41:24.639717Z",
     "iopub.status.idle": "2021-06-02T14:41:24.642549Z",
     "shell.execute_reply": "2021-06-02T14:41:24.643038Z",
     "shell.execute_reply.started": "2021-06-02T14:39:38.767618Z"
    },
    "papermill": {
     "duration": 0.201037,
     "end_time": "2021-06-02T14:41:24.643235",
     "exception": false,
     "start_time": "2021-06-02T14:41:24.442198",
     "status": "completed"
    },
    "tags": []
   },
   "outputs": [
    {
     "name": "stdout",
     "output_type": "stream",
     "text": [
      "[[0.0114555]]\n",
      "[1.57792246]\n"
     ]
    }
   ],
   "source": [
    "# Visualisasi pakai linier regression\n",
    "\n",
    "lin_reg = LinearRegression()\n",
    "lin_reg.fit(x_train, y_train)\n",
    "\n",
    "# nilai slope/koefisien dan intercept\n",
    "\n",
    "print(lin_reg.coef_)\n",
    "print(lin_reg.intercept_)"
   ]
  },
  {
   "cell_type": "code",
   "execution_count": 92,
   "id": "wrong-activation",
   "metadata": {
    "execution": {
     "iopub.execute_input": "2021-06-02T14:41:25.036787Z",
     "iopub.status.busy": "2021-06-02T14:41:25.035855Z",
     "iopub.status.idle": "2021-06-02T14:41:25.040558Z",
     "shell.execute_reply": "2021-06-02T14:41:25.039823Z",
     "shell.execute_reply.started": "2021-06-02T14:39:38.781249Z"
    },
    "papermill": {
     "duration": 0.204426,
     "end_time": "2021-06-02T14:41:25.040721",
     "exception": false,
     "start_time": "2021-06-02T14:41:24.836295",
     "status": "completed"
    },
    "tags": []
   },
   "outputs": [
    {
     "data": {
      "text/plain": [
       "0.05959609916512476"
      ]
     },
     "execution_count": 92,
     "metadata": {},
     "output_type": "execute_result"
    }
   ],
   "source": [
    "# accuracy score\n",
    "\n",
    "lin_reg.score(x_test, y_test)"
   ]
  },
  {
   "cell_type": "code",
   "execution_count": 93,
   "id": "religious-equity",
   "metadata": {
    "execution": {
     "iopub.execute_input": "2021-06-02T14:41:25.461971Z",
     "iopub.status.busy": "2021-06-02T14:41:25.461217Z",
     "iopub.status.idle": "2021-06-02T14:41:25.619198Z",
     "shell.execute_reply": "2021-06-02T14:41:25.618248Z",
     "shell.execute_reply.started": "2021-06-02T14:39:38.796318Z"
    },
    "papermill": {
     "duration": 0.384324,
     "end_time": "2021-06-02T14:41:25.619401",
     "exception": false,
     "start_time": "2021-06-02T14:41:25.235077",
     "status": "completed"
    },
    "tags": []
   },
   "outputs": [
    {
     "data": {
      "text/plain": [
       "Text(0.5, 1.0, 'Wall Area vs Overall Height')"
      ]
     },
     "execution_count": 93,
     "metadata": {},
     "output_type": "execute_result"
    },
    {
     "data": {
      "image/png": "[encoded data removed]",
      "text/plain": [
       "<Figure size 432x288 with 1 Axes>"
      ]
     },
     "metadata": {
      "needs_background": "light"
     },
     "output_type": "display_data"
    }
   ],
   "source": [
    "y_prediksi = lin_reg.predict(x_test)\n",
    "plt.scatter(x_test, y_test)\n",
    "plt.plot(x_test, y_prediksi, c = 'r')\n",
    "plt.xlabel('Wall Area')\n",
    "plt.ylabel('Overall Height')\n",
    "plt.title('Wall Area vs Overall Height')"
   ]
  },
  {
   "cell_type": "markdown",
   "id": "collaborative-walker",
   "metadata": {
    "papermill": {
     "duration": 0.201895,
     "end_time": "2021-06-02T14:41:26.015682",
     "exception": false,
     "start_time": "2021-06-02T14:41:25.813787",
     "status": "completed"
    },
    "tags": []
   },
   "source": [
    "**Roof Area vs Overall Height**"
   ]
  },
  {
   "cell_type": "code",
   "execution_count": 94,
   "id": "greek-competition",
   "metadata": {
    "execution": {
     "iopub.execute_input": "2021-06-02T14:41:26.442261Z",
     "iopub.status.busy": "2021-06-02T14:41:26.412836Z",
     "iopub.status.idle": "2021-06-02T14:41:26.580717Z",
     "shell.execute_reply": "2021-06-02T14:41:26.580051Z",
     "shell.execute_reply.started": "2021-06-02T14:39:38.981470Z"
    },
    "papermill": {
     "duration": 0.367344,
     "end_time": "2021-06-02T14:41:26.580880",
     "exception": false,
     "start_time": "2021-06-02T14:41:26.213536",
     "status": "completed"
    },
    "tags": []
   },
   "outputs": [
    {
     "data": {
      "text/plain": [
       "<function matplotlib.pyplot.show(close=None, block=None)>"
      ]
     },
     "execution_count": 94,
     "metadata": {},
     "output_type": "execute_result"
    },
    {
     "data": {
      "image/png": "[encoded data removed]",
      "text/plain": [
       "<Figure size 432x288 with 1 Axes>"
      ]
     },
     "metadata": {
      "needs_background": "light"
     },
     "output_type": "display_data"
    }
   ],
   "source": [
    "x = data['Roof Area']\n",
    "y = data['Overall Height']\n",
    "plt.scatter(x,y)\n",
    "plt.show"
   ]
  },
  {
   "cell_type": "code",
   "execution_count": 95,
   "id": "bacterial-pastor",
   "metadata": {
    "execution": {
     "iopub.execute_input": "2021-06-02T14:41:27.016499Z",
     "iopub.status.busy": "2021-06-02T14:41:27.015824Z",
     "iopub.status.idle": "2021-06-02T14:41:27.019363Z",
     "shell.execute_reply": "2021-06-02T14:41:27.018725Z",
     "shell.execute_reply.started": "2021-06-02T14:39:39.147173Z"
    },
    "papermill": {
     "duration": 0.206701,
     "end_time": "2021-06-02T14:41:27.019528",
     "exception": false,
     "start_time": "2021-06-02T14:41:26.812827",
     "status": "completed"
    },
    "tags": []
   },
   "outputs": [],
   "source": [
    "x = data['Roof Area'].values.reshape(-1,1)\n",
    "y = data['Overall Height'].values.reshape(-1,1)\n",
    "\n",
    "x_train, x_test, y_train, y_test = train_test_split(x, y, test_size=0.2)"
   ]
  },
  {
   "cell_type": "code",
   "execution_count": 96,
   "id": "brown-right",
   "metadata": {
    "execution": {
     "iopub.execute_input": "2021-06-02T14:41:27.419457Z",
     "iopub.status.busy": "2021-06-02T14:41:27.418343Z",
     "iopub.status.idle": "2021-06-02T14:41:27.425480Z",
     "shell.execute_reply": "2021-06-02T14:41:27.424745Z",
     "shell.execute_reply.started": "2021-06-02T14:39:39.155080Z"
    },
    "papermill": {
     "duration": 0.210759,
     "end_time": "2021-06-02T14:41:27.425651",
     "exception": false,
     "start_time": "2021-06-02T14:41:27.214892",
     "status": "completed"
    },
    "tags": []
   },
   "outputs": [
    {
     "name": "stdout",
     "output_type": "stream",
     "text": [
      "[[-0.03756072]]\n",
      "[11.87750966]\n"
     ]
    }
   ],
   "source": [
    "# Visualisasi pakai linier regression\n",
    "\n",
    "lin_reg = LinearRegression()\n",
    "lin_reg.fit(x_train, y_train)\n",
    "\n",
    "# nilai slope/koefisien dan intercept\n",
    "\n",
    "print(lin_reg.coef_)\n",
    "print(lin_reg.intercept_)"
   ]
  },
  {
   "cell_type": "code",
   "execution_count": 97,
   "id": "several-encoding",
   "metadata": {
    "execution": {
     "iopub.execute_input": "2021-06-02T14:41:27.894169Z",
     "iopub.status.busy": "2021-06-02T14:41:27.893165Z",
     "iopub.status.idle": "2021-06-02T14:41:27.897885Z",
     "shell.execute_reply": "2021-06-02T14:41:27.897184Z",
     "shell.execute_reply.started": "2021-06-02T14:39:39.176964Z"
    },
    "papermill": {
     "duration": 0.208423,
     "end_time": "2021-06-02T14:41:27.898050",
     "exception": false,
     "start_time": "2021-06-02T14:41:27.689627",
     "status": "completed"
    },
    "tags": []
   },
   "outputs": [
    {
     "data": {
      "text/plain": [
       "0.9467612025904983"
      ]
     },
     "execution_count": 97,
     "metadata": {},
     "output_type": "execute_result"
    }
   ],
   "source": [
    "# accuracy score\n",
    "\n",
    "lin_reg.score(x_test, y_test)"
   ]
  },
  {
   "cell_type": "code",
   "execution_count": 98,
   "id": "representative-complexity",
   "metadata": {
    "execution": {
     "iopub.execute_input": "2021-06-02T14:41:28.320574Z",
     "iopub.status.busy": "2021-06-02T14:41:28.312558Z",
     "iopub.status.idle": "2021-06-02T14:41:28.451441Z",
     "shell.execute_reply": "2021-06-02T14:41:28.450858Z",
     "shell.execute_reply.started": "2021-06-02T14:39:39.193138Z"
    },
    "papermill": {
     "duration": 0.357031,
     "end_time": "2021-06-02T14:41:28.451599",
     "exception": false,
     "start_time": "2021-06-02T14:41:28.094568",
     "status": "completed"
    },
    "tags": []
   },
   "outputs": [
    {
     "data": {
      "text/plain": [
       "Text(0.5, 1.0, 'Roof Area vs Overall Height')"
      ]
     },
     "execution_count": 98,
     "metadata": {},
     "output_type": "execute_result"
    },
    {
     "data": {
      "image/png": "[encoded data removed]",
      "text/plain": [
       "<Figure size 432x288 with 1 Axes>"
      ]
     },
     "metadata": {
      "needs_background": "light"
     },
     "output_type": "display_data"
    }
   ],
   "source": [
    "y_prediksi = lin_reg.predict(x_test)\n",
    "plt.scatter(x_test, y_test)\n",
    "plt.plot(x_test, y_prediksi, c = 'r')\n",
    "plt.xlabel('Roof Area')\n",
    "plt.ylabel('Overall Height')\n",
    "plt.title('Roof Area vs Overall Height')"
   ]
  },
  {
   "cell_type": "markdown",
   "id": "still-three",
   "metadata": {
    "papermill": {
     "duration": 0.19571,
     "end_time": "2021-06-02T14:41:28.843650",
     "exception": false,
     "start_time": "2021-06-02T14:41:28.647940",
     "status": "completed"
    },
    "tags": []
   },
   "source": [
    " **Glazing Area vs Glazing Area Distribution**"
   ]
  },
  {
   "cell_type": "code",
   "execution_count": 99,
   "id": "featured-december",
   "metadata": {
    "execution": {
     "iopub.execute_input": "2021-06-02T14:41:29.267048Z",
     "iopub.status.busy": "2021-06-02T14:41:29.263666Z",
     "iopub.status.idle": "2021-06-02T14:41:29.408257Z",
     "shell.execute_reply": "2021-06-02T14:41:29.407679Z",
     "shell.execute_reply.started": "2021-06-02T14:39:39.357496Z"
    },
    "papermill": {
     "duration": 0.367015,
     "end_time": "2021-06-02T14:41:29.408434",
     "exception": false,
     "start_time": "2021-06-02T14:41:29.041419",
     "status": "completed"
    },
    "tags": []
   },
   "outputs": [
    {
     "data": {
      "text/plain": [
       "<function matplotlib.pyplot.show(close=None, block=None)>"
      ]
     },
     "execution_count": 99,
     "metadata": {},
     "output_type": "execute_result"
    },
    {
     "data": {
      "image/png": "[encoded data removed]",
      "text/plain": [
       "<Figure size 432x288 with 1 Axes>"
      ]
     },
     "metadata": {
      "needs_background": "light"
     },
     "output_type": "display_data"
    }
   ],
   "source": [
    "x = data['Glazing Area']\n",
    "y = data['Glazing Area Distribution']\n",
    "plt.scatter(x,y)\n",
    "plt.show"
   ]
  },
  {
   "cell_type": "code",
   "execution_count": 100,
   "id": "posted-string",
   "metadata": {
    "execution": {
     "iopub.execute_input": "2021-06-02T14:41:29.812651Z",
     "iopub.status.busy": "2021-06-02T14:41:29.811922Z",
     "iopub.status.idle": "2021-06-02T14:41:29.814037Z",
     "shell.execute_reply": "2021-06-02T14:41:29.814553Z",
     "shell.execute_reply.started": "2021-06-02T14:39:39.524739Z"
    },
    "papermill": {
     "duration": 0.20562,
     "end_time": "2021-06-02T14:41:29.814764",
     "exception": false,
     "start_time": "2021-06-02T14:41:29.609144",
     "status": "completed"
    },
    "tags": []
   },
   "outputs": [],
   "source": [
    "x = data['Glazing Area'].values.reshape(-1,1)\n",
    "y = data['Glazing Area Distribution'].values.reshape(-1,1)\n",
    "\n",
    "x_train, x_test, y_train, y_test = train_test_split(x, y, test_size=0.2)"
   ]
  },
  {
   "cell_type": "code",
   "execution_count": 101,
   "id": "bigger-stone",
   "metadata": {
    "execution": {
     "iopub.execute_input": "2021-06-02T14:41:30.220071Z",
     "iopub.status.busy": "2021-06-02T14:41:30.219141Z",
     "iopub.status.idle": "2021-06-02T14:41:30.223795Z",
     "shell.execute_reply": "2021-06-02T14:41:30.223134Z",
     "shell.execute_reply.started": "2021-06-02T14:39:39.533801Z"
    },
    "papermill": {
     "duration": 0.21042,
     "end_time": "2021-06-02T14:41:30.223958",
     "exception": false,
     "start_time": "2021-06-02T14:41:30.013538",
     "status": "completed"
    },
    "tags": []
   },
   "outputs": [
    {
     "name": "stdout",
     "output_type": "stream",
     "text": [
      "[[2.54749703]]\n",
      "[2.19156115]\n"
     ]
    }
   ],
   "source": [
    "# Visualisasi pakai linier regression\n",
    "\n",
    "lin_reg = LinearRegression()\n",
    "lin_reg.fit(x_train, y_train)\n",
    "\n",
    "# nilai slope/koefisien dan intercept\n",
    "\n",
    "print(lin_reg.coef_)\n",
    "print(lin_reg.intercept_)"
   ]
  },
  {
   "cell_type": "code",
   "execution_count": 102,
   "id": "collect-humidity",
   "metadata": {
    "execution": {
     "iopub.execute_input": "2021-06-02T14:41:30.623833Z",
     "iopub.status.busy": "2021-06-02T14:41:30.622886Z",
     "iopub.status.idle": "2021-06-02T14:41:30.627247Z",
     "shell.execute_reply": "2021-06-02T14:41:30.626618Z",
     "shell.execute_reply.started": "2021-06-02T14:39:39.553324Z"
    },
    "papermill": {
     "duration": 0.206607,
     "end_time": "2021-06-02T14:41:30.627421",
     "exception": false,
     "start_time": "2021-06-02T14:41:30.420814",
     "status": "completed"
    },
    "tags": []
   },
   "outputs": [
    {
     "data": {
      "text/plain": [
       "0.026929097469168606"
      ]
     },
     "execution_count": 102,
     "metadata": {},
     "output_type": "execute_result"
    }
   ],
   "source": [
    "# accuracy score\n",
    "\n",
    "lin_reg.score(x_test, y_test)"
   ]
  },
  {
   "cell_type": "code",
   "execution_count": 103,
   "id": "generous-philosophy",
   "metadata": {
    "execution": {
     "iopub.execute_input": "2021-06-02T14:41:31.053083Z",
     "iopub.status.busy": "2021-06-02T14:41:31.049286Z",
     "iopub.status.idle": "2021-06-02T14:41:31.207234Z",
     "shell.execute_reply": "2021-06-02T14:41:31.207738Z",
     "shell.execute_reply.started": "2021-06-02T14:39:39.569848Z"
    },
    "papermill": {
     "duration": 0.38316,
     "end_time": "2021-06-02T14:41:31.207956",
     "exception": false,
     "start_time": "2021-06-02T14:41:30.824796",
     "status": "completed"
    },
    "tags": []
   },
   "outputs": [
    {
     "data": {
      "text/plain": [
       "Text(0.5, 1.0, 'Glazing Area vs Glazing Area Distribution')"
      ]
     },
     "execution_count": 103,
     "metadata": {},
     "output_type": "execute_result"
    },
    {
     "data": {
      "image/png": "[encoded data removed]",
      "text/plain": [
       "<Figure size 432x288 with 1 Axes>"
      ]
     },
     "metadata": {
      "needs_background": "light"
     },
     "output_type": "display_data"
    }
   ],
   "source": [
    "y_prediksi = lin_reg.predict(x_test)\n",
    "plt.scatter(x_test, y_test)\n",
    "plt.plot(x_test, y_prediksi, c = 'r')\n",
    "plt.xlabel('Glazing Area')\n",
    "plt.ylabel('Glazing Area Distribution')\n",
    "plt.title('Glazing Area vs Glazing Area Distribution')"
   ]
  },
  {
   "cell_type": "markdown",
   "id": "dense-anime",
   "metadata": {
    "papermill": {
     "duration": 0.197184,
     "end_time": "2021-06-02T14:41:31.603152",
     "exception": false,
     "start_time": "2021-06-02T14:41:31.405968",
     "status": "completed"
    },
    "tags": []
   },
   "source": [
    " **Heating Load vs Roof Area**"
   ]
  },
  {
   "cell_type": "code",
   "execution_count": 104,
   "id": "twenty-frontier",
   "metadata": {
    "execution": {
     "iopub.execute_input": "2021-06-02T14:41:32.031775Z",
     "iopub.status.busy": "2021-06-02T14:41:32.026104Z",
     "iopub.status.idle": "2021-06-02T14:41:32.166213Z",
     "shell.execute_reply": "2021-06-02T14:41:32.165493Z",
     "shell.execute_reply.started": "2021-06-02T14:39:39.762672Z"
    },
    "papermill": {
     "duration": 0.365383,
     "end_time": "2021-06-02T14:41:32.166394",
     "exception": false,
     "start_time": "2021-06-02T14:41:31.801011",
     "status": "completed"
    },
    "tags": []
   },
   "outputs": [
    {
     "data": {
      "text/plain": [
       "<function matplotlib.pyplot.show(close=None, block=None)>"
      ]
     },
     "execution_count": 104,
     "metadata": {},
     "output_type": "execute_result"
    },
    {
     "data": {
      "image/png": "[encoded data removed]",
      "text/plain": [
       "<Figure size 432x288 with 1 Axes>"
      ]
     },
     "metadata": {
      "needs_background": "light"
     },
     "output_type": "display_data"
    }
   ],
   "source": [
    "x = data['Heating Load']\n",
    "y = data['Roof Area']\n",
    "plt.scatter(x,y)\n",
    "plt.show"
   ]
  },
  {
   "cell_type": "code",
   "execution_count": 105,
   "id": "blond-conditioning",
   "metadata": {
    "execution": {
     "iopub.execute_input": "2021-06-02T14:41:32.574713Z",
     "iopub.status.busy": "2021-06-02T14:41:32.574004Z",
     "iopub.status.idle": "2021-06-02T14:41:32.576591Z",
     "shell.execute_reply": "2021-06-02T14:41:32.577078Z",
     "shell.execute_reply.started": "2021-06-02T14:39:39.921089Z"
    },
    "papermill": {
     "duration": 0.209099,
     "end_time": "2021-06-02T14:41:32.577266",
     "exception": false,
     "start_time": "2021-06-02T14:41:32.368167",
     "status": "completed"
    },
    "tags": []
   },
   "outputs": [],
   "source": [
    "x = data['Heating Load'].values.reshape(-1,1)\n",
    "y = data['Roof Area'].values.reshape(-1,1)\n",
    "\n",
    "x_train, x_test, y_train, y_test = train_test_split(x, y, test_size=0.2)"
   ]
  },
  {
   "cell_type": "code",
   "execution_count": 106,
   "id": "restricted-arctic",
   "metadata": {
    "execution": {
     "iopub.execute_input": "2021-06-02T14:41:32.990190Z",
     "iopub.status.busy": "2021-06-02T14:41:32.989200Z",
     "iopub.status.idle": "2021-06-02T14:41:32.993199Z",
     "shell.execute_reply": "2021-06-02T14:41:32.992492Z",
     "shell.execute_reply.started": "2021-06-02T14:39:39.929659Z"
    },
    "papermill": {
     "duration": 0.215092,
     "end_time": "2021-06-02T14:41:32.993382",
     "exception": false,
     "start_time": "2021-06-02T14:41:32.778290",
     "status": "completed"
    },
    "tags": []
   },
   "outputs": [
    {
     "name": "stdout",
     "output_type": "stream",
     "text": [
      "[[-3.86292706]]\n",
      "[262.4944464]\n"
     ]
    }
   ],
   "source": [
    "# Visualisasi pakai linier regression\n",
    "\n",
    "lin_reg = LinearRegression()\n",
    "lin_reg.fit(x_train, y_train)\n",
    "\n",
    "# nilai slope/koefisien dan intercept\n",
    "\n",
    "print(lin_reg.coef_)\n",
    "print(lin_reg.intercept_)"
   ]
  },
  {
   "cell_type": "code",
   "execution_count": 107,
   "id": "fitted-clothing",
   "metadata": {
    "execution": {
     "iopub.execute_input": "2021-06-02T14:41:33.402702Z",
     "iopub.status.busy": "2021-06-02T14:41:33.401694Z",
     "iopub.status.idle": "2021-06-02T14:41:33.406281Z",
     "shell.execute_reply": "2021-06-02T14:41:33.405735Z",
     "shell.execute_reply.started": "2021-06-02T14:39:39.948810Z"
    },
    "papermill": {
     "duration": 0.211286,
     "end_time": "2021-06-02T14:41:33.406455",
     "exception": false,
     "start_time": "2021-06-02T14:41:33.195169",
     "status": "completed"
    },
    "tags": []
   },
   "outputs": [
    {
     "data": {
      "text/plain": [
       "0.7888454361806261"
      ]
     },
     "execution_count": 107,
     "metadata": {},
     "output_type": "execute_result"
    }
   ],
   "source": [
    "# accuracy score\n",
    "\n",
    "lin_reg.score(x_test, y_test)"
   ]
  },
  {
   "cell_type": "code",
   "execution_count": 108,
   "id": "turkish-reach",
   "metadata": {
    "execution": {
     "iopub.execute_input": "2021-06-02T14:41:33.841382Z",
     "iopub.status.busy": "2021-06-02T14:41:33.837655Z",
     "iopub.status.idle": "2021-06-02T14:41:33.997405Z",
     "shell.execute_reply": "2021-06-02T14:41:33.996837Z",
     "shell.execute_reply.started": "2021-06-02T14:39:39.966083Z"
    },
    "papermill": {
     "duration": 0.391624,
     "end_time": "2021-06-02T14:41:33.997591",
     "exception": false,
     "start_time": "2021-06-02T14:41:33.605967",
     "status": "completed"
    },
    "tags": []
   },
   "outputs": [
    {
     "data": {
      "text/plain": [
       "Text(0.5, 1.0, 'Heating Load vs Roof Area')"
      ]
     },
     "execution_count": 108,
     "metadata": {},
     "output_type": "execute_result"
    },
    {
     "data": {
      "image/png": "[encoded data removed]",
      "text/plain": [
       "<Figure size 432x288 with 1 Axes>"
      ]
     },
     "metadata": {
      "needs_background": "light"
     },
     "output_type": "display_data"
    }
   ],
   "source": [
    "y_prediksi = lin_reg.predict(x_test)\n",
    "plt.scatter(x_test, y_test)\n",
    "plt.plot(x_test, y_prediksi, c = 'r')\n",
    "plt.xlabel('Heating Load')\n",
    "plt.ylabel('Roof Area')\n",
    "plt.title('Heating Load vs Roof Area')"
   ]
  },
  {
   "cell_type": "markdown",
   "id": "original-prison",
   "metadata": {
    "papermill": {
     "duration": 0.203395,
     "end_time": "2021-06-02T14:41:34.402945",
     "exception": false,
     "start_time": "2021-06-02T14:41:34.199550",
     "status": "completed"
    },
    "tags": []
   },
   "source": [
    " **Heating Load vs Overall Height**"
   ]
  },
  {
   "cell_type": "code",
   "execution_count": 109,
   "id": "connected-serial",
   "metadata": {
    "execution": {
     "iopub.execute_input": "2021-06-02T14:41:34.832693Z",
     "iopub.status.busy": "2021-06-02T14:41:34.831947Z",
     "iopub.status.idle": "2021-06-02T14:41:34.975540Z",
     "shell.execute_reply": "2021-06-02T14:41:34.976067Z",
     "shell.execute_reply.started": "2021-06-02T14:39:40.158385Z"
    },
    "papermill": {
     "duration": 0.368022,
     "end_time": "2021-06-02T14:41:34.976263",
     "exception": false,
     "start_time": "2021-06-02T14:41:34.608241",
     "status": "completed"
    },
    "tags": []
   },
   "outputs": [
    {
     "data": {
      "text/plain": [
       "<function matplotlib.pyplot.show(close=None, block=None)>"
      ]
     },
     "execution_count": 109,
     "metadata": {},
     "output_type": "execute_result"
    },
    {
     "data": {
      "image/png": "[encoded data removed]",
      "text/plain": [
       "<Figure size 432x288 with 1 Axes>"
      ]
     },
     "metadata": {
      "needs_background": "light"
     },
     "output_type": "display_data"
    }
   ],
   "source": [
    "x = data['Heating Load']\n",
    "y = data['Overall Height']\n",
    "plt.scatter(x,y)\n",
    "plt.show"
   ]
  },
  {
   "cell_type": "code",
   "execution_count": 110,
   "id": "constitutional-nurse",
   "metadata": {
    "execution": {
     "iopub.execute_input": "2021-06-02T14:41:35.386576Z",
     "iopub.status.busy": "2021-06-02T14:41:35.385799Z",
     "iopub.status.idle": "2021-06-02T14:41:35.389207Z",
     "shell.execute_reply": "2021-06-02T14:41:35.388641Z",
     "shell.execute_reply.started": "2021-06-02T14:39:40.331463Z"
    },
    "papermill": {
     "duration": 0.211803,
     "end_time": "2021-06-02T14:41:35.389392",
     "exception": false,
     "start_time": "2021-06-02T14:41:35.177589",
     "status": "completed"
    },
    "tags": []
   },
   "outputs": [],
   "source": [
    "x = data['Heating Load'].values.reshape(-1,1)\n",
    "y = data['Overall Height'].values.reshape(-1,1)\n",
    "\n",
    "x_train, x_test, y_train, y_test = train_test_split(x, y, test_size=0.2)"
   ]
  },
  {
   "cell_type": "code",
   "execution_count": 111,
   "id": "systematic-banner",
   "metadata": {
    "execution": {
     "iopub.execute_input": "2021-06-02T14:41:35.802698Z",
     "iopub.status.busy": "2021-06-02T14:41:35.801863Z",
     "iopub.status.idle": "2021-06-02T14:41:35.804943Z",
     "shell.execute_reply": "2021-06-02T14:41:35.805477Z",
     "shell.execute_reply.started": "2021-06-02T14:39:40.340078Z"
    },
    "papermill": {
     "duration": 0.214285,
     "end_time": "2021-06-02T14:41:35.805677",
     "exception": false,
     "start_time": "2021-06-02T14:41:35.591392",
     "status": "completed"
    },
    "tags": []
   },
   "outputs": [
    {
     "name": "stdout",
     "output_type": "stream",
     "text": [
      "[[0.15488491]]\n",
      "[1.80315611]\n"
     ]
    }
   ],
   "source": [
    "# Visualisasi pakai linier regression\n",
    "\n",
    "lin_reg = LinearRegression()\n",
    "lin_reg.fit(x_train, y_train)\n",
    "\n",
    "# nilai slope/koefisien dan intercept\n",
    "\n",
    "print(lin_reg.coef_)\n",
    "print(lin_reg.intercept_)"
   ]
  },
  {
   "cell_type": "code",
   "execution_count": 112,
   "id": "negative-integral",
   "metadata": {
    "execution": {
     "iopub.execute_input": "2021-06-02T14:41:36.217100Z",
     "iopub.status.busy": "2021-06-02T14:41:36.216448Z",
     "iopub.status.idle": "2021-06-02T14:41:36.223720Z",
     "shell.execute_reply": "2021-06-02T14:41:36.223145Z",
     "shell.execute_reply.started": "2021-06-02T14:39:40.357182Z"
    },
    "papermill": {
     "duration": 0.213048,
     "end_time": "2021-06-02T14:41:36.223893",
     "exception": false,
     "start_time": "2021-06-02T14:41:36.010845",
     "status": "completed"
    },
    "tags": []
   },
   "outputs": [
    {
     "data": {
      "text/plain": [
       "0.7796338709039435"
      ]
     },
     "execution_count": 112,
     "metadata": {},
     "output_type": "execute_result"
    }
   ],
   "source": [
    "# accuracy score\n",
    "\n",
    "lin_reg.score(x_test, y_test)"
   ]
  },
  {
   "cell_type": "code",
   "execution_count": 113,
   "id": "infinite-daisy",
   "metadata": {
    "execution": {
     "iopub.execute_input": "2021-06-02T14:41:36.660531Z",
     "iopub.status.busy": "2021-06-02T14:41:36.659795Z",
     "iopub.status.idle": "2021-06-02T14:41:36.809090Z",
     "shell.execute_reply": "2021-06-02T14:41:36.809683Z",
     "shell.execute_reply.started": "2021-06-02T14:39:40.372603Z"
    },
    "papermill": {
     "duration": 0.381664,
     "end_time": "2021-06-02T14:41:36.809889",
     "exception": false,
     "start_time": "2021-06-02T14:41:36.428225",
     "status": "completed"
    },
    "tags": []
   },
   "outputs": [
    {
     "data": {
      "text/plain": [
       "Text(0.5, 1.0, 'Heating Load vs Overall Height')"
      ]
     },
     "execution_count": 113,
     "metadata": {},
     "output_type": "execute_result"
    },
    {
     "data": {
      "image/png": "[encoded data removed]",
      "text/plain": [
       "<Figure size 432x288 with 1 Axes>"
      ]
     },
     "metadata": {
      "needs_background": "light"
     },
     "output_type": "display_data"
    }
   ],
   "source": [
    "y_prediksi = lin_reg.predict(x_test)\n",
    "plt.scatter(x_test, y_test)\n",
    "plt.plot(x_test, y_prediksi, c = 'r')\n",
    "plt.xlabel('Heating Load')\n",
    "plt.ylabel('Overall Height')\n",
    "plt.title('Heating Load vs Overall Height')"
   ]
  },
  {
   "cell_type": "markdown",
   "id": "developmental-finger",
   "metadata": {
    "papermill": {
     "duration": 0.205188,
     "end_time": "2021-06-02T14:41:37.224649",
     "exception": false,
     "start_time": "2021-06-02T14:41:37.019461",
     "status": "completed"
    },
    "tags": []
   },
   "source": [
    "**Cooling Load vs Roof Area**"
   ]
  },
  {
   "cell_type": "code",
   "execution_count": 114,
   "id": "coastal-titanium",
   "metadata": {
    "execution": {
     "iopub.execute_input": "2021-06-02T14:41:37.649622Z",
     "iopub.status.busy": "2021-06-02T14:41:37.648504Z",
     "iopub.status.idle": "2021-06-02T14:41:37.821924Z",
     "shell.execute_reply": "2021-06-02T14:41:37.822523Z",
     "shell.execute_reply.started": "2021-06-02T14:39:40.553028Z"
    },
    "papermill": {
     "duration": 0.394618,
     "end_time": "2021-06-02T14:41:37.822730",
     "exception": false,
     "start_time": "2021-06-02T14:41:37.428112",
     "status": "completed"
    },
    "tags": []
   },
   "outputs": [
    {
     "data": {
      "text/plain": [
       "<function matplotlib.pyplot.show(close=None, block=None)>"
      ]
     },
     "execution_count": 114,
     "metadata": {},
     "output_type": "execute_result"
    },
    {
     "data": {
      "image/png": "[encoded data removed]",
      "text/plain": [
       "<Figure size 432x288 with 1 Axes>"
      ]
     },
     "metadata": {
      "needs_background": "light"
     },
     "output_type": "display_data"
    }
   ],
   "source": [
    "x = data['Cooling Load']\n",
    "y = data['Roof Area']\n",
    "plt.scatter(x,y)\n",
    "plt.show"
   ]
  },
  {
   "cell_type": "code",
   "execution_count": 115,
   "id": "spread-friend",
   "metadata": {
    "execution": {
     "iopub.execute_input": "2021-06-02T14:41:38.243842Z",
     "iopub.status.busy": "2021-06-02T14:41:38.243064Z",
     "iopub.status.idle": "2021-06-02T14:41:38.246522Z",
     "shell.execute_reply": "2021-06-02T14:41:38.245964Z",
     "shell.execute_reply.started": "2021-06-02T14:39:40.716988Z"
    },
    "papermill": {
     "duration": 0.217188,
     "end_time": "2021-06-02T14:41:38.246689",
     "exception": false,
     "start_time": "2021-06-02T14:41:38.029501",
     "status": "completed"
    },
    "tags": []
   },
   "outputs": [],
   "source": [
    "x = data['Cooling Load'].values.reshape(-1,1)\n",
    "y = data['Roof Area'].values.reshape(-1,1)\n",
    "\n",
    "x_train, x_test, y_train, y_test = train_test_split(x, y, test_size=0.2)"
   ]
  },
  {
   "cell_type": "code",
   "execution_count": 116,
   "id": "olive-avatar",
   "metadata": {
    "execution": {
     "iopub.execute_input": "2021-06-02T14:41:38.666382Z",
     "iopub.status.busy": "2021-06-02T14:41:38.665275Z",
     "iopub.status.idle": "2021-06-02T14:41:38.671720Z",
     "shell.execute_reply": "2021-06-02T14:41:38.671135Z",
     "shell.execute_reply.started": "2021-06-02T14:39:40.725514Z"
    },
    "papermill": {
     "duration": 0.219003,
     "end_time": "2021-06-02T14:41:38.671879",
     "exception": false,
     "start_time": "2021-06-02T14:41:38.452876",
     "status": "completed"
    },
    "tags": []
   },
   "outputs": [
    {
     "name": "stdout",
     "output_type": "stream",
     "text": [
      "[[-4.11866658]]\n",
      "[278.37696166]\n"
     ]
    }
   ],
   "source": [
    "# Visualisasi pakai linier regression\n",
    "\n",
    "lin_reg = LinearRegression()\n",
    "lin_reg.fit(x_train, y_train)\n",
    "\n",
    "# nilai slope/koefisien dan intercept\n",
    "\n",
    "print(lin_reg.coef_)\n",
    "print(lin_reg.intercept_)"
   ]
  },
  {
   "cell_type": "code",
   "execution_count": 117,
   "id": "elder-cheese",
   "metadata": {
    "execution": {
     "iopub.execute_input": "2021-06-02T14:41:39.088868Z",
     "iopub.status.busy": "2021-06-02T14:41:39.088203Z",
     "iopub.status.idle": "2021-06-02T14:41:39.094584Z",
     "shell.execute_reply": "2021-06-02T14:41:39.095074Z",
     "shell.execute_reply.started": "2021-06-02T14:39:40.744453Z"
    },
    "papermill": {
     "duration": 0.218,
     "end_time": "2021-06-02T14:41:39.095296",
     "exception": false,
     "start_time": "2021-06-02T14:41:38.877296",
     "status": "completed"
    },
    "tags": []
   },
   "outputs": [
    {
     "data": {
      "text/plain": [
       "0.7010636105988739"
      ]
     },
     "execution_count": 117,
     "metadata": {},
     "output_type": "execute_result"
    }
   ],
   "source": [
    "# accuracy score\n",
    "\n",
    "lin_reg.score(x_test, y_test)"
   ]
  },
  {
   "cell_type": "code",
   "execution_count": 118,
   "id": "powered-baseball",
   "metadata": {
    "execution": {
     "iopub.execute_input": "2021-06-02T14:41:39.527350Z",
     "iopub.status.busy": "2021-06-02T14:41:39.526387Z",
     "iopub.status.idle": "2021-06-02T14:41:39.717697Z",
     "shell.execute_reply": "2021-06-02T14:41:39.718235Z",
     "shell.execute_reply.started": "2021-06-02T14:39:40.759351Z"
    },
    "papermill": {
     "duration": 0.413722,
     "end_time": "2021-06-02T14:41:39.718522",
     "exception": false,
     "start_time": "2021-06-02T14:41:39.304800",
     "status": "completed"
    },
    "tags": []
   },
   "outputs": [
    {
     "data": {
      "text/plain": [
       "Text(0.5, 1.0, 'Cooling Load vs Roof Area')"
      ]
     },
     "execution_count": 118,
     "metadata": {},
     "output_type": "execute_result"
    },
    {
     "data": {
      "image/png": "[encoded data removed]",
      "text/plain": [
       "<Figure size 432x288 with 1 Axes>"
      ]
     },
     "metadata": {
      "needs_background": "light"
     },
     "output_type": "display_data"
    }
   ],
   "source": [
    "y_prediksi = lin_reg.predict(x_test)\n",
    "plt.scatter(x_test, y_test)\n",
    "plt.plot(x_test, y_prediksi, c = 'r')\n",
    "plt.xlabel('Cooling Load')\n",
    "plt.ylabel('Roof Area')\n",
    "plt.title('Cooling Load vs Roof Area')"
   ]
  },
  {
   "cell_type": "markdown",
   "id": "alpha-contamination",
   "metadata": {
    "papermill": {
     "duration": 0.217588,
     "end_time": "2021-06-02T14:41:40.148092",
     "exception": false,
     "start_time": "2021-06-02T14:41:39.930504",
     "status": "completed"
    },
    "tags": []
   },
   "source": [
    "**Cooling Load vs Overall Height**"
   ]
  },
  {
   "cell_type": "code",
   "execution_count": 119,
   "id": "brutal-saturday",
   "metadata": {
    "execution": {
     "iopub.execute_input": "2021-06-02T14:41:40.572431Z",
     "iopub.status.busy": "2021-06-02T14:41:40.571771Z",
     "iopub.status.idle": "2021-06-02T14:41:40.733650Z",
     "shell.execute_reply": "2021-06-02T14:41:40.734173Z",
     "shell.execute_reply.started": "2021-06-02T14:39:40.961305Z"
    },
    "papermill": {
     "duration": 0.374314,
     "end_time": "2021-06-02T14:41:40.734404",
     "exception": false,
     "start_time": "2021-06-02T14:41:40.360090",
     "status": "completed"
    },
    "tags": []
   },
   "outputs": [
    {
     "data": {
      "text/plain": [
       "<function matplotlib.pyplot.show(close=None, block=None)>"
      ]
     },
     "execution_count": 119,
     "metadata": {},
     "output_type": "execute_result"
    },
    {
     "data": {
      "image/png": "[encoded data removed]",
      "text/plain": [
       "<Figure size 432x288 with 1 Axes>"
      ]
     },
     "metadata": {
      "needs_background": "light"
     },
     "output_type": "display_data"
    }
   ],
   "source": [
    "x = data['Cooling Load']\n",
    "y = data['Overall Height']\n",
    "plt.scatter(x,y)\n",
    "plt.show"
   ]
  },
  {
   "cell_type": "code",
   "execution_count": 120,
   "id": "mathematical-poison",
   "metadata": {
    "execution": {
     "iopub.execute_input": "2021-06-02T14:41:41.161838Z",
     "iopub.status.busy": "2021-06-02T14:41:41.161101Z",
     "iopub.status.idle": "2021-06-02T14:41:41.163294Z",
     "shell.execute_reply": "2021-06-02T14:41:41.163812Z",
     "shell.execute_reply.started": "2021-06-02T14:39:41.149251Z"
    },
    "papermill": {
     "duration": 0.221246,
     "end_time": "2021-06-02T14:41:41.164032",
     "exception": false,
     "start_time": "2021-06-02T14:41:40.942786",
     "status": "completed"
    },
    "tags": []
   },
   "outputs": [],
   "source": [
    "x = data['Cooling Load'].values.reshape(-1,1)\n",
    "y = data['Overall Height'].values.reshape(-1,1)\n",
    "\n",
    "x_train, x_test, y_train, y_test = train_test_split(x, y, test_size=0.2)"
   ]
  },
  {
   "cell_type": "code",
   "execution_count": 121,
   "id": "downtown-italic",
   "metadata": {
    "execution": {
     "iopub.execute_input": "2021-06-02T14:41:41.584636Z",
     "iopub.status.busy": "2021-06-02T14:41:41.583926Z",
     "iopub.status.idle": "2021-06-02T14:41:41.591551Z",
     "shell.execute_reply": "2021-06-02T14:41:41.592023Z",
     "shell.execute_reply.started": "2021-06-02T14:39:41.157076Z"
    },
    "papermill": {
     "duration": 0.219526,
     "end_time": "2021-06-02T14:41:41.592233",
     "exception": false,
     "start_time": "2021-06-02T14:41:41.372707",
     "status": "completed"
    },
    "tags": []
   },
   "outputs": [
    {
     "name": "stdout",
     "output_type": "stream",
     "text": [
      "[[0.16486454]]\n",
      "[1.19301437]\n"
     ]
    }
   ],
   "source": [
    "# Visualisasi pakai linier regression\n",
    "\n",
    "lin_reg = LinearRegression()\n",
    "lin_reg.fit(x_train, y_train)\n",
    "\n",
    "# nilai slope/koefisien dan intercept\n",
    "\n",
    "print(lin_reg.coef_)\n",
    "print(lin_reg.intercept_)"
   ]
  },
  {
   "cell_type": "code",
   "execution_count": 122,
   "id": "afraid-arrangement",
   "metadata": {
    "execution": {
     "iopub.execute_input": "2021-06-02T14:41:42.022001Z",
     "iopub.status.busy": "2021-06-02T14:41:42.020977Z",
     "iopub.status.idle": "2021-06-02T14:41:42.025610Z",
     "shell.execute_reply": "2021-06-02T14:41:42.024929Z",
     "shell.execute_reply.started": "2021-06-02T14:39:41.180208Z"
    },
    "papermill": {
     "duration": 0.223661,
     "end_time": "2021-06-02T14:41:42.025775",
     "exception": false,
     "start_time": "2021-06-02T14:41:41.802114",
     "status": "completed"
    },
    "tags": []
   },
   "outputs": [
    {
     "data": {
      "text/plain": [
       "0.8060541511344703"
      ]
     },
     "execution_count": 122,
     "metadata": {},
     "output_type": "execute_result"
    }
   ],
   "source": [
    "# accuracy score\n",
    "\n",
    "lin_reg.score(x_test, y_test)"
   ]
  },
  {
   "cell_type": "code",
   "execution_count": 123,
   "id": "attached-patent",
   "metadata": {
    "execution": {
     "iopub.execute_input": "2021-06-02T14:41:42.473615Z",
     "iopub.status.busy": "2021-06-02T14:41:42.462926Z",
     "iopub.status.idle": "2021-06-02T14:41:42.633181Z",
     "shell.execute_reply": "2021-06-02T14:41:42.632617Z",
     "shell.execute_reply.started": "2021-06-02T14:39:41.201410Z"
    },
    "papermill": {
     "duration": 0.397242,
     "end_time": "2021-06-02T14:41:42.633371",
     "exception": false,
     "start_time": "2021-06-02T14:41:42.236129",
     "status": "completed"
    },
    "tags": []
   },
   "outputs": [
    {
     "data": {
      "text/plain": [
       "Text(0.5, 1.0, 'Cooling Load vs Overall Height')"
      ]
     },
     "execution_count": 123,
     "metadata": {},
     "output_type": "execute_result"
    },
    {
     "data": {
      "image/png": "[encoded data removed]",
      "text/plain": [
       "<Figure size 432x288 with 1 Axes>"
      ]
     },
     "metadata": {
      "needs_background": "light"
     },
     "output_type": "display_data"
    }
   ],
   "source": [
    "y_prediksi = lin_reg.predict(x_test)\n",
    "plt.scatter(x_test, y_test)\n",
    "plt.plot(x_test, y_prediksi, c = 'r')\n",
    "plt.xlabel('Cooling Load')\n",
    "plt.ylabel('Overall Height')\n",
    "plt.title('Cooling Load vs Overall Height')"
   ]
  },
  {
   "cell_type": "markdown",
   "id": "silent-gravity",
   "metadata": {
    "papermill": {
     "duration": 0.214221,
     "end_time": "2021-06-02T14:41:43.058147",
     "exception": false,
     "start_time": "2021-06-02T14:41:42.843926",
     "status": "completed"
    },
    "tags": []
   },
   "source": [
    "## Data Modelling"
   ]
  },
  {
   "cell_type": "code",
   "execution_count": 124,
   "id": "attended-tracker",
   "metadata": {
    "execution": {
     "iopub.execute_input": "2021-06-02T14:41:43.558105Z",
     "iopub.status.busy": "2021-06-02T14:41:43.557091Z",
     "iopub.status.idle": "2021-06-02T14:41:43.559641Z",
     "shell.execute_reply": "2021-06-02T14:41:43.560151Z",
     "shell.execute_reply.started": "2021-06-02T14:39:41.387757Z"
    },
    "papermill": {
     "duration": 0.288322,
     "end_time": "2021-06-02T14:41:43.560384",
     "exception": false,
     "start_time": "2021-06-02T14:41:43.272062",
     "status": "completed"
    },
    "tags": []
   },
   "outputs": [],
   "source": [
    "X = data[[\"Relative Compactness\", \"Surface Area\", \"Wall Area\", \"Roof Area\" , \"Overall Height\"]]\n",
    "Y = data[[\"Heating Load\", \"Cooling Load\"]]"
   ]
  },
  {
   "cell_type": "code",
   "execution_count": 125,
   "id": "frozen-longer",
   "metadata": {
    "execution": {
     "iopub.execute_input": "2021-06-02T14:41:43.996207Z",
     "iopub.status.busy": "2021-06-02T14:41:43.995533Z",
     "iopub.status.idle": "2021-06-02T14:41:44.000462Z",
     "shell.execute_reply": "2021-06-02T14:41:43.999861Z",
     "shell.execute_reply.started": "2021-06-02T14:39:41.398673Z"
    },
    "papermill": {
     "duration": 0.229827,
     "end_time": "2021-06-02T14:41:44.000624",
     "exception": false,
     "start_time": "2021-06-02T14:41:43.770797",
     "status": "completed"
    },
    "tags": []
   },
   "outputs": [
    {
     "data": {
      "text/html": [
       "<div>\n",
       "<style scoped>\n",
       "    .dataframe tbody tr th:only-of-type {\n",
       "        vertical-align: middle;\n",
       "    }\n",
       "\n",
       "    .dataframe tbody tr th {\n",
       "        vertical-align: top;\n",
       "    }\n",
       "\n",
       "    .dataframe thead th {\n",
       "        text-align: right;\n",
       "    }\n",
       "</style>\n",
       "<table border=\"1\" class=\"dataframe\">\n",
       "  <thead>\n",
       "    <tr style=\"text-align: right;\">\n",
       "      <th></th>\n",
       "      <th>Relative Compactness</th>\n",
       "      <th>Surface Area</th>\n",
       "      <th>Wall Area</th>\n",
       "      <th>Roof Area</th>\n",
       "      <th>Overall Height</th>\n",
       "    </tr>\n",
       "  </thead>\n",
       "  <tbody>\n",
       "    <tr>\n",
       "      <th>0</th>\n",
       "      <td>0.98</td>\n",
       "      <td>514.5</td>\n",
       "      <td>294.0</td>\n",
       "      <td>110.25</td>\n",
       "      <td>7.0</td>\n",
       "    </tr>\n",
       "    <tr>\n",
       "      <th>1</th>\n",
       "      <td>0.98</td>\n",
       "      <td>514.5</td>\n",
       "      <td>294.0</td>\n",
       "      <td>110.25</td>\n",
       "      <td>7.0</td>\n",
       "    </tr>\n",
       "    <tr>\n",
       "      <th>2</th>\n",
       "      <td>0.98</td>\n",
       "      <td>514.5</td>\n",
       "      <td>294.0</td>\n",
       "      <td>110.25</td>\n",
       "      <td>7.0</td>\n",
       "    </tr>\n",
       "    <tr>\n",
       "      <th>3</th>\n",
       "      <td>0.98</td>\n",
       "      <td>514.5</td>\n",
       "      <td>294.0</td>\n",
       "      <td>110.25</td>\n",
       "      <td>7.0</td>\n",
       "    </tr>\n",
       "    <tr>\n",
       "      <th>4</th>\n",
       "      <td>0.90</td>\n",
       "      <td>563.5</td>\n",
       "      <td>318.5</td>\n",
       "      <td>122.50</td>\n",
       "      <td>7.0</td>\n",
       "    </tr>\n",
       "  </tbody>\n",
       "</table>\n",
       "</div>"
      ],
      "text/plain": [
       "   Relative Compactness  Surface Area  Wall Area  Roof Area  Overall Height\n",
       "0                  0.98         514.5      294.0     110.25             7.0\n",
       "1                  0.98         514.5      294.0     110.25             7.0\n",
       "2                  0.98         514.5      294.0     110.25             7.0\n",
       "3                  0.98         514.5      294.0     110.25             7.0\n",
       "4                  0.90         563.5      318.5     122.50             7.0"
      ]
     },
     "execution_count": 125,
     "metadata": {},
     "output_type": "execute_result"
    }
   ],
   "source": [
    "X.head()"
   ]
  },
  {
   "cell_type": "code",
   "execution_count": 126,
   "id": "rocky-separation",
   "metadata": {
    "execution": {
     "iopub.execute_input": "2021-06-02T14:41:44.444703Z",
     "iopub.status.busy": "2021-06-02T14:41:44.443946Z",
     "iopub.status.idle": "2021-06-02T14:41:44.449763Z",
     "shell.execute_reply": "2021-06-02T14:41:44.448622Z",
     "shell.execute_reply.started": "2021-06-02T14:39:41.425503Z"
    },
    "papermill": {
     "duration": 0.234341,
     "end_time": "2021-06-02T14:41:44.449973",
     "exception": false,
     "start_time": "2021-06-02T14:41:44.215632",
     "status": "completed"
    },
    "tags": []
   },
   "outputs": [
    {
     "data": {
      "text/html": [
       "<div>\n",
       "<style scoped>\n",
       "    .dataframe tbody tr th:only-of-type {\n",
       "        vertical-align: middle;\n",
       "    }\n",
       "\n",
       "    .dataframe tbody tr th {\n",
       "        vertical-align: top;\n",
       "    }\n",
       "\n",
       "    .dataframe thead th {\n",
       "        text-align: right;\n",
       "    }\n",
       "</style>\n",
       "<table border=\"1\" class=\"dataframe\">\n",
       "  <thead>\n",
       "    <tr style=\"text-align: right;\">\n",
       "      <th></th>\n",
       "      <th>Heating Load</th>\n",
       "      <th>Cooling Load</th>\n",
       "    </tr>\n",
       "  </thead>\n",
       "  <tbody>\n",
       "    <tr>\n",
       "      <th>0</th>\n",
       "      <td>15.55</td>\n",
       "      <td>21.33</td>\n",
       "    </tr>\n",
       "    <tr>\n",
       "      <th>1</th>\n",
       "      <td>15.55</td>\n",
       "      <td>21.33</td>\n",
       "    </tr>\n",
       "    <tr>\n",
       "      <th>2</th>\n",
       "      <td>15.55</td>\n",
       "      <td>21.33</td>\n",
       "    </tr>\n",
       "    <tr>\n",
       "      <th>3</th>\n",
       "      <td>15.55</td>\n",
       "      <td>21.33</td>\n",
       "    </tr>\n",
       "    <tr>\n",
       "      <th>4</th>\n",
       "      <td>20.84</td>\n",
       "      <td>28.28</td>\n",
       "    </tr>\n",
       "  </tbody>\n",
       "</table>\n",
       "</div>"
      ],
      "text/plain": [
       "   Heating Load  Cooling Load\n",
       "0         15.55         21.33\n",
       "1         15.55         21.33\n",
       "2         15.55         21.33\n",
       "3         15.55         21.33\n",
       "4         20.84         28.28"
      ]
     },
     "execution_count": 126,
     "metadata": {},
     "output_type": "execute_result"
    }
   ],
   "source": [
    "Y.head()"
   ]
  },
  {
   "cell_type": "code",
   "execution_count": 127,
   "id": "interpreted-pound",
   "metadata": {
    "execution": {
     "iopub.execute_input": "2021-06-02T14:41:44.883924Z",
     "iopub.status.busy": "2021-06-02T14:41:44.883200Z",
     "iopub.status.idle": "2021-06-02T14:41:44.892830Z",
     "shell.execute_reply": "2021-06-02T14:41:44.892107Z",
     "shell.execute_reply.started": "2021-06-02T14:39:41.447717Z"
    },
    "papermill": {
     "duration": 0.22611,
     "end_time": "2021-06-02T14:41:44.893034",
     "exception": false,
     "start_time": "2021-06-02T14:41:44.666924",
     "status": "completed"
    },
    "tags": []
   },
   "outputs": [],
   "source": [
    "X_train, X_test , Y_train, Y_test = train_test_split(X,Y, test_size= 0.2, random_state = None)"
   ]
  },
  {
   "cell_type": "markdown",
   "id": "geological-bride",
   "metadata": {
    "papermill": {
     "duration": 0.222033,
     "end_time": "2021-06-02T14:41:45.329172",
     "exception": false,
     "start_time": "2021-06-02T14:41:45.107139",
     "status": "completed"
    },
    "tags": []
   },
   "source": [
    "## Standarisasi"
   ]
  },
  {
   "cell_type": "code",
   "execution_count": 128,
   "id": "skilled-concentration",
   "metadata": {
    "execution": {
     "iopub.execute_input": "2021-06-02T14:41:45.760392Z",
     "iopub.status.busy": "2021-06-02T14:41:45.759685Z",
     "iopub.status.idle": "2021-06-02T14:41:45.763478Z",
     "shell.execute_reply": "2021-06-02T14:41:45.762892Z",
     "shell.execute_reply.started": "2021-06-02T14:39:41.471063Z"
    },
    "papermill": {
     "duration": 0.222494,
     "end_time": "2021-06-02T14:41:45.763660",
     "exception": false,
     "start_time": "2021-06-02T14:41:45.541166",
     "status": "completed"
    },
    "tags": []
   },
   "outputs": [],
   "source": [
    "standard = StandardScaler()"
   ]
  },
  {
   "cell_type": "code",
   "execution_count": 129,
   "id": "surprising-valuable",
   "metadata": {
    "execution": {
     "iopub.execute_input": "2021-06-02T14:41:46.212000Z",
     "iopub.status.busy": "2021-06-02T14:41:46.205872Z",
     "iopub.status.idle": "2021-06-02T14:41:46.215705Z",
     "shell.execute_reply": "2021-06-02T14:41:46.215093Z",
     "shell.execute_reply.started": "2021-06-02T14:39:41.491262Z"
    },
    "papermill": {
     "duration": 0.238497,
     "end_time": "2021-06-02T14:41:46.215882",
     "exception": false,
     "start_time": "2021-06-02T14:41:45.977385",
     "status": "completed"
    },
    "tags": []
   },
   "outputs": [],
   "source": [
    "x_train = standard.fit_transform(X_train)\n",
    "y_train = standard.fit_transform(Y_train)\n",
    "x_test = standard.fit_transform(X_test)\n",
    "y_test = standard.fit_transform(Y_test)"
   ]
  },
  {
   "cell_type": "code",
   "execution_count": 130,
   "id": "confident-wellington",
   "metadata": {
    "execution": {
     "iopub.execute_input": "2021-06-02T14:41:46.648143Z",
     "iopub.status.busy": "2021-06-02T14:41:46.647398Z",
     "iopub.status.idle": "2021-06-02T14:41:46.651101Z",
     "shell.execute_reply": "2021-06-02T14:41:46.651569Z",
     "shell.execute_reply.started": "2021-06-02T14:39:41.525270Z"
    },
    "papermill": {
     "duration": 0.22554,
     "end_time": "2021-06-02T14:41:46.651789",
     "exception": false,
     "start_time": "2021-06-02T14:41:46.426249",
     "status": "completed"
    },
    "tags": []
   },
   "outputs": [
    {
     "data": {
      "text/plain": [
       "array([[ 1.01575019,  0.90366204],\n",
       "       [-0.25959405, -0.28034089],\n",
       "       [ 0.98769863,  1.03885206],\n",
       "       [-1.01999176, -1.07621763],\n",
       "       [ 1.61384957,  2.09202594],\n",
       "       [-1.40770442, -1.34332695],\n",
       "       [-0.84867686, -0.91922277],\n",
       "       [ 0.69916828,  0.42395551],\n",
       "       [-1.12318143, -1.04023964],\n",
       "       [ 0.57794545,  1.047574  ],\n",
       "       [-0.55613914, -0.53327706],\n",
       "       [ 0.87549238,  1.16422991],\n",
       "       [-0.84567133, -0.86907163],\n",
       "       [ 1.95748121,  1.49239278],\n",
       "       [ 0.20526041,  0.1906437 ],\n",
       "       [ 0.97667837,  0.86332308],\n",
       "       [ 0.17420332,  0.12413893],\n",
       "       [-0.32070638, -0.11462409],\n",
       "       [-1.08811698, -1.16016628],\n",
       "       [ 0.39160293,  0.30402888],\n",
       "       [-0.79557926, -0.83854485],\n",
       "       [ 0.99370968,  1.20783959],\n",
       "       [ 0.36555505,  0.74666718],\n",
       "       [-0.97090152, -1.1089249 ],\n",
       "       [-0.967896  , -1.1089249 ],\n",
       "       [ 1.4455402 ,  1.151147  ],\n",
       "       [-1.04403595, -1.02170553],\n",
       "       [-0.57116676, -0.43406503],\n",
       "       [ 0.56191599,  0.59512352],\n",
       "       [ 1.01975756,  1.00723504],\n",
       "       [-0.97791441, -0.95302027],\n",
       "       [-0.95988126, -1.11219562],\n",
       "       [-1.12217959, -1.06095424],\n",
       "       [-1.17928456, -1.13400047],\n",
       "       [-0.80259215, -0.83309364],\n",
       "       [-0.80459583, -0.87670333],\n",
       "       [-1.08611329, -1.16234676],\n",
       "       [ 0.97066732,  1.01595698],\n",
       "       [-1.24941346, -1.23539298],\n",
       "       [ 0.22329356,  0.57222844],\n",
       "       [ 0.70718301,  0.60820643],\n",
       "       [-0.34274689, -0.28470186],\n",
       "       [ 0.34652006,  0.30511912],\n",
       "       [ 0.61601543,  0.54388214],\n",
       "       [ 0.65208172,  0.55914553],\n",
       "       [-0.62025699, -0.80692783],\n",
       "       [ 0.64206331,  0.63219176],\n",
       "       [-0.81160872, -0.78730347],\n",
       "       [ 0.73423273,  0.58095038],\n",
       "       [-0.96388863, -0.91595204],\n",
       "       [ 0.2894151 ,  0.4599335 ],\n",
       "       [ 1.3153008 ,  1.02467892],\n",
       "       [-0.73947613, -0.95738124],\n",
       "       [-0.82363082, -0.83309364],\n",
       "       [ 1.17704668,  0.95599366],\n",
       "       [ 0.26336722,  0.16774862],\n",
       "       [ 0.7141959 ,  0.66598926],\n",
       "       [-0.784559  , -0.77967178],\n",
       "       [ 0.95664154,  0.78046468],\n",
       "       [ 0.1711978 ,  0.14703402],\n",
       "       [ 1.87933757,  2.14108684],\n",
       "       [ 1.03177966,  0.89057914],\n",
       "       [-0.76552401, -0.68918168],\n",
       "       [-0.79457742, -1.03260795],\n",
       "       [ 1.07586068,  1.04321303],\n",
       "       [-0.70040431, -0.35011639],\n",
       "       [-1.04403595, -1.04351037],\n",
       "       [ 0.47375394,  0.35963123],\n",
       "       [-0.97591073, -1.1503541 ],\n",
       "       [-0.8376566 , -0.82328146],\n",
       "       [-0.78055163, -0.88324478],\n",
       "       [-0.88674683, -1.16125652],\n",
       "       [ 1.32632106,  2.02552117],\n",
       "       [ 1.82724182,  1.62867305],\n",
       "       [-0.784559  , -0.76658887],\n",
       "       [-0.80058846, -0.79493517],\n",
       "       [-1.11115933, -1.05550303],\n",
       "       [-0.72344667, -0.55835263],\n",
       "       [-0.74749086, -0.956291  ],\n",
       "       [ 0.03895472,  0.45121156],\n",
       "       [-0.7434835 , -0.56380384],\n",
       "       [-1.65616111, -1.48287794],\n",
       "       [ 0.73423273,  0.36508244],\n",
       "       [-0.98192178, -1.15253458],\n",
       "       [-1.00596597, -0.98572754],\n",
       "       [ 0.65007804,  0.91347422],\n",
       "       [ 1.07485884,  0.88294744],\n",
       "       [ 0.87649422,  1.32885646],\n",
       "       [-0.43591816, -0.4722235 ],\n",
       "       [-0.70040431, -0.35011639],\n",
       "       [-1.11216117, -1.05550303],\n",
       "       [ 1.02276308,  0.70414773],\n",
       "       [-0.96088311, -0.96065197],\n",
       "       [-0.56916308, -0.49402835],\n",
       "       [-1.19230849, -1.18524184],\n",
       "       [ 1.39344444,  1.33212719],\n",
       "       [ 1.09589751,  0.94073027],\n",
       "       [-0.9969494 , -1.12309804],\n",
       "       [-0.30467692,  0.30075815],\n",
       "       [ 1.22012586,  1.55344634],\n",
       "       [-0.72545035, -0.6870012 ],\n",
       "       [ 0.91155868,  1.34302961],\n",
       "       [-1.07609488, -1.09584199],\n",
       "       [ 0.58896571,  1.05193497],\n",
       "       [ 0.63505042,  0.87204502],\n",
       "       [ 1.58379433,  2.08439425],\n",
       "       [-1.01297886, -1.01952504],\n",
       "       [-0.96989968, -0.91268132],\n",
       "       [ 0.17821069,  0.14485353],\n",
       "       [-1.0089715 , -1.02497625],\n",
       "       [ 1.82022892,  1.75405089],\n",
       "       [ 0.43067475,  0.61365764],\n",
       "       [ 1.02176124,  0.65290636],\n",
       "       [ 0.10006705,  0.00748303],\n",
       "       [-1.18830113, -1.11655659],\n",
       "       [-0.99093835, -0.94756906],\n",
       "       [-0.96088311, -0.93666664],\n",
       "       [-1.0089715 , -1.08384933],\n",
       "       [ 1.88935599,  2.26210371],\n",
       "       [-0.74648902, -0.80038638],\n",
       "       [ 1.76112028,  1.3866393 ],\n",
       "       [-0.85268422, -0.98899826],\n",
       "       [ 1.02977597,  0.91783519],\n",
       "       [ 1.40546654,  1.18276402],\n",
       "       [-0.9849273 , -1.13400047],\n",
       "       [-0.81461425, -0.85598873],\n",
       "       [ 0.17921253,  0.15684619],\n",
       "       [ 1.39344444,  1.02903988],\n",
       "       [-1.14722563, -1.11655659],\n",
       "       [ 0.68113513,  0.96253512],\n",
       "       [ 0.14915729,  0.14594377],\n",
       "       [-0.59320727, -0.50602101],\n",
       "       [ 0.61701727,  0.55260408],\n",
       "       [-1.09613171, -1.18197112],\n",
       "       [ 0.16919412,  0.1284999 ],\n",
       "       [ 2.02660828,  1.5032952 ],\n",
       "       [ 0.44970974,  0.13831208],\n",
       "       [ 1.74909818,  1.27761509],\n",
       "       [-1.14522194, -1.11873708],\n",
       "       [ 0.20626225,  0.51989682],\n",
       "       [ 1.40747022,  1.29723944],\n",
       "       [ 0.91055683,  1.28742726],\n",
       "       [ 1.79217736,  1.62867305],\n",
       "       [ 0.60399333,  0.56132602],\n",
       "       [-1.58002116, -1.39674881],\n",
       "       [-0.79357557, -0.83527413],\n",
       "       [-0.78556084, -0.80038638],\n",
       "       [-1.18830113, -1.12636877],\n",
       "       [ 0.98769863,  1.151147  ],\n",
       "       [-1.22436742, -1.19614427],\n",
       "       [-0.81060688, -0.82982292],\n",
       "       [ 1.94545911,  1.43460995],\n",
       "       [-0.31269165, -0.21928733],\n",
       "       [ 1.73206687,  1.32122477]])"
      ]
     },
     "execution_count": 130,
     "metadata": {},
     "output_type": "execute_result"
    }
   ],
   "source": [
    "x_train\n",
    "y_train\n",
    "x_test\n",
    "y_test"
   ]
  },
  {
   "cell_type": "markdown",
   "id": "blank-volume",
   "metadata": {
    "papermill": {
     "duration": 0.213399,
     "end_time": "2021-06-02T14:41:47.076215",
     "exception": false,
     "start_time": "2021-06-02T14:41:46.862816",
     "status": "completed"
    },
    "tags": []
   },
   "source": [
    "## Model"
   ]
  },
  {
   "cell_type": "markdown",
   "id": "incoming-scottish",
   "metadata": {
    "papermill": {
     "duration": 0.210819,
     "end_time": "2021-06-02T14:41:47.498220",
     "exception": false,
     "start_time": "2021-06-02T14:41:47.287401",
     "status": "completed"
    },
    "tags": []
   },
   "source": [
    "**Decision Tree**"
   ]
  },
  {
   "cell_type": "code",
   "execution_count": 131,
   "id": "looking-landscape",
   "metadata": {
    "execution": {
     "iopub.execute_input": "2021-06-02T14:41:47.928593Z",
     "iopub.status.busy": "2021-06-02T14:41:47.927761Z",
     "iopub.status.idle": "2021-06-02T14:41:47.931163Z",
     "shell.execute_reply": "2021-06-02T14:41:47.930486Z",
     "shell.execute_reply.started": "2021-06-02T14:39:41.736406Z"
    },
    "papermill": {
     "duration": 0.219978,
     "end_time": "2021-06-02T14:41:47.931342",
     "exception": false,
     "start_time": "2021-06-02T14:41:47.711364",
     "status": "completed"
    },
    "tags": []
   },
   "outputs": [],
   "source": [
    "dt_regressor = DecisionTreeRegressor(random_state = 0)"
   ]
  },
  {
   "cell_type": "code",
   "execution_count": 132,
   "id": "wireless-binding",
   "metadata": {
    "execution": {
     "iopub.execute_input": "2021-06-02T14:41:48.369072Z",
     "iopub.status.busy": "2021-06-02T14:41:48.368352Z",
     "iopub.status.idle": "2021-06-02T14:41:48.376879Z",
     "shell.execute_reply": "2021-06-02T14:41:48.376289Z",
     "shell.execute_reply.started": "2021-06-02T14:39:41.756759Z"
    },
    "papermill": {
     "duration": 0.230484,
     "end_time": "2021-06-02T14:41:48.377056",
     "exception": false,
     "start_time": "2021-06-02T14:41:48.146572",
     "status": "completed"
    },
    "tags": []
   },
   "outputs": [
    {
     "data": {
      "text/plain": [
       "DecisionTreeRegressor(random_state=0)"
      ]
     },
     "execution_count": 132,
     "metadata": {},
     "output_type": "execute_result"
    }
   ],
   "source": [
    "dt_regressor.fit(X_train, Y_train)"
   ]
  },
  {
   "cell_type": "code",
   "execution_count": 133,
   "id": "reverse-domestic",
   "metadata": {
    "execution": {
     "iopub.execute_input": "2021-06-02T14:41:48.841890Z",
     "iopub.status.busy": "2021-06-02T14:41:48.841141Z",
     "iopub.status.idle": "2021-06-02T14:41:48.843927Z",
     "shell.execute_reply": "2021-06-02T14:41:48.843245Z",
     "shell.execute_reply.started": "2021-06-02T14:39:41.782523Z"
    },
    "papermill": {
     "duration": 0.254831,
     "end_time": "2021-06-02T14:41:48.844084",
     "exception": false,
     "start_time": "2021-06-02T14:41:48.589253",
     "status": "completed"
    },
    "tags": []
   },
   "outputs": [],
   "source": [
    "y_early_dt = dt_regressor.predict(X_train)"
   ]
  },
  {
   "cell_type": "code",
   "execution_count": 134,
   "id": "nervous-schedule",
   "metadata": {
    "execution": {
     "iopub.execute_input": "2021-06-02T14:41:49.278953Z",
     "iopub.status.busy": "2021-06-02T14:41:49.278056Z",
     "iopub.status.idle": "2021-06-02T14:41:49.283096Z",
     "shell.execute_reply": "2021-06-02T14:41:49.282555Z",
     "shell.execute_reply.started": "2021-06-02T14:39:41.794993Z"
    },
    "papermill": {
     "duration": 0.224966,
     "end_time": "2021-06-02T14:41:49.283251",
     "exception": false,
     "start_time": "2021-06-02T14:41:49.058285",
     "status": "completed"
    },
    "tags": []
   },
   "outputs": [
    {
     "data": {
      "text/plain": [
       "0.9171369909736999"
      ]
     },
     "execution_count": 134,
     "metadata": {},
     "output_type": "execute_result"
    }
   ],
   "source": [
    "r2_score(Y_train, y_early_dt)"
   ]
  },
  {
   "cell_type": "code",
   "execution_count": 135,
   "id": "special-volleyball",
   "metadata": {
    "execution": {
     "iopub.execute_input": "2021-06-02T14:41:49.719841Z",
     "iopub.status.busy": "2021-06-02T14:41:49.719104Z",
     "iopub.status.idle": "2021-06-02T14:41:49.722156Z",
     "shell.execute_reply": "2021-06-02T14:41:49.721648Z",
     "shell.execute_reply.started": "2021-06-02T14:39:41.815759Z"
    },
    "papermill": {
     "duration": 0.227327,
     "end_time": "2021-06-02T14:41:49.722334",
     "exception": false,
     "start_time": "2021-06-02T14:41:49.495007",
     "status": "completed"
    },
    "tags": []
   },
   "outputs": [],
   "source": [
    "y_after_dt = dt_regressor.predict(X_test)"
   ]
  },
  {
   "cell_type": "code",
   "execution_count": 136,
   "id": "certain-spencer",
   "metadata": {
    "execution": {
     "iopub.execute_input": "2021-06-02T14:41:50.161137Z",
     "iopub.status.busy": "2021-06-02T14:41:50.160177Z",
     "iopub.status.idle": "2021-06-02T14:41:50.164550Z",
     "shell.execute_reply": "2021-06-02T14:41:50.163930Z",
     "shell.execute_reply.started": "2021-06-02T14:39:41.830849Z"
    },
    "papermill": {
     "duration": 0.227561,
     "end_time": "2021-06-02T14:41:50.164716",
     "exception": false,
     "start_time": "2021-06-02T14:41:49.937155",
     "status": "completed"
    },
    "tags": []
   },
   "outputs": [
    {
     "data": {
      "text/plain": [
       "0.9034947334675986"
      ]
     },
     "execution_count": 136,
     "metadata": {},
     "output_type": "execute_result"
    }
   ],
   "source": [
    "r2_score(Y_test, y_after_dt)"
   ]
  },
  {
   "cell_type": "markdown",
   "id": "corresponding-broadcast",
   "metadata": {
    "papermill": {
     "duration": 0.243367,
     "end_time": "2021-06-02T14:41:50.620524",
     "exception": false,
     "start_time": "2021-06-02T14:41:50.377157",
     "status": "completed"
    },
    "tags": []
   },
   "source": [
    "**Random Forest**"
   ]
  },
  {
   "cell_type": "code",
   "execution_count": 137,
   "id": "seasonal-waters",
   "metadata": {
    "execution": {
     "iopub.execute_input": "2021-06-02T14:41:51.065831Z",
     "iopub.status.busy": "2021-06-02T14:41:51.065081Z",
     "iopub.status.idle": "2021-06-02T14:41:51.068664Z",
     "shell.execute_reply": "2021-06-02T14:41:51.068078Z",
     "shell.execute_reply.started": "2021-06-02T14:39:41.852925Z"
    },
    "papermill": {
     "duration": 0.2246,
     "end_time": "2021-06-02T14:41:51.068821",
     "exception": false,
     "start_time": "2021-06-02T14:41:50.844221",
     "status": "completed"
    },
    "tags": []
   },
   "outputs": [],
   "source": [
    "# Create random forest model \n",
    "rf_regressor = RandomForestRegressor(n_estimators = 20, random_state = None)"
   ]
  },
  {
   "cell_type": "code",
   "execution_count": 138,
   "id": "median-lobby",
   "metadata": {
    "execution": {
     "iopub.execute_input": "2021-06-02T14:41:51.519832Z",
     "iopub.status.busy": "2021-06-02T14:41:51.519157Z",
     "iopub.status.idle": "2021-06-02T14:41:51.549655Z",
     "shell.execute_reply": "2021-06-02T14:41:51.549085Z",
     "shell.execute_reply.started": "2021-06-02T14:39:41.872479Z"
    },
    "papermill": {
     "duration": 0.262325,
     "end_time": "2021-06-02T14:41:51.549809",
     "exception": false,
     "start_time": "2021-06-02T14:41:51.287484",
     "status": "completed"
    },
    "tags": []
   },
   "outputs": [
    {
     "data": {
      "text/plain": [
       "RandomForestRegressor(n_estimators=20)"
      ]
     },
     "execution_count": 138,
     "metadata": {},
     "output_type": "execute_result"
    }
   ],
   "source": [
    "# Apply the model\n",
    "rf_regressor.fit(X_train, Y_train)"
   ]
  },
  {
   "cell_type": "code",
   "execution_count": 139,
   "id": "figured-prague",
   "metadata": {
    "execution": {
     "iopub.execute_input": "2021-06-02T14:41:51.985875Z",
     "iopub.status.busy": "2021-06-02T14:41:51.985081Z",
     "iopub.status.idle": "2021-06-02T14:41:51.990875Z",
     "shell.execute_reply": "2021-06-02T14:41:51.990225Z",
     "shell.execute_reply.started": "2021-06-02T14:39:41.935789Z"
    },
    "papermill": {
     "duration": 0.228686,
     "end_time": "2021-06-02T14:41:51.991038",
     "exception": false,
     "start_time": "2021-06-02T14:41:51.762352",
     "status": "completed"
    },
    "tags": []
   },
   "outputs": [],
   "source": [
    "# Early Predicted value\n",
    "y_early = rf_regressor.predict(X_train)"
   ]
  },
  {
   "cell_type": "code",
   "execution_count": 140,
   "id": "consecutive-punishment",
   "metadata": {
    "execution": {
     "iopub.execute_input": "2021-06-02T14:41:52.420152Z",
     "iopub.status.busy": "2021-06-02T14:41:52.419550Z",
     "iopub.status.idle": "2021-06-02T14:41:52.428543Z",
     "shell.execute_reply": "2021-06-02T14:41:52.428011Z",
     "shell.execute_reply.started": "2021-06-02T14:39:41.950221Z"
    },
    "papermill": {
     "duration": 0.224806,
     "end_time": "2021-06-02T14:41:52.428708",
     "exception": false,
     "start_time": "2021-06-02T14:41:52.203902",
     "status": "completed"
    },
    "tags": []
   },
   "outputs": [
    {
     "data": {
      "text/plain": [
       "0.9170077349503647"
      ]
     },
     "execution_count": 140,
     "metadata": {},
     "output_type": "execute_result"
    }
   ],
   "source": [
    "r2_score(Y_train, y_early)"
   ]
  },
  {
   "cell_type": "code",
   "execution_count": 141,
   "id": "earned-chrome",
   "metadata": {
    "execution": {
     "iopub.execute_input": "2021-06-02T14:41:52.865715Z",
     "iopub.status.busy": "2021-06-02T14:41:52.864694Z",
     "iopub.status.idle": "2021-06-02T14:41:52.869899Z",
     "shell.execute_reply": "2021-06-02T14:41:52.869288Z",
     "shell.execute_reply.started": "2021-06-02T14:39:41.965912Z"
    },
    "papermill": {
     "duration": 0.228442,
     "end_time": "2021-06-02T14:41:52.870059",
     "exception": false,
     "start_time": "2021-06-02T14:41:52.641617",
     "status": "completed"
    },
    "tags": []
   },
   "outputs": [],
   "source": [
    "y_after = rf_regressor.predict(X_test)"
   ]
  },
  {
   "cell_type": "code",
   "execution_count": 142,
   "id": "surface-stockholm",
   "metadata": {
    "execution": {
     "iopub.execute_input": "2021-06-02T14:41:53.301971Z",
     "iopub.status.busy": "2021-06-02T14:41:53.301290Z",
     "iopub.status.idle": "2021-06-02T14:41:53.309234Z",
     "shell.execute_reply": "2021-06-02T14:41:53.309796Z",
     "shell.execute_reply.started": "2021-06-02T14:39:41.987556Z"
    },
    "papermill": {
     "duration": 0.225874,
     "end_time": "2021-06-02T14:41:53.309994",
     "exception": false,
     "start_time": "2021-06-02T14:41:53.084120",
     "status": "completed"
    },
    "tags": []
   },
   "outputs": [
    {
     "data": {
      "text/plain": [
       "0.9036352924466694"
      ]
     },
     "execution_count": 142,
     "metadata": {},
     "output_type": "execute_result"
    }
   ],
   "source": [
    "r2_score(Y_test, y_after)"
   ]
  },
  {
   "cell_type": "markdown",
   "id": "universal-convergence",
   "metadata": {
    "papermill": {
     "duration": 0.21435,
     "end_time": "2021-06-02T14:41:53.737498",
     "exception": false,
     "start_time": "2021-06-02T14:41:53.523148",
     "status": "completed"
    },
    "tags": []
   },
   "source": [
    "**K-Neirest Neighbors**"
   ]
  },
  {
   "cell_type": "code",
   "execution_count": 143,
   "id": "processed-barcelona",
   "metadata": {
    "execution": {
     "iopub.execute_input": "2021-06-02T14:41:54.170724Z",
     "iopub.status.busy": "2021-06-02T14:41:54.170064Z",
     "iopub.status.idle": "2021-06-02T14:41:54.174221Z",
     "shell.execute_reply": "2021-06-02T14:41:54.174712Z",
     "shell.execute_reply.started": "2021-06-02T14:39:42.008989Z"
    },
    "papermill": {
     "duration": 0.224087,
     "end_time": "2021-06-02T14:41:54.174921",
     "exception": false,
     "start_time": "2021-06-02T14:41:53.950834",
     "status": "completed"
    },
    "tags": []
   },
   "outputs": [],
   "source": [
    "# Create KNN Model \n",
    "knn = KNeighborsRegressor(n_neighbors=5)"
   ]
  },
  {
   "cell_type": "code",
   "execution_count": 144,
   "id": "cardiac-nursery",
   "metadata": {
    "execution": {
     "iopub.execute_input": "2021-06-02T14:41:54.608226Z",
     "iopub.status.busy": "2021-06-02T14:41:54.607576Z",
     "iopub.status.idle": "2021-06-02T14:41:54.617840Z",
     "shell.execute_reply": "2021-06-02T14:41:54.618415Z",
     "shell.execute_reply.started": "2021-06-02T14:39:42.028455Z"
    },
    "papermill": {
     "duration": 0.23037,
     "end_time": "2021-06-02T14:41:54.618615",
     "exception": false,
     "start_time": "2021-06-02T14:41:54.388245",
     "status": "completed"
    },
    "tags": []
   },
   "outputs": [
    {
     "data": {
      "text/plain": [
       "KNeighborsRegressor()"
      ]
     },
     "execution_count": 144,
     "metadata": {},
     "output_type": "execute_result"
    }
   ],
   "source": [
    "# Apply the model\n",
    "knn.fit(X_train, Y_train)"
   ]
  },
  {
   "cell_type": "code",
   "execution_count": 145,
   "id": "rotary-texas",
   "metadata": {
    "execution": {
     "iopub.execute_input": "2021-06-02T14:41:55.059558Z",
     "iopub.status.busy": "2021-06-02T14:41:55.058917Z",
     "iopub.status.idle": "2021-06-02T14:41:55.067162Z",
     "shell.execute_reply": "2021-06-02T14:41:55.067731Z",
     "shell.execute_reply.started": "2021-06-02T14:39:42.048378Z"
    },
    "papermill": {
     "duration": 0.234515,
     "end_time": "2021-06-02T14:41:55.067935",
     "exception": false,
     "start_time": "2021-06-02T14:41:54.833420",
     "status": "completed"
    },
    "tags": []
   },
   "outputs": [],
   "source": [
    "# Train Predicted Value\n",
    "y_knn = knn.predict(X_train)"
   ]
  },
  {
   "cell_type": "code",
   "execution_count": 146,
   "id": "republican-trader",
   "metadata": {
    "execution": {
     "iopub.execute_input": "2021-06-02T14:41:55.499918Z",
     "iopub.status.busy": "2021-06-02T14:41:55.499231Z",
     "iopub.status.idle": "2021-06-02T14:41:55.507884Z",
     "shell.execute_reply": "2021-06-02T14:41:55.508461Z",
     "shell.execute_reply.started": "2021-06-02T14:39:42.067104Z"
    },
    "papermill": {
     "duration": 0.226206,
     "end_time": "2021-06-02T14:41:55.508665",
     "exception": false,
     "start_time": "2021-06-02T14:41:55.282459",
     "status": "completed"
    },
    "tags": []
   },
   "outputs": [
    {
     "data": {
      "text/plain": [
       "0.9003786570718755"
      ]
     },
     "execution_count": 146,
     "metadata": {},
     "output_type": "execute_result"
    }
   ],
   "source": [
    "# Train Model Score\n",
    "r2_score(Y_train, y_knn)"
   ]
  },
  {
   "cell_type": "code",
   "execution_count": 147,
   "id": "enabling-aviation",
   "metadata": {
    "execution": {
     "iopub.execute_input": "2021-06-02T14:41:55.943510Z",
     "iopub.status.busy": "2021-06-02T14:41:55.942827Z",
     "iopub.status.idle": "2021-06-02T14:41:55.950003Z",
     "shell.execute_reply": "2021-06-02T14:41:55.950751Z",
     "shell.execute_reply.started": "2021-06-02T14:39:42.084919Z"
    },
    "papermill": {
     "duration": 0.225587,
     "end_time": "2021-06-02T14:41:55.950984",
     "exception": false,
     "start_time": "2021-06-02T14:41:55.725397",
     "status": "completed"
    },
    "tags": []
   },
   "outputs": [],
   "source": [
    "# Test Predicted Value\n",
    "y_pred_knn = knn.predict(X_test)"
   ]
  },
  {
   "cell_type": "code",
   "execution_count": 148,
   "id": "printable-subscription",
   "metadata": {
    "execution": {
     "iopub.execute_input": "2021-06-02T14:41:56.387687Z",
     "iopub.status.busy": "2021-06-02T14:41:56.386969Z",
     "iopub.status.idle": "2021-06-02T14:41:56.394601Z",
     "shell.execute_reply": "2021-06-02T14:41:56.395131Z",
     "shell.execute_reply.started": "2021-06-02T14:39:42.100041Z"
    },
    "papermill": {
     "duration": 0.227508,
     "end_time": "2021-06-02T14:41:56.395346",
     "exception": false,
     "start_time": "2021-06-02T14:41:56.167838",
     "status": "completed"
    },
    "tags": []
   },
   "outputs": [
    {
     "data": {
      "text/plain": [
       "0.8879903781401444"
      ]
     },
     "execution_count": 148,
     "metadata": {},
     "output_type": "execute_result"
    }
   ],
   "source": [
    "# Test Model Score\n",
    "r2_score(Y_test, y_pred_knn)"
   ]
  }
 ],
 "metadata": {
  "kernelspec": {
   "display_name": "Python 3",
   "language": "python",
   "name": "python3"
  },
  "language_info": {
   "codemirror_mode": {
    "name": "ipython",
    "version": 3
   },
   "file_extension": ".py",
   "mimetype": "text/x-python",
   "name": "python",
   "nbconvert_exporter": "python",
   "pygments_lexer": "ipython3",
   "version": "3.7.10"
  },
  "papermill": {
   "default_parameters": {},
   "duration": 95.80256,
   "end_time": "2021-06-02T14:41:58.077287",
   "environment_variables": {},
   "exception": null,
   "input_path": "__notebook__.ipynb",
   "output_path": "__notebook__.ipynb",
   "parameters": {},
   "start_time": "2021-06-02T14:40:22.274727",
   "version": "2.3.3"
  }
 },
 "nbformat": 4,
 "nbformat_minor": 5
}
